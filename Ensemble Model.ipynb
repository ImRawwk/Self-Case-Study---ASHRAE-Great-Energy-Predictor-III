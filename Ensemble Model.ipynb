{
 "cells": [
  {
   "cell_type": "markdown",
   "metadata": {},
   "source": [
    "## Ensembling models "
   ]
  },
  {
   "cell_type": "markdown",
   "metadata": {},
   "source": [
    "#### Performing Sampling with replacement on Training Data with sample size of 10000 "
   ]
  },
  {
   "cell_type": "markdown",
   "metadata": {},
   "source": [
    " Considering a Total Dataset of 1000000 points"
   ]
  },
  {
   "cell_type": "code",
   "execution_count": 68,
   "metadata": {},
   "outputs": [],
   "source": [
    "D = final_xtr[0:1000000]"
   ]
  },
  {
   "cell_type": "markdown",
   "metadata": {},
   "source": [
    "Splitting into 80% Train set & 20% Test Set"
   ]
  },
  {
   "cell_type": "code",
   "execution_count": 69,
   "metadata": {},
   "outputs": [],
   "source": [
    "D_train_size = int(len(D) * 0.80)\n",
    "D_train, D_test = D[0:D_train_size], D[D_train_size:len(D)]"
   ]
  },
  {
   "cell_type": "markdown",
   "metadata": {},
   "source": [
    "Splitting D_train into 50% as D! & 50% as D2"
   ]
  },
  {
   "cell_type": "code",
   "execution_count": 70,
   "metadata": {},
   "outputs": [],
   "source": [
    "D1_size = int(len(D_train) * 0.50)\n",
    "D1, D2 = D_train[0:D1_size], D_train[D1_size:len(D_train)]"
   ]
  },
  {
   "cell_type": "code",
   "execution_count": 71,
   "metadata": {},
   "outputs": [],
   "source": [
    "D1y = D1['meter_reading_log1p']"
   ]
  },
  {
   "cell_type": "code",
   "execution_count": 72,
   "metadata": {},
   "outputs": [],
   "source": [
    "D2y = D2['meter_reading_log1p']"
   ]
  },
  {
   "cell_type": "code",
   "execution_count": 73,
   "metadata": {},
   "outputs": [],
   "source": [
    "Dtest_y = D_test['meter_reading_log1p']"
   ]
  },
  {
   "cell_type": "code",
   "execution_count": 74,
   "metadata": {},
   "outputs": [],
   "source": [
    "D1 = D1.drop(columns=['meter_reading', 'meter_reading_log1p'])"
   ]
  },
  {
   "cell_type": "code",
   "execution_count": 75,
   "metadata": {},
   "outputs": [],
   "source": [
    "D2 = D2.drop(columns=['meter_reading', 'meter_reading_log1p'])"
   ]
  },
  {
   "cell_type": "code",
   "execution_count": 76,
   "metadata": {},
   "outputs": [],
   "source": [
    "D_test = D_test.drop(columns=['meter_reading', 'meter_reading_log1p'])"
   ]
  },
  {
   "cell_type": "code",
   "execution_count": 77,
   "metadata": {},
   "outputs": [
    {
     "name": "stdout",
     "output_type": "stream",
     "text": [
      "(400000, 40)\n",
      "(400000, 40)\n",
      "(200000, 40)\n"
     ]
    }
   ],
   "source": [
    "print(D1.shape)\n",
    "print(D2.shape)\n",
    "print(D_test.shape)"
   ]
  },
  {
   "cell_type": "markdown",
   "metadata": {},
   "source": [
    "#### Creating 1000 samples from D1 with each sample having a size of 10000 "
   ]
  },
  {
   "cell_type": "code",
   "execution_count": 99,
   "metadata": {},
   "outputs": [],
   "source": [
    "from sklearn.utils import resample\n",
    "array_x=[]\n",
    "array_y=[]\n",
    "for i in range(1000):\n",
    "    x, y = resample(D1, D1y, random_state=i, n_samples = 10000)\n",
    "    array_x.append(x)\n",
    "    array_y.append(y)"
   ]
  },
  {
   "cell_type": "markdown",
   "metadata": {},
   "source": [
    "#### Training 1000 Base learners with LGBM "
   ]
  },
  {
   "cell_type": "code",
   "execution_count": 100,
   "metadata": {},
   "outputs": [],
   "source": [
    "params = {\n",
    "    \"objective\": \"regression\",\n",
    "    \"boosting\": \"gbdt\",\n",
    "    \"num_leaves\": 800,\n",
    "    \"learning_rate\": 0.03,\n",
    "    \"feature_fraction\": 0.8,\n",
    "    \"reg_lambda\": 5, \n",
    "    \"metric\": \"rmse\",\n",
    "}"
   ]
  },
  {
   "cell_type": "markdown",
   "metadata": {},
   "source": [
    "#### Fitting 1000 samples & making predicitons on D2 as well as Test set "
   ]
  },
  {
   "cell_type": "code",
   "execution_count": 101,
   "metadata": {},
   "outputs": [],
   "source": [
    "D2_pred_df=[]\n",
    "test_pred_df=[]\n",
    "\n",
    "'''This function fits data & makes predictions then saves it in a DataFrame '''\n",
    "\n",
    "def fit_pred(x, y, D2=D2, test_data=D_test, model=lgbm.LGBMRegressor(**params)):\n",
    "    \n",
    "        model = model.fit(x, y)\n",
    "        D2_pred = model.predict(D2)\n",
    "        test_pred = model.predict(D_test)\n",
    "        D2_pred_df_1 = pd.DataFrame((D2_pred))\n",
    "        test_pred_df_1 = pd.DataFrame((test_pred))\n",
    "        D2_pred_df.append(D2_pred_df_1)\n",
    "        test_pred_df.append(test_pred_df_1)"
   ]
  },
  {
   "cell_type": "code",
   "execution_count": 102,
   "metadata": {},
   "outputs": [],
   "source": [
    "for i in range(1000):\n",
    "    fit_pred(array_x[i], array_y[i], D2=D2, test_data=D_test, model=lgbm.LGBMRegressor(**params))"
   ]
  },
  {
   "cell_type": "markdown",
   "metadata": {},
   "source": [
    "#### Concatenating all the predictions to form a DataFrame of Predicted Values"
   ]
  },
  {
   "cell_type": "code",
   "execution_count": 103,
   "metadata": {},
   "outputs": [],
   "source": [
    "D2_pred = pd.DataFrame(D2_pred_df[0])\n",
    "for i in range(999):\n",
    "    D2_pred = pd.concat([D2_pred, D2_pred_df[i+1]], axis=1)"
   ]
  },
  {
   "cell_type": "code",
   "execution_count": 104,
   "metadata": {},
   "outputs": [],
   "source": [
    "test_pred = pd.DataFrame(test_pred_df[0])\n",
    "for i in range(999):\n",
    "    test_pred = pd.concat([test_pred, test_pred_df[i+1]], axis=1)"
   ]
  },
  {
   "cell_type": "code",
   "execution_count": 105,
   "metadata": {},
   "outputs": [
    {
     "data": {
      "text/html": [
       "<div>\n",
       "<style scoped>\n",
       "    .dataframe tbody tr th:only-of-type {\n",
       "        vertical-align: middle;\n",
       "    }\n",
       "\n",
       "    .dataframe tbody tr th {\n",
       "        vertical-align: top;\n",
       "    }\n",
       "\n",
       "    .dataframe thead th {\n",
       "        text-align: right;\n",
       "    }\n",
       "</style>\n",
       "<table border=\"1\" class=\"dataframe\">\n",
       "  <thead>\n",
       "    <tr style=\"text-align: right;\">\n",
       "      <th></th>\n",
       "      <th>0</th>\n",
       "      <th>0</th>\n",
       "      <th>0</th>\n",
       "      <th>0</th>\n",
       "      <th>0</th>\n",
       "      <th>0</th>\n",
       "      <th>0</th>\n",
       "      <th>0</th>\n",
       "      <th>0</th>\n",
       "      <th>0</th>\n",
       "      <th>...</th>\n",
       "      <th>0</th>\n",
       "      <th>0</th>\n",
       "      <th>0</th>\n",
       "      <th>0</th>\n",
       "      <th>0</th>\n",
       "      <th>0</th>\n",
       "      <th>0</th>\n",
       "      <th>0</th>\n",
       "      <th>0</th>\n",
       "      <th>0</th>\n",
       "    </tr>\n",
       "  </thead>\n",
       "  <tbody>\n",
       "    <tr>\n",
       "      <th>0</th>\n",
       "      <td>5.406890</td>\n",
       "      <td>4.676831</td>\n",
       "      <td>5.194169</td>\n",
       "      <td>4.178576</td>\n",
       "      <td>5.545815</td>\n",
       "      <td>5.493564</td>\n",
       "      <td>4.559661</td>\n",
       "      <td>5.562041</td>\n",
       "      <td>4.831146</td>\n",
       "      <td>5.211310</td>\n",
       "      <td>...</td>\n",
       "      <td>4.893570</td>\n",
       "      <td>5.250194</td>\n",
       "      <td>4.974121</td>\n",
       "      <td>5.332544</td>\n",
       "      <td>5.533834</td>\n",
       "      <td>4.843594</td>\n",
       "      <td>4.967505</td>\n",
       "      <td>5.290789</td>\n",
       "      <td>4.991265</td>\n",
       "      <td>4.695826</td>\n",
       "    </tr>\n",
       "    <tr>\n",
       "      <th>1</th>\n",
       "      <td>4.789692</td>\n",
       "      <td>4.799530</td>\n",
       "      <td>4.467926</td>\n",
       "      <td>5.300593</td>\n",
       "      <td>4.569659</td>\n",
       "      <td>5.432114</td>\n",
       "      <td>4.781309</td>\n",
       "      <td>4.931889</td>\n",
       "      <td>4.780574</td>\n",
       "      <td>4.591454</td>\n",
       "      <td>...</td>\n",
       "      <td>4.548010</td>\n",
       "      <td>4.918019</td>\n",
       "      <td>4.729093</td>\n",
       "      <td>4.871251</td>\n",
       "      <td>4.681666</td>\n",
       "      <td>5.066974</td>\n",
       "      <td>4.810571</td>\n",
       "      <td>4.859555</td>\n",
       "      <td>5.157564</td>\n",
       "      <td>4.671045</td>\n",
       "    </tr>\n",
       "    <tr>\n",
       "      <th>2</th>\n",
       "      <td>4.366646</td>\n",
       "      <td>4.786084</td>\n",
       "      <td>4.297739</td>\n",
       "      <td>4.771034</td>\n",
       "      <td>4.803522</td>\n",
       "      <td>4.605854</td>\n",
       "      <td>4.791783</td>\n",
       "      <td>4.592001</td>\n",
       "      <td>4.594080</td>\n",
       "      <td>4.493253</td>\n",
       "      <td>...</td>\n",
       "      <td>4.239320</td>\n",
       "      <td>4.468863</td>\n",
       "      <td>4.803478</td>\n",
       "      <td>4.672406</td>\n",
       "      <td>4.530058</td>\n",
       "      <td>4.887118</td>\n",
       "      <td>4.832490</td>\n",
       "      <td>4.776520</td>\n",
       "      <td>4.679661</td>\n",
       "      <td>4.584151</td>\n",
       "    </tr>\n",
       "    <tr>\n",
       "      <th>3</th>\n",
       "      <td>3.912403</td>\n",
       "      <td>2.837564</td>\n",
       "      <td>3.468420</td>\n",
       "      <td>3.410372</td>\n",
       "      <td>3.306435</td>\n",
       "      <td>4.115559</td>\n",
       "      <td>4.554656</td>\n",
       "      <td>3.099567</td>\n",
       "      <td>4.619218</td>\n",
       "      <td>4.277430</td>\n",
       "      <td>...</td>\n",
       "      <td>3.920322</td>\n",
       "      <td>3.755373</td>\n",
       "      <td>3.822495</td>\n",
       "      <td>3.966327</td>\n",
       "      <td>3.630068</td>\n",
       "      <td>3.427063</td>\n",
       "      <td>4.176191</td>\n",
       "      <td>3.102986</td>\n",
       "      <td>4.470023</td>\n",
       "      <td>3.550705</td>\n",
       "    </tr>\n",
       "    <tr>\n",
       "      <th>4</th>\n",
       "      <td>3.759165</td>\n",
       "      <td>3.158892</td>\n",
       "      <td>3.839723</td>\n",
       "      <td>4.016388</td>\n",
       "      <td>3.893071</td>\n",
       "      <td>3.527043</td>\n",
       "      <td>3.826708</td>\n",
       "      <td>4.172214</td>\n",
       "      <td>4.024904</td>\n",
       "      <td>4.402679</td>\n",
       "      <td>...</td>\n",
       "      <td>3.235085</td>\n",
       "      <td>4.334998</td>\n",
       "      <td>4.043826</td>\n",
       "      <td>3.725020</td>\n",
       "      <td>4.055716</td>\n",
       "      <td>3.909643</td>\n",
       "      <td>3.953403</td>\n",
       "      <td>3.974847</td>\n",
       "      <td>4.037254</td>\n",
       "      <td>4.191863</td>\n",
       "    </tr>\n",
       "    <tr>\n",
       "      <th>...</th>\n",
       "      <td>...</td>\n",
       "      <td>...</td>\n",
       "      <td>...</td>\n",
       "      <td>...</td>\n",
       "      <td>...</td>\n",
       "      <td>...</td>\n",
       "      <td>...</td>\n",
       "      <td>...</td>\n",
       "      <td>...</td>\n",
       "      <td>...</td>\n",
       "      <td>...</td>\n",
       "      <td>...</td>\n",
       "      <td>...</td>\n",
       "      <td>...</td>\n",
       "      <td>...</td>\n",
       "      <td>...</td>\n",
       "      <td>...</td>\n",
       "      <td>...</td>\n",
       "      <td>...</td>\n",
       "      <td>...</td>\n",
       "      <td>...</td>\n",
       "    </tr>\n",
       "    <tr>\n",
       "      <th>399995</th>\n",
       "      <td>4.336449</td>\n",
       "      <td>4.273035</td>\n",
       "      <td>4.203988</td>\n",
       "      <td>3.684921</td>\n",
       "      <td>4.288318</td>\n",
       "      <td>2.678922</td>\n",
       "      <td>4.991395</td>\n",
       "      <td>4.652082</td>\n",
       "      <td>4.425072</td>\n",
       "      <td>4.734588</td>\n",
       "      <td>...</td>\n",
       "      <td>4.009313</td>\n",
       "      <td>5.144730</td>\n",
       "      <td>5.336997</td>\n",
       "      <td>4.931485</td>\n",
       "      <td>4.371347</td>\n",
       "      <td>3.756637</td>\n",
       "      <td>4.671143</td>\n",
       "      <td>4.127221</td>\n",
       "      <td>3.896071</td>\n",
       "      <td>3.163067</td>\n",
       "    </tr>\n",
       "    <tr>\n",
       "      <th>399996</th>\n",
       "      <td>3.466616</td>\n",
       "      <td>3.355224</td>\n",
       "      <td>3.605666</td>\n",
       "      <td>3.328009</td>\n",
       "      <td>3.488745</td>\n",
       "      <td>2.698223</td>\n",
       "      <td>3.405883</td>\n",
       "      <td>3.007074</td>\n",
       "      <td>3.661641</td>\n",
       "      <td>3.246319</td>\n",
       "      <td>...</td>\n",
       "      <td>3.487070</td>\n",
       "      <td>3.755997</td>\n",
       "      <td>3.687489</td>\n",
       "      <td>3.162192</td>\n",
       "      <td>3.359804</td>\n",
       "      <td>3.454168</td>\n",
       "      <td>3.530466</td>\n",
       "      <td>3.157016</td>\n",
       "      <td>3.630160</td>\n",
       "      <td>3.783548</td>\n",
       "    </tr>\n",
       "    <tr>\n",
       "      <th>399997</th>\n",
       "      <td>4.418525</td>\n",
       "      <td>4.028820</td>\n",
       "      <td>5.265522</td>\n",
       "      <td>4.571856</td>\n",
       "      <td>4.867911</td>\n",
       "      <td>4.212261</td>\n",
       "      <td>4.766486</td>\n",
       "      <td>4.687352</td>\n",
       "      <td>5.174721</td>\n",
       "      <td>5.387937</td>\n",
       "      <td>...</td>\n",
       "      <td>4.168133</td>\n",
       "      <td>5.630346</td>\n",
       "      <td>5.211793</td>\n",
       "      <td>4.965116</td>\n",
       "      <td>4.851971</td>\n",
       "      <td>4.385410</td>\n",
       "      <td>5.000381</td>\n",
       "      <td>4.493340</td>\n",
       "      <td>3.978167</td>\n",
       "      <td>3.714197</td>\n",
       "    </tr>\n",
       "    <tr>\n",
       "      <th>399998</th>\n",
       "      <td>4.500630</td>\n",
       "      <td>4.454337</td>\n",
       "      <td>4.424156</td>\n",
       "      <td>4.661215</td>\n",
       "      <td>4.532431</td>\n",
       "      <td>4.414233</td>\n",
       "      <td>4.635461</td>\n",
       "      <td>4.205366</td>\n",
       "      <td>4.802977</td>\n",
       "      <td>4.623285</td>\n",
       "      <td>...</td>\n",
       "      <td>4.318945</td>\n",
       "      <td>4.264591</td>\n",
       "      <td>4.212317</td>\n",
       "      <td>4.104954</td>\n",
       "      <td>4.518453</td>\n",
       "      <td>4.197425</td>\n",
       "      <td>4.352279</td>\n",
       "      <td>4.520133</td>\n",
       "      <td>4.493985</td>\n",
       "      <td>4.274006</td>\n",
       "    </tr>\n",
       "    <tr>\n",
       "      <th>399999</th>\n",
       "      <td>5.685146</td>\n",
       "      <td>5.198329</td>\n",
       "      <td>6.251355</td>\n",
       "      <td>5.581443</td>\n",
       "      <td>5.688952</td>\n",
       "      <td>5.148442</td>\n",
       "      <td>5.937981</td>\n",
       "      <td>5.577857</td>\n",
       "      <td>5.656662</td>\n",
       "      <td>5.699660</td>\n",
       "      <td>...</td>\n",
       "      <td>5.571094</td>\n",
       "      <td>5.933996</td>\n",
       "      <td>5.979469</td>\n",
       "      <td>5.938338</td>\n",
       "      <td>5.889233</td>\n",
       "      <td>5.982294</td>\n",
       "      <td>5.899283</td>\n",
       "      <td>5.879697</td>\n",
       "      <td>5.958447</td>\n",
       "      <td>5.681969</td>\n",
       "    </tr>\n",
       "  </tbody>\n",
       "</table>\n",
       "<p>400000 rows × 1000 columns</p>\n",
       "</div>"
      ],
      "text/plain": [
       "               0         0         0         0         0         0         0  \\\n",
       "0       5.406890  4.676831  5.194169  4.178576  5.545815  5.493564  4.559661   \n",
       "1       4.789692  4.799530  4.467926  5.300593  4.569659  5.432114  4.781309   \n",
       "2       4.366646  4.786084  4.297739  4.771034  4.803522  4.605854  4.791783   \n",
       "3       3.912403  2.837564  3.468420  3.410372  3.306435  4.115559  4.554656   \n",
       "4       3.759165  3.158892  3.839723  4.016388  3.893071  3.527043  3.826708   \n",
       "...          ...       ...       ...       ...       ...       ...       ...   \n",
       "399995  4.336449  4.273035  4.203988  3.684921  4.288318  2.678922  4.991395   \n",
       "399996  3.466616  3.355224  3.605666  3.328009  3.488745  2.698223  3.405883   \n",
       "399997  4.418525  4.028820  5.265522  4.571856  4.867911  4.212261  4.766486   \n",
       "399998  4.500630  4.454337  4.424156  4.661215  4.532431  4.414233  4.635461   \n",
       "399999  5.685146  5.198329  6.251355  5.581443  5.688952  5.148442  5.937981   \n",
       "\n",
       "               0         0         0  ...         0         0         0  \\\n",
       "0       5.562041  4.831146  5.211310  ...  4.893570  5.250194  4.974121   \n",
       "1       4.931889  4.780574  4.591454  ...  4.548010  4.918019  4.729093   \n",
       "2       4.592001  4.594080  4.493253  ...  4.239320  4.468863  4.803478   \n",
       "3       3.099567  4.619218  4.277430  ...  3.920322  3.755373  3.822495   \n",
       "4       4.172214  4.024904  4.402679  ...  3.235085  4.334998  4.043826   \n",
       "...          ...       ...       ...  ...       ...       ...       ...   \n",
       "399995  4.652082  4.425072  4.734588  ...  4.009313  5.144730  5.336997   \n",
       "399996  3.007074  3.661641  3.246319  ...  3.487070  3.755997  3.687489   \n",
       "399997  4.687352  5.174721  5.387937  ...  4.168133  5.630346  5.211793   \n",
       "399998  4.205366  4.802977  4.623285  ...  4.318945  4.264591  4.212317   \n",
       "399999  5.577857  5.656662  5.699660  ...  5.571094  5.933996  5.979469   \n",
       "\n",
       "               0         0         0         0         0         0         0  \n",
       "0       5.332544  5.533834  4.843594  4.967505  5.290789  4.991265  4.695826  \n",
       "1       4.871251  4.681666  5.066974  4.810571  4.859555  5.157564  4.671045  \n",
       "2       4.672406  4.530058  4.887118  4.832490  4.776520  4.679661  4.584151  \n",
       "3       3.966327  3.630068  3.427063  4.176191  3.102986  4.470023  3.550705  \n",
       "4       3.725020  4.055716  3.909643  3.953403  3.974847  4.037254  4.191863  \n",
       "...          ...       ...       ...       ...       ...       ...       ...  \n",
       "399995  4.931485  4.371347  3.756637  4.671143  4.127221  3.896071  3.163067  \n",
       "399996  3.162192  3.359804  3.454168  3.530466  3.157016  3.630160  3.783548  \n",
       "399997  4.965116  4.851971  4.385410  5.000381  4.493340  3.978167  3.714197  \n",
       "399998  4.104954  4.518453  4.197425  4.352279  4.520133  4.493985  4.274006  \n",
       "399999  5.938338  5.889233  5.982294  5.899283  5.879697  5.958447  5.681969  \n",
       "\n",
       "[400000 rows x 1000 columns]"
      ]
     },
     "execution_count": 105,
     "metadata": {},
     "output_type": "execute_result"
    }
   ],
   "source": [
    "D2_pred"
   ]
  },
  {
   "cell_type": "code",
   "execution_count": 106,
   "metadata": {},
   "outputs": [
    {
     "data": {
      "text/html": [
       "<div>\n",
       "<style scoped>\n",
       "    .dataframe tbody tr th:only-of-type {\n",
       "        vertical-align: middle;\n",
       "    }\n",
       "\n",
       "    .dataframe tbody tr th {\n",
       "        vertical-align: top;\n",
       "    }\n",
       "\n",
       "    .dataframe thead th {\n",
       "        text-align: right;\n",
       "    }\n",
       "</style>\n",
       "<table border=\"1\" class=\"dataframe\">\n",
       "  <thead>\n",
       "    <tr style=\"text-align: right;\">\n",
       "      <th></th>\n",
       "      <th>0</th>\n",
       "      <th>0</th>\n",
       "      <th>0</th>\n",
       "      <th>0</th>\n",
       "      <th>0</th>\n",
       "      <th>0</th>\n",
       "      <th>0</th>\n",
       "      <th>0</th>\n",
       "      <th>0</th>\n",
       "      <th>0</th>\n",
       "      <th>...</th>\n",
       "      <th>0</th>\n",
       "      <th>0</th>\n",
       "      <th>0</th>\n",
       "      <th>0</th>\n",
       "      <th>0</th>\n",
       "      <th>0</th>\n",
       "      <th>0</th>\n",
       "      <th>0</th>\n",
       "      <th>0</th>\n",
       "      <th>0</th>\n",
       "    </tr>\n",
       "  </thead>\n",
       "  <tbody>\n",
       "    <tr>\n",
       "      <th>0</th>\n",
       "      <td>4.727845</td>\n",
       "      <td>5.417161</td>\n",
       "      <td>5.854926</td>\n",
       "      <td>4.808374</td>\n",
       "      <td>5.633997</td>\n",
       "      <td>4.573354</td>\n",
       "      <td>5.949672</td>\n",
       "      <td>4.612934</td>\n",
       "      <td>4.716130</td>\n",
       "      <td>4.897125</td>\n",
       "      <td>...</td>\n",
       "      <td>4.981907</td>\n",
       "      <td>5.132680</td>\n",
       "      <td>5.896355</td>\n",
       "      <td>5.424908</td>\n",
       "      <td>5.254892</td>\n",
       "      <td>5.355361</td>\n",
       "      <td>5.691735</td>\n",
       "      <td>4.721754</td>\n",
       "      <td>4.454271</td>\n",
       "      <td>5.443764</td>\n",
       "    </tr>\n",
       "    <tr>\n",
       "      <th>1</th>\n",
       "      <td>7.474527</td>\n",
       "      <td>6.343790</td>\n",
       "      <td>7.470690</td>\n",
       "      <td>6.784343</td>\n",
       "      <td>7.410874</td>\n",
       "      <td>6.546529</td>\n",
       "      <td>6.073743</td>\n",
       "      <td>6.022096</td>\n",
       "      <td>6.705705</td>\n",
       "      <td>5.941748</td>\n",
       "      <td>...</td>\n",
       "      <td>6.227260</td>\n",
       "      <td>6.778938</td>\n",
       "      <td>7.154992</td>\n",
       "      <td>7.613619</td>\n",
       "      <td>6.959066</td>\n",
       "      <td>6.890251</td>\n",
       "      <td>7.610331</td>\n",
       "      <td>6.293382</td>\n",
       "      <td>6.712299</td>\n",
       "      <td>5.921689</td>\n",
       "    </tr>\n",
       "    <tr>\n",
       "      <th>2</th>\n",
       "      <td>4.270240</td>\n",
       "      <td>4.499316</td>\n",
       "      <td>4.768082</td>\n",
       "      <td>4.624256</td>\n",
       "      <td>4.652767</td>\n",
       "      <td>4.620062</td>\n",
       "      <td>4.365222</td>\n",
       "      <td>4.495624</td>\n",
       "      <td>4.959059</td>\n",
       "      <td>4.905536</td>\n",
       "      <td>...</td>\n",
       "      <td>4.376218</td>\n",
       "      <td>4.615318</td>\n",
       "      <td>4.346806</td>\n",
       "      <td>4.373204</td>\n",
       "      <td>4.650491</td>\n",
       "      <td>4.437957</td>\n",
       "      <td>4.577650</td>\n",
       "      <td>4.624518</td>\n",
       "      <td>4.294511</td>\n",
       "      <td>4.786368</td>\n",
       "    </tr>\n",
       "    <tr>\n",
       "      <th>3</th>\n",
       "      <td>2.682829</td>\n",
       "      <td>2.866852</td>\n",
       "      <td>3.356389</td>\n",
       "      <td>3.968579</td>\n",
       "      <td>3.397535</td>\n",
       "      <td>3.370532</td>\n",
       "      <td>2.627758</td>\n",
       "      <td>3.213573</td>\n",
       "      <td>3.818444</td>\n",
       "      <td>2.425537</td>\n",
       "      <td>...</td>\n",
       "      <td>2.877457</td>\n",
       "      <td>3.144647</td>\n",
       "      <td>2.669209</td>\n",
       "      <td>2.583436</td>\n",
       "      <td>3.938599</td>\n",
       "      <td>3.800186</td>\n",
       "      <td>3.187400</td>\n",
       "      <td>3.147807</td>\n",
       "      <td>2.922814</td>\n",
       "      <td>4.221638</td>\n",
       "    </tr>\n",
       "    <tr>\n",
       "      <th>4</th>\n",
       "      <td>4.211944</td>\n",
       "      <td>4.723949</td>\n",
       "      <td>5.590540</td>\n",
       "      <td>5.137603</td>\n",
       "      <td>6.332336</td>\n",
       "      <td>4.992555</td>\n",
       "      <td>4.851891</td>\n",
       "      <td>4.199922</td>\n",
       "      <td>4.829161</td>\n",
       "      <td>6.316487</td>\n",
       "      <td>...</td>\n",
       "      <td>4.058975</td>\n",
       "      <td>5.677038</td>\n",
       "      <td>5.143606</td>\n",
       "      <td>4.948030</td>\n",
       "      <td>4.536964</td>\n",
       "      <td>5.365379</td>\n",
       "      <td>4.903311</td>\n",
       "      <td>5.516043</td>\n",
       "      <td>3.854869</td>\n",
       "      <td>5.419966</td>\n",
       "    </tr>\n",
       "    <tr>\n",
       "      <th>...</th>\n",
       "      <td>...</td>\n",
       "      <td>...</td>\n",
       "      <td>...</td>\n",
       "      <td>...</td>\n",
       "      <td>...</td>\n",
       "      <td>...</td>\n",
       "      <td>...</td>\n",
       "      <td>...</td>\n",
       "      <td>...</td>\n",
       "      <td>...</td>\n",
       "      <td>...</td>\n",
       "      <td>...</td>\n",
       "      <td>...</td>\n",
       "      <td>...</td>\n",
       "      <td>...</td>\n",
       "      <td>...</td>\n",
       "      <td>...</td>\n",
       "      <td>...</td>\n",
       "      <td>...</td>\n",
       "      <td>...</td>\n",
       "      <td>...</td>\n",
       "    </tr>\n",
       "    <tr>\n",
       "      <th>199995</th>\n",
       "      <td>5.983210</td>\n",
       "      <td>6.720848</td>\n",
       "      <td>6.438583</td>\n",
       "      <td>6.371096</td>\n",
       "      <td>6.635252</td>\n",
       "      <td>6.991361</td>\n",
       "      <td>7.067873</td>\n",
       "      <td>6.190016</td>\n",
       "      <td>7.078602</td>\n",
       "      <td>6.806992</td>\n",
       "      <td>...</td>\n",
       "      <td>6.822481</td>\n",
       "      <td>7.214806</td>\n",
       "      <td>6.471556</td>\n",
       "      <td>6.631453</td>\n",
       "      <td>5.651428</td>\n",
       "      <td>6.494923</td>\n",
       "      <td>6.418945</td>\n",
       "      <td>6.294427</td>\n",
       "      <td>7.165361</td>\n",
       "      <td>6.545907</td>\n",
       "    </tr>\n",
       "    <tr>\n",
       "      <th>199996</th>\n",
       "      <td>2.247749</td>\n",
       "      <td>3.880316</td>\n",
       "      <td>2.612840</td>\n",
       "      <td>4.073130</td>\n",
       "      <td>4.865105</td>\n",
       "      <td>4.022435</td>\n",
       "      <td>4.453422</td>\n",
       "      <td>4.437582</td>\n",
       "      <td>2.872044</td>\n",
       "      <td>5.410846</td>\n",
       "      <td>...</td>\n",
       "      <td>3.827830</td>\n",
       "      <td>3.145103</td>\n",
       "      <td>3.577875</td>\n",
       "      <td>3.865959</td>\n",
       "      <td>5.109585</td>\n",
       "      <td>3.496965</td>\n",
       "      <td>2.017558</td>\n",
       "      <td>4.282209</td>\n",
       "      <td>5.052475</td>\n",
       "      <td>4.213477</td>\n",
       "    </tr>\n",
       "    <tr>\n",
       "      <th>199997</th>\n",
       "      <td>7.450871</td>\n",
       "      <td>7.577063</td>\n",
       "      <td>7.124444</td>\n",
       "      <td>7.055494</td>\n",
       "      <td>7.471737</td>\n",
       "      <td>7.629081</td>\n",
       "      <td>6.521905</td>\n",
       "      <td>7.323249</td>\n",
       "      <td>7.462433</td>\n",
       "      <td>7.789647</td>\n",
       "      <td>...</td>\n",
       "      <td>7.375754</td>\n",
       "      <td>7.578001</td>\n",
       "      <td>7.336177</td>\n",
       "      <td>8.013768</td>\n",
       "      <td>7.768514</td>\n",
       "      <td>7.387824</td>\n",
       "      <td>6.922495</td>\n",
       "      <td>7.596874</td>\n",
       "      <td>7.537573</td>\n",
       "      <td>6.981371</td>\n",
       "    </tr>\n",
       "    <tr>\n",
       "      <th>199998</th>\n",
       "      <td>4.118501</td>\n",
       "      <td>5.105231</td>\n",
       "      <td>4.762551</td>\n",
       "      <td>5.368031</td>\n",
       "      <td>5.911019</td>\n",
       "      <td>6.327426</td>\n",
       "      <td>6.613160</td>\n",
       "      <td>6.128956</td>\n",
       "      <td>5.361384</td>\n",
       "      <td>6.310145</td>\n",
       "      <td>...</td>\n",
       "      <td>4.290434</td>\n",
       "      <td>5.619237</td>\n",
       "      <td>5.005396</td>\n",
       "      <td>4.663025</td>\n",
       "      <td>4.150372</td>\n",
       "      <td>5.282868</td>\n",
       "      <td>6.252950</td>\n",
       "      <td>5.181225</td>\n",
       "      <td>4.047866</td>\n",
       "      <td>4.311078</td>\n",
       "    </tr>\n",
       "    <tr>\n",
       "      <th>199999</th>\n",
       "      <td>1.883071</td>\n",
       "      <td>3.163717</td>\n",
       "      <td>2.077242</td>\n",
       "      <td>2.701456</td>\n",
       "      <td>4.227892</td>\n",
       "      <td>3.619785</td>\n",
       "      <td>3.937040</td>\n",
       "      <td>3.998228</td>\n",
       "      <td>1.522874</td>\n",
       "      <td>4.641391</td>\n",
       "      <td>...</td>\n",
       "      <td>3.142108</td>\n",
       "      <td>2.534392</td>\n",
       "      <td>3.208003</td>\n",
       "      <td>2.869424</td>\n",
       "      <td>3.774613</td>\n",
       "      <td>2.593490</td>\n",
       "      <td>1.367782</td>\n",
       "      <td>2.757768</td>\n",
       "      <td>2.872184</td>\n",
       "      <td>3.442861</td>\n",
       "    </tr>\n",
       "  </tbody>\n",
       "</table>\n",
       "<p>200000 rows × 1000 columns</p>\n",
       "</div>"
      ],
      "text/plain": [
       "               0         0         0         0         0         0         0  \\\n",
       "0       4.727845  5.417161  5.854926  4.808374  5.633997  4.573354  5.949672   \n",
       "1       7.474527  6.343790  7.470690  6.784343  7.410874  6.546529  6.073743   \n",
       "2       4.270240  4.499316  4.768082  4.624256  4.652767  4.620062  4.365222   \n",
       "3       2.682829  2.866852  3.356389  3.968579  3.397535  3.370532  2.627758   \n",
       "4       4.211944  4.723949  5.590540  5.137603  6.332336  4.992555  4.851891   \n",
       "...          ...       ...       ...       ...       ...       ...       ...   \n",
       "199995  5.983210  6.720848  6.438583  6.371096  6.635252  6.991361  7.067873   \n",
       "199996  2.247749  3.880316  2.612840  4.073130  4.865105  4.022435  4.453422   \n",
       "199997  7.450871  7.577063  7.124444  7.055494  7.471737  7.629081  6.521905   \n",
       "199998  4.118501  5.105231  4.762551  5.368031  5.911019  6.327426  6.613160   \n",
       "199999  1.883071  3.163717  2.077242  2.701456  4.227892  3.619785  3.937040   \n",
       "\n",
       "               0         0         0  ...         0         0         0  \\\n",
       "0       4.612934  4.716130  4.897125  ...  4.981907  5.132680  5.896355   \n",
       "1       6.022096  6.705705  5.941748  ...  6.227260  6.778938  7.154992   \n",
       "2       4.495624  4.959059  4.905536  ...  4.376218  4.615318  4.346806   \n",
       "3       3.213573  3.818444  2.425537  ...  2.877457  3.144647  2.669209   \n",
       "4       4.199922  4.829161  6.316487  ...  4.058975  5.677038  5.143606   \n",
       "...          ...       ...       ...  ...       ...       ...       ...   \n",
       "199995  6.190016  7.078602  6.806992  ...  6.822481  7.214806  6.471556   \n",
       "199996  4.437582  2.872044  5.410846  ...  3.827830  3.145103  3.577875   \n",
       "199997  7.323249  7.462433  7.789647  ...  7.375754  7.578001  7.336177   \n",
       "199998  6.128956  5.361384  6.310145  ...  4.290434  5.619237  5.005396   \n",
       "199999  3.998228  1.522874  4.641391  ...  3.142108  2.534392  3.208003   \n",
       "\n",
       "               0         0         0         0         0         0         0  \n",
       "0       5.424908  5.254892  5.355361  5.691735  4.721754  4.454271  5.443764  \n",
       "1       7.613619  6.959066  6.890251  7.610331  6.293382  6.712299  5.921689  \n",
       "2       4.373204  4.650491  4.437957  4.577650  4.624518  4.294511  4.786368  \n",
       "3       2.583436  3.938599  3.800186  3.187400  3.147807  2.922814  4.221638  \n",
       "4       4.948030  4.536964  5.365379  4.903311  5.516043  3.854869  5.419966  \n",
       "...          ...       ...       ...       ...       ...       ...       ...  \n",
       "199995  6.631453  5.651428  6.494923  6.418945  6.294427  7.165361  6.545907  \n",
       "199996  3.865959  5.109585  3.496965  2.017558  4.282209  5.052475  4.213477  \n",
       "199997  8.013768  7.768514  7.387824  6.922495  7.596874  7.537573  6.981371  \n",
       "199998  4.663025  4.150372  5.282868  6.252950  5.181225  4.047866  4.311078  \n",
       "199999  2.869424  3.774613  2.593490  1.367782  2.757768  2.872184  3.442861  \n",
       "\n",
       "[200000 rows x 1000 columns]"
      ]
     },
     "execution_count": 106,
     "metadata": {},
     "output_type": "execute_result"
    }
   ],
   "source": [
    "test_pred"
   ]
  },
  {
   "cell_type": "markdown",
   "metadata": {},
   "source": [
    "#### Removing Headers from the Predictions Dataset"
   ]
  },
  {
   "cell_type": "code",
   "execution_count": 107,
   "metadata": {},
   "outputs": [],
   "source": [
    "D2_pred.to_csv('D2_pred.csv', header=False, index=False)\n",
    "D2_pred = pd.read_csv('D2_pred.csv', header=None)\n",
    "D2_pred = D2_pred.values"
   ]
  },
  {
   "cell_type": "code",
   "execution_count": 108,
   "metadata": {},
   "outputs": [],
   "source": [
    "test_pred.to_csv('test_pred.csv', header=False, index=False)\n",
    "test_pred = pd.read_csv('test_pred.csv', header=None)\n",
    "test_pred = test_pred.values"
   ]
  },
  {
   "cell_type": "markdown",
   "metadata": {},
   "source": [
    "#### Fitting on the Predictions DataFrame"
   ]
  },
  {
   "cell_type": "code",
   "execution_count": 109,
   "metadata": {},
   "outputs": [
    {
     "data": {
      "text/plain": [
       "LGBMRegressor(boosting='gbdt', boosting_type='gbdt', class_weight=None,\n",
       "              colsample_bytree=1.0, feature_fraction=0.8,\n",
       "              importance_type='split', learning_rate=0.03, max_depth=-1,\n",
       "              metric='rmse', min_child_samples=20, min_child_weight=0.001,\n",
       "              min_split_gain=0.0, n_estimators=100, n_jobs=-1, num_leaves=800,\n",
       "              objective='regression', random_state=None, reg_alpha=0.0,\n",
       "              reg_lambda=5, silent=True, subsample=1.0,\n",
       "              subsample_for_bin=200000, subsample_freq=0)"
      ]
     },
     "execution_count": 109,
     "metadata": {},
     "output_type": "execute_result"
    }
   ],
   "source": [
    "lgbm_model = lgbm.LGBMRegressor(**params)\n",
    "lgbm_model.fit(D2_pred, D2y)"
   ]
  },
  {
   "cell_type": "markdown",
   "metadata": {},
   "source": [
    "#### Making Predictions on the Test Set "
   ]
  },
  {
   "cell_type": "code",
   "execution_count": 110,
   "metadata": {},
   "outputs": [],
   "source": [
    "preds = np.expm1(lgbm_model.predict(test_pred))"
   ]
  },
  {
   "cell_type": "markdown",
   "metadata": {},
   "source": [
    "#### Converting D2y & Dtest_y to numpy array for getting Final scores"
   ]
  },
  {
   "cell_type": "code",
   "execution_count": 90,
   "metadata": {},
   "outputs": [],
   "source": [
    "D2y = D2y.to_frame()"
   ]
  },
  {
   "cell_type": "code",
   "execution_count": 91,
   "metadata": {},
   "outputs": [],
   "source": [
    "D2y = D2y.values"
   ]
  },
  {
   "cell_type": "code",
   "execution_count": 92,
   "metadata": {},
   "outputs": [
    {
     "data": {
      "text/plain": [
       "numpy.ndarray"
      ]
     },
     "execution_count": 92,
     "metadata": {},
     "output_type": "execute_result"
    }
   ],
   "source": [
    "type(D2y)"
   ]
  },
  {
   "cell_type": "code",
   "execution_count": 93,
   "metadata": {},
   "outputs": [
    {
     "data": {
      "text/plain": [
       "pandas.core.series.Series"
      ]
     },
     "execution_count": 93,
     "metadata": {},
     "output_type": "execute_result"
    }
   ],
   "source": [
    "type(Dtest_y)"
   ]
  },
  {
   "cell_type": "code",
   "execution_count": 94,
   "metadata": {},
   "outputs": [],
   "source": [
    "Dtest_y = Dtest_y.to_frame()"
   ]
  },
  {
   "cell_type": "code",
   "execution_count": 95,
   "metadata": {},
   "outputs": [],
   "source": [
    "Dtest_y = Dtest_y.values"
   ]
  },
  {
   "cell_type": "code",
   "execution_count": 96,
   "metadata": {},
   "outputs": [
    {
     "data": {
      "text/plain": [
       "numpy.ndarray"
      ]
     },
     "execution_count": 96,
     "metadata": {},
     "output_type": "execute_result"
    }
   ],
   "source": [
    "type(Dtest_y)"
   ]
  },
  {
   "cell_type": "code",
   "execution_count": 111,
   "metadata": {},
   "outputs": [
    {
     "name": "stdout",
     "output_type": "stream",
     "text": [
      "Train RMSLE =  0.48506846502713324\n"
     ]
    }
   ],
   "source": [
    "print('Train RMSLE = ',rmsle_score(np.expm1(D2y) , np.expm1(lgbm_model.predict(D2_pred))))"
   ]
  },
  {
   "cell_type": "code",
   "execution_count": 112,
   "metadata": {},
   "outputs": [
    {
     "name": "stdout",
     "output_type": "stream",
     "text": [
      "Test RMSLE =  0.8357900830166635 \n",
      "\n"
     ]
    }
   ],
   "source": [
    "print('Test RMSLE = ',rmsle_score(np.expm1(Dtest_y) , preds),'\\n')"
   ]
  }
 ],
 "metadata": {
  "kernelspec": {
   "display_name": "Python 3",
   "language": "python",
   "name": "python3"
  },
  "language_info": {
   "codemirror_mode": {
    "name": "ipython",
    "version": 3
   },
   "file_extension": ".py",
   "mimetype": "text/x-python",
   "name": "python",
   "nbconvert_exporter": "python",
   "pygments_lexer": "ipython3",
   "version": "3.6.5"
  }
 },
 "nbformat": 4,
 "nbformat_minor": 2
}
