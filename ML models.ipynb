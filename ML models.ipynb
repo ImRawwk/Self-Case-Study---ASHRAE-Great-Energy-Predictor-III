{
 "cells": [
  {
   "cell_type": "markdown",
   "metadata": {},
   "source": [
    "# <a id = 'section1'> 6. Modelling with various ML models </font> </a>"
   ]
  },
  {
   "cell_type": "markdown",
   "metadata": {},
   "source": [
    "### 6.1 Ridge Regressor "
   ]
  },
  {
   "cell_type": "markdown",
   "metadata": {},
   "source": [
    "### Baseline Ridge Model"
   ]
  },
  {
   "cell_type": "code",
   "execution_count": 66,
   "metadata": {},
   "outputs": [
    {
     "data": {
      "text/plain": [
       "Ridge(alpha=1.0, copy_X=True, fit_intercept=False, max_iter=None,\n",
       "      normalize=False, random_state=None, solver='lsqr', tol=0.001)"
      ]
     },
     "execution_count": 66,
     "metadata": {},
     "output_type": "execute_result"
    }
   ],
   "source": [
    "ridge_model = Ridge(solver = \"lsqr\", fit_intercept=False)\n",
    "ridge_model.fit(x_train, y_train)"
   ]
  },
  {
   "cell_type": "code",
   "execution_count": 67,
   "metadata": {},
   "outputs": [
    {
     "name": "stdout",
     "output_type": "stream",
     "text": [
      "Train RMSLE =  2.010195380114417\n",
      "Test RMSLE =  1.9425835571023635 \n",
      "\n"
     ]
    }
   ],
   "source": [
    "preds = np.expm1(ridge_model.predict(x_test))\n",
    "print('Train RMSLE = ',rmsle_score(np.expm1(y_train) , np.expm1(ridge_model.predict(x_train))))\n",
    "print('Test RMSLE = ',rmsle_score(np.expm1(y_test) , preds),'\\n')"
   ]
  },
  {
   "cell_type": "markdown",
   "metadata": {},
   "source": [
    "#### With Baseline Ridge model we got an RMSE of 1.99 & 1.93 respectively "
   ]
  },
  {
   "cell_type": "markdown",
   "metadata": {},
   "source": [
    "### Hyperparamter tuning"
   ]
  },
  {
   "cell_type": "code",
   "execution_count": 68,
   "metadata": {},
   "outputs": [
    {
     "name": "stdout",
     "output_type": "stream",
     "text": [
      "Fitting 3 folds for each of 8 candidates, totalling 24 fits\n"
     ]
    },
    {
     "name": "stderr",
     "output_type": "stream",
     "text": [
      "[Parallel(n_jobs=8)]: Using backend LokyBackend with 8 concurrent workers.\n",
      "[Parallel(n_jobs=8)]: Done   2 tasks      | elapsed:    7.4s\n",
      "[Parallel(n_jobs=8)]: Done   9 tasks      | elapsed:   11.6s\n",
      "[Parallel(n_jobs=8)]: Done  12 out of  24 | elapsed:   12.1s remaining:   12.1s\n",
      "[Parallel(n_jobs=8)]: Done  15 out of  24 | elapsed:   12.3s remaining:    7.4s\n",
      "[Parallel(n_jobs=8)]: Done  18 out of  24 | elapsed:   16.2s remaining:    5.4s\n",
      "[Parallel(n_jobs=8)]: Done  21 out of  24 | elapsed:   16.6s remaining:    2.4s\n",
      "[Parallel(n_jobs=8)]: Done  24 out of  24 | elapsed:   16.7s remaining:    0.0s\n",
      "[Parallel(n_jobs=8)]: Done  24 out of  24 | elapsed:   16.7s finished\n"
     ]
    },
    {
     "data": {
      "text/plain": [
       "GridSearchCV(cv=3, error_score=nan,\n",
       "             estimator=Ridge(alpha=1.0, copy_X=True, fit_intercept=True,\n",
       "                             max_iter=None, normalize=False, random_state=None,\n",
       "                             solver='auto', tol=0.001),\n",
       "             iid='deprecated', n_jobs=8,\n",
       "             param_grid={'alpha': [0.001, 0.01, 0.1, 1, 10, 100, 1000, 10000],\n",
       "                         'fit_intercept': [False], 'solver': ['lsqr']},\n",
       "             pre_dispatch='2*n_jobs', refit=True, return_train_score=True,\n",
       "             scoring='neg_mean_squared_error', verbose=10)"
      ]
     },
     "execution_count": 68,
     "metadata": {},
     "output_type": "execute_result"
    }
   ],
   "source": [
    "from sklearn.model_selection import learning_curve, RandomizedSearchCV, GridSearchCV\n",
    "parameters = {'alpha':[0.001,0.01,0.1,1,10,100,1000,10000],\n",
    "              'fit_intercept' : [False],\n",
    "              'solver' : ['lsqr']}\n",
    "\n",
    "gs_ridge = GridSearchCV(estimator = Ridge(),\n",
    "                        param_grid = parameters,\n",
    "                        cv = 3, \n",
    "                        scoring = 'neg_mean_squared_error',\n",
    "                        verbose = 10,\n",
    "                        return_train_score = True,\n",
    "                        n_jobs = 8)\n",
    "gs_ridge.fit(X_train, y_train)"
   ]
  },
  {
   "cell_type": "code",
   "execution_count": 69,
   "metadata": {},
   "outputs": [
    {
     "name": "stdout",
     "output_type": "stream",
     "text": [
      "Best Estimator  Ridge(alpha=10000, copy_X=True, fit_intercept=False, max_iter=None,\n",
      "      normalize=False, random_state=None, solver='lsqr', tol=0.001)\n"
     ]
    }
   ],
   "source": [
    "print(\"Best Estimator \",gs_ridge.best_estimator_)"
   ]
  },
  {
   "cell_type": "markdown",
   "metadata": {},
   "source": [
    "#### Re-training model with Hyperparameters"
   ]
  },
  {
   "cell_type": "code",
   "execution_count": 70,
   "metadata": {},
   "outputs": [
    {
     "data": {
      "text/plain": [
       "Ridge(alpha=10000, copy_X=True, fit_intercept=False, max_iter=None,\n",
       "      normalize=False, random_state=None, solver='lsqr', tol=0.001)"
      ]
     },
     "execution_count": 70,
     "metadata": {},
     "output_type": "execute_result"
    }
   ],
   "source": [
    "ridge_model = Ridge(solver = \"lsqr\", fit_intercept=False,alpha = 10000)\n",
    "ridge_model.fit(x_train, y_train)"
   ]
  },
  {
   "cell_type": "code",
   "execution_count": 71,
   "metadata": {},
   "outputs": [
    {
     "name": "stdout",
     "output_type": "stream",
     "text": [
      "Train RMSLE =  2.01019538011444\n",
      "Test RMSLE =  1.9425835571774137 \n",
      "\n"
     ]
    }
   ],
   "source": [
    "preds = np.expm1(ridge_model.predict(x_test))\n",
    "print('Train RMSLE = ',rmsle_score(np.expm1(y_train) , np.expm1(ridge_model.predict(x_train))))\n",
    "print('Test RMSLE = ',rmsle_score(np.expm1(y_test) , preds),'\\n')"
   ]
  },
  {
   "cell_type": "markdown",
   "metadata": {},
   "source": [
    "#### The Train & Test RMSLE are almost same even with the tuned hyperparameters"
   ]
  },
  {
   "cell_type": "markdown",
   "metadata": {},
   "source": [
    "### 6.2 Linear Regression Model"
   ]
  },
  {
   "cell_type": "markdown",
   "metadata": {},
   "source": [
    "### Baseline Linear Regression Model"
   ]
  },
  {
   "cell_type": "code",
   "execution_count": 72,
   "metadata": {},
   "outputs": [
    {
     "data": {
      "text/plain": [
       "LinearRegression(copy_X=True, fit_intercept=False, n_jobs=None, normalize=False)"
      ]
     },
     "execution_count": 72,
     "metadata": {},
     "output_type": "execute_result"
    }
   ],
   "source": [
    "from sklearn.linear_model import LinearRegression\n",
    "regressor = LinearRegression(fit_intercept=False, copy_X=True)  \n",
    "regressor.fit(x_train, y_train) "
   ]
  },
  {
   "cell_type": "code",
   "execution_count": 73,
   "metadata": {},
   "outputs": [
    {
     "name": "stdout",
     "output_type": "stream",
     "text": [
      "Train RMSLE =  1.9063233366453975\n"
     ]
    }
   ],
   "source": [
    "print('Train RMSLE = ',rmsle_score(np.expm1(y_train) , np.expm1(regressor.predict(x_train))))"
   ]
  },
  {
   "cell_type": "code",
   "execution_count": 74,
   "metadata": {},
   "outputs": [
    {
     "name": "stdout",
     "output_type": "stream",
     "text": [
      "Test RMSLE =  1.8749439725633266\n"
     ]
    }
   ],
   "source": [
    "print('Test RMSLE = ',rmsle_score(np.expm1(y_test) , np.expm1(regressor.predict(x_test))))"
   ]
  },
  {
   "cell_type": "markdown",
   "metadata": {},
   "source": [
    "#### For Baseline Linear Regression Model the Train RMSLE is 1.89 & Test RMSLE is 1.86"
   ]
  },
  {
   "cell_type": "markdown",
   "metadata": {},
   "source": [
    "### HyperParameter Tuned Linear Regression Model"
   ]
  },
  {
   "cell_type": "code",
   "execution_count": 75,
   "metadata": {},
   "outputs": [
    {
     "data": {
      "text/plain": [
       "LinearRegression(copy_X=True, fit_intercept=True, n_jobs=8, normalize=True)"
      ]
     },
     "execution_count": 75,
     "metadata": {},
     "output_type": "execute_result"
    }
   ],
   "source": [
    "regressor = LinearRegression(fit_intercept=True, normalize=True, copy_X=True, n_jobs=8)  \n",
    "regressor.fit(x_train, y_train) "
   ]
  },
  {
   "cell_type": "code",
   "execution_count": 76,
   "metadata": {},
   "outputs": [
    {
     "name": "stdout",
     "output_type": "stream",
     "text": [
      "Train RMSLE =  1.9063233366454237\n"
     ]
    }
   ],
   "source": [
    "print('Train RMSLE = ',rmsle_score(np.expm1(y_train) , np.expm1(regressor.predict(x_train))))"
   ]
  },
  {
   "cell_type": "code",
   "execution_count": 77,
   "metadata": {},
   "outputs": [
    {
     "name": "stdout",
     "output_type": "stream",
     "text": [
      "Test RMSLE =  1.87494397518205\n"
     ]
    }
   ],
   "source": [
    "print('Test RMSLE = ',rmsle_score(np.expm1(y_test) , np.expm1(regressor.predict(x_test))))"
   ]
  },
  {
   "cell_type": "markdown",
   "metadata": {},
   "source": [
    "#### The Train & Test RMSLE are same for even the Hyperparameter Tuned model being 1.89 & 1.86 respectivrly."
   ]
  },
  {
   "cell_type": "markdown",
   "metadata": {},
   "source": [
    "### 6.3 LBGM Model"
   ]
  },
  {
   "cell_type": "markdown",
   "metadata": {},
   "source": [
    "### Baseline LGBM Model"
   ]
  },
  {
   "cell_type": "code",
   "execution_count": 78,
   "metadata": {},
   "outputs": [],
   "source": [
    "import lightgbm as lgbm\n",
    "from sklearn.model_selection import KFold\n",
    "\n",
    "params = {\n",
    "    \"objective\": \"regression\",\n",
    "    \"boosting\": \"gbdt\",\n",
    "    \"max_depth\": 5, \n",
    "    \"num_leaves\": 600,\n",
    "    \"learning_rate\": 0.01,\n",
    "    \"reg_lambda\": 2,\n",
    "    \"metric\": \"rmse\",\n",
    "}"
   ]
  },
  {
   "cell_type": "code",
   "execution_count": 79,
   "metadata": {},
   "outputs": [],
   "source": [
    "# noting down categorical features - will be used in modeling\n",
    "categorical_feature = ['building_id','meter','site_id','primary_use', 'hour', 'day', 'month']"
   ]
  },
  {
   "cell_type": "code",
   "execution_count": 80,
   "metadata": {},
   "outputs": [
    {
     "name": "stdout",
     "output_type": "stream",
     "text": [
      "Training until validation scores don't improve for 50 rounds\n",
      "[25]\ttraining's rmse: 1.86008\tvalid_1's rmse: 1.81721\n",
      "[50]\ttraining's rmse: 1.62599\tvalid_1's rmse: 1.59156\n",
      "[75]\ttraining's rmse: 1.4559\tvalid_1's rmse: 1.42953\n",
      "[100]\ttraining's rmse: 1.326\tvalid_1's rmse: 1.3071\n",
      "[125]\ttraining's rmse: 1.22481\tvalid_1's rmse: 1.20964\n",
      "[150]\ttraining's rmse: 1.14427\tvalid_1's rmse: 1.13297\n",
      "[175]\ttraining's rmse: 1.08495\tvalid_1's rmse: 1.07902\n",
      "[200]\ttraining's rmse: 1.03752\tvalid_1's rmse: 1.03845\n",
      "[225]\ttraining's rmse: 0.997335\tvalid_1's rmse: 1.00906\n",
      "[250]\ttraining's rmse: 0.963054\tvalid_1's rmse: 0.982595\n",
      "[275]\ttraining's rmse: 0.931738\tvalid_1's rmse: 0.961228\n",
      "[300]\ttraining's rmse: 0.904767\tvalid_1's rmse: 0.943984\n",
      "[325]\ttraining's rmse: 0.8825\tvalid_1's rmse: 0.930882\n",
      "[350]\ttraining's rmse: 0.861976\tvalid_1's rmse: 0.920548\n",
      "[375]\ttraining's rmse: 0.844077\tvalid_1's rmse: 0.911803\n",
      "[400]\ttraining's rmse: 0.825713\tvalid_1's rmse: 0.903374\n",
      "[425]\ttraining's rmse: 0.811755\tvalid_1's rmse: 0.896607\n",
      "[450]\ttraining's rmse: 0.797603\tvalid_1's rmse: 0.889209\n",
      "[475]\ttraining's rmse: 0.783926\tvalid_1's rmse: 0.881997\n",
      "[500]\ttraining's rmse: 0.774395\tvalid_1's rmse: 0.876178\n",
      "[525]\ttraining's rmse: 0.765311\tvalid_1's rmse: 0.872145\n",
      "[550]\ttraining's rmse: 0.756764\tvalid_1's rmse: 0.867159\n",
      "[575]\ttraining's rmse: 0.750914\tvalid_1's rmse: 0.863752\n",
      "[600]\ttraining's rmse: 0.74575\tvalid_1's rmse: 0.860302\n",
      "[625]\ttraining's rmse: 0.7407\tvalid_1's rmse: 0.85733\n",
      "[650]\ttraining's rmse: 0.735622\tvalid_1's rmse: 0.854969\n",
      "[675]\ttraining's rmse: 0.73005\tvalid_1's rmse: 0.85208\n",
      "[700]\ttraining's rmse: 0.724976\tvalid_1's rmse: 0.849663\n",
      "[725]\ttraining's rmse: 0.719021\tvalid_1's rmse: 0.846558\n",
      "[750]\ttraining's rmse: 0.714821\tvalid_1's rmse: 0.84479\n",
      "[775]\ttraining's rmse: 0.707731\tvalid_1's rmse: 0.841377\n",
      "[800]\ttraining's rmse: 0.702232\tvalid_1's rmse: 0.839005\n",
      "[825]\ttraining's rmse: 0.698753\tvalid_1's rmse: 0.837591\n",
      "[850]\ttraining's rmse: 0.693585\tvalid_1's rmse: 0.835254\n",
      "[875]\ttraining's rmse: 0.690364\tvalid_1's rmse: 0.83354\n",
      "[900]\ttraining's rmse: 0.686975\tvalid_1's rmse: 0.831789\n",
      "[925]\ttraining's rmse: 0.683196\tvalid_1's rmse: 0.829997\n",
      "[950]\ttraining's rmse: 0.677552\tvalid_1's rmse: 0.826654\n",
      "[975]\ttraining's rmse: 0.672306\tvalid_1's rmse: 0.824757\n",
      "[1000]\ttraining's rmse: 0.668401\tvalid_1's rmse: 0.823297\n",
      "[1025]\ttraining's rmse: 0.665098\tvalid_1's rmse: 0.822048\n",
      "[1050]\ttraining's rmse: 0.661123\tvalid_1's rmse: 0.821423\n",
      "[1075]\ttraining's rmse: 0.657584\tvalid_1's rmse: 0.81962\n",
      "[1100]\ttraining's rmse: 0.652217\tvalid_1's rmse: 0.817344\n",
      "[1125]\ttraining's rmse: 0.649093\tvalid_1's rmse: 0.816331\n",
      "[1150]\ttraining's rmse: 0.646763\tvalid_1's rmse: 0.815189\n",
      "[1175]\ttraining's rmse: 0.644379\tvalid_1's rmse: 0.815208\n",
      "[1200]\ttraining's rmse: 0.641409\tvalid_1's rmse: 0.813932\n",
      "[1225]\ttraining's rmse: 0.638893\tvalid_1's rmse: 0.813722\n",
      "[1250]\ttraining's rmse: 0.636263\tvalid_1's rmse: 0.813036\n",
      "[1275]\ttraining's rmse: 0.633044\tvalid_1's rmse: 0.812436\n",
      "[1300]\ttraining's rmse: 0.630196\tvalid_1's rmse: 0.811787\n",
      "[1325]\ttraining's rmse: 0.626797\tvalid_1's rmse: 0.809909\n",
      "[1350]\ttraining's rmse: 0.624397\tvalid_1's rmse: 0.80918\n",
      "[1375]\ttraining's rmse: 0.622041\tvalid_1's rmse: 0.809782\n",
      "[1400]\ttraining's rmse: 0.618706\tvalid_1's rmse: 0.808989\n",
      "[1425]\ttraining's rmse: 0.616294\tvalid_1's rmse: 0.809122\n",
      "[1450]\ttraining's rmse: 0.61368\tvalid_1's rmse: 0.809474\n",
      "Early stopping, best iteration is:\n",
      "[1406]\ttraining's rmse: 0.618064\tvalid_1's rmse: 0.808914\n",
      "Training until validation scores don't improve for 50 rounds\n",
      "[25]\ttraining's rmse: 1.87102\tvalid_1's rmse: 1.8082\n",
      "[50]\ttraining's rmse: 1.64448\tvalid_1's rmse: 1.57455\n",
      "[75]\ttraining's rmse: 1.47911\tvalid_1's rmse: 1.40252\n",
      "[100]\ttraining's rmse: 1.35194\tvalid_1's rmse: 1.26873\n",
      "[125]\ttraining's rmse: 1.25235\tvalid_1's rmse: 1.16154\n",
      "[150]\ttraining's rmse: 1.17317\tvalid_1's rmse: 1.07933\n",
      "[175]\ttraining's rmse: 1.11431\tvalid_1's rmse: 1.02165\n",
      "[200]\ttraining's rmse: 1.06703\tvalid_1's rmse: 0.975106\n",
      "[225]\ttraining's rmse: 1.02634\tvalid_1's rmse: 0.935943\n",
      "[250]\ttraining's rmse: 0.987599\tvalid_1's rmse: 0.901721\n",
      "[275]\ttraining's rmse: 0.95812\tvalid_1's rmse: 0.879066\n",
      "[300]\ttraining's rmse: 0.931543\tvalid_1's rmse: 0.857992\n",
      "[325]\ttraining's rmse: 0.910028\tvalid_1's rmse: 0.83924\n",
      "[350]\ttraining's rmse: 0.891737\tvalid_1's rmse: 0.823796\n",
      "[375]\ttraining's rmse: 0.875529\tvalid_1's rmse: 0.812453\n",
      "[400]\ttraining's rmse: 0.861015\tvalid_1's rmse: 0.802158\n",
      "[425]\ttraining's rmse: 0.847099\tvalid_1's rmse: 0.791783\n",
      "[450]\ttraining's rmse: 0.835198\tvalid_1's rmse: 0.78245\n",
      "[475]\ttraining's rmse: 0.820845\tvalid_1's rmse: 0.770768\n",
      "[500]\ttraining's rmse: 0.810184\tvalid_1's rmse: 0.762756\n",
      "[525]\ttraining's rmse: 0.800552\tvalid_1's rmse: 0.756181\n",
      "[550]\ttraining's rmse: 0.793201\tvalid_1's rmse: 0.751156\n",
      "[575]\ttraining's rmse: 0.786928\tvalid_1's rmse: 0.747046\n",
      "[600]\ttraining's rmse: 0.779526\tvalid_1's rmse: 0.742431\n",
      "[625]\ttraining's rmse: 0.772305\tvalid_1's rmse: 0.737685\n",
      "[650]\ttraining's rmse: 0.76618\tvalid_1's rmse: 0.733403\n",
      "[675]\ttraining's rmse: 0.761853\tvalid_1's rmse: 0.730784\n",
      "[700]\ttraining's rmse: 0.757008\tvalid_1's rmse: 0.727169\n",
      "[725]\ttraining's rmse: 0.751138\tvalid_1's rmse: 0.723403\n",
      "[750]\ttraining's rmse: 0.746684\tvalid_1's rmse: 0.720408\n",
      "[775]\ttraining's rmse: 0.742805\tvalid_1's rmse: 0.717636\n",
      "[800]\ttraining's rmse: 0.739465\tvalid_1's rmse: 0.715376\n",
      "[825]\ttraining's rmse: 0.734741\tvalid_1's rmse: 0.711793\n",
      "[850]\ttraining's rmse: 0.731288\tvalid_1's rmse: 0.709792\n",
      "[875]\ttraining's rmse: 0.727316\tvalid_1's rmse: 0.7073\n",
      "[900]\ttraining's rmse: 0.723233\tvalid_1's rmse: 0.704385\n",
      "[925]\ttraining's rmse: 0.720451\tvalid_1's rmse: 0.702794\n",
      "[950]\ttraining's rmse: 0.716181\tvalid_1's rmse: 0.700317\n",
      "[975]\ttraining's rmse: 0.71171\tvalid_1's rmse: 0.697092\n",
      "[1000]\ttraining's rmse: 0.707889\tvalid_1's rmse: 0.69535\n",
      "[1025]\ttraining's rmse: 0.703407\tvalid_1's rmse: 0.692685\n",
      "[1050]\ttraining's rmse: 0.698693\tvalid_1's rmse: 0.69088\n",
      "[1075]\ttraining's rmse: 0.695329\tvalid_1's rmse: 0.689027\n",
      "[1100]\ttraining's rmse: 0.692518\tvalid_1's rmse: 0.687683\n",
      "[1125]\ttraining's rmse: 0.688597\tvalid_1's rmse: 0.685596\n",
      "[1150]\ttraining's rmse: 0.685172\tvalid_1's rmse: 0.684744\n",
      "[1175]\ttraining's rmse: 0.682037\tvalid_1's rmse: 0.683759\n",
      "[1200]\ttraining's rmse: 0.679016\tvalid_1's rmse: 0.682176\n",
      "[1225]\ttraining's rmse: 0.675815\tvalid_1's rmse: 0.681361\n",
      "[1250]\ttraining's rmse: 0.672887\tvalid_1's rmse: 0.680042\n",
      "[1275]\ttraining's rmse: 0.668863\tvalid_1's rmse: 0.678263\n",
      "[1300]\ttraining's rmse: 0.666118\tvalid_1's rmse: 0.677204\n",
      "[1325]\ttraining's rmse: 0.662522\tvalid_1's rmse: 0.675914\n",
      "[1350]\ttraining's rmse: 0.660204\tvalid_1's rmse: 0.674381\n",
      "[1375]\ttraining's rmse: 0.654724\tvalid_1's rmse: 0.672731\n",
      "[1400]\ttraining's rmse: 0.650935\tvalid_1's rmse: 0.671245\n",
      "[1425]\ttraining's rmse: 0.645998\tvalid_1's rmse: 0.668812\n",
      "[1450]\ttraining's rmse: 0.644425\tvalid_1's rmse: 0.668154\n",
      "[1475]\ttraining's rmse: 0.641663\tvalid_1's rmse: 0.667292\n",
      "[1500]\ttraining's rmse: 0.638497\tvalid_1's rmse: 0.665628\n",
      "[1525]\ttraining's rmse: 0.635611\tvalid_1's rmse: 0.664499\n",
      "[1550]\ttraining's rmse: 0.63303\tvalid_1's rmse: 0.663671\n",
      "[1575]\ttraining's rmse: 0.630549\tvalid_1's rmse: 0.663115\n",
      "[1600]\ttraining's rmse: 0.628147\tvalid_1's rmse: 0.661968\n",
      "[1625]\ttraining's rmse: 0.62648\tvalid_1's rmse: 0.661334\n",
      "[1650]\ttraining's rmse: 0.624396\tvalid_1's rmse: 0.660414\n",
      "[1675]\ttraining's rmse: 0.621305\tvalid_1's rmse: 0.659199\n",
      "[1700]\ttraining's rmse: 0.618961\tvalid_1's rmse: 0.658253\n",
      "[1725]\ttraining's rmse: 0.616723\tvalid_1's rmse: 0.657073\n",
      "[1750]\ttraining's rmse: 0.614766\tvalid_1's rmse: 0.656624\n",
      "[1775]\ttraining's rmse: 0.612914\tvalid_1's rmse: 0.655729\n",
      "[1800]\ttraining's rmse: 0.610741\tvalid_1's rmse: 0.654831\n",
      "[1825]\ttraining's rmse: 0.608631\tvalid_1's rmse: 0.653652\n",
      "[1850]\ttraining's rmse: 0.60681\tvalid_1's rmse: 0.653118\n",
      "[1875]\ttraining's rmse: 0.603593\tvalid_1's rmse: 0.651303\n",
      "[1900]\ttraining's rmse: 0.601551\tvalid_1's rmse: 0.6507\n",
      "[1925]\ttraining's rmse: 0.599828\tvalid_1's rmse: 0.649868\n",
      "[1950]\ttraining's rmse: 0.597802\tvalid_1's rmse: 0.649122\n",
      "[1975]\ttraining's rmse: 0.59589\tvalid_1's rmse: 0.648399\n",
      "[2000]\ttraining's rmse: 0.593611\tvalid_1's rmse: 0.647229\n",
      "Did not meet early stopping. Best iteration is:\n",
      "[2000]\ttraining's rmse: 0.593611\tvalid_1's rmse: 0.647229\n",
      "Training until validation scores don't improve for 50 rounds\n"
     ]
    },
    {
     "name": "stdout",
     "output_type": "stream",
     "text": [
      "[25]\ttraining's rmse: 1.80672\tvalid_1's rmse: 1.94286\n",
      "[50]\ttraining's rmse: 1.57055\tvalid_1's rmse: 1.73317\n",
      "[75]\ttraining's rmse: 1.39225\tvalid_1's rmse: 1.58017\n",
      "[100]\ttraining's rmse: 1.25956\tvalid_1's rmse: 1.47024\n",
      "[125]\ttraining's rmse: 1.15789\tvalid_1's rmse: 1.38933\n",
      "[150]\ttraining's rmse: 1.07091\tvalid_1's rmse: 1.32272\n",
      "[175]\ttraining's rmse: 1.0015\tvalid_1's rmse: 1.27152\n",
      "[200]\ttraining's rmse: 0.947578\tvalid_1's rmse: 1.23388\n",
      "[225]\ttraining's rmse: 0.907327\tvalid_1's rmse: 1.20639\n",
      "[250]\ttraining's rmse: 0.874465\tvalid_1's rmse: 1.18473\n",
      "[275]\ttraining's rmse: 0.849547\tvalid_1's rmse: 1.16896\n",
      "[300]\ttraining's rmse: 0.827959\tvalid_1's rmse: 1.15659\n",
      "[325]\ttraining's rmse: 0.809911\tvalid_1's rmse: 1.14618\n",
      "[350]\ttraining's rmse: 0.794429\tvalid_1's rmse: 1.13783\n",
      "[375]\ttraining's rmse: 0.778632\tvalid_1's rmse: 1.12984\n",
      "[400]\ttraining's rmse: 0.762915\tvalid_1's rmse: 1.12196\n",
      "[425]\ttraining's rmse: 0.749324\tvalid_1's rmse: 1.11511\n",
      "[450]\ttraining's rmse: 0.736586\tvalid_1's rmse: 1.10863\n",
      "[475]\ttraining's rmse: 0.725605\tvalid_1's rmse: 1.10315\n",
      "[500]\ttraining's rmse: 0.716074\tvalid_1's rmse: 1.0985\n",
      "[525]\ttraining's rmse: 0.70715\tvalid_1's rmse: 1.09363\n",
      "[550]\ttraining's rmse: 0.698805\tvalid_1's rmse: 1.08981\n",
      "[575]\ttraining's rmse: 0.690402\tvalid_1's rmse: 1.0859\n",
      "[600]\ttraining's rmse: 0.683655\tvalid_1's rmse: 1.08287\n",
      "[625]\ttraining's rmse: 0.678154\tvalid_1's rmse: 1.08114\n",
      "[650]\ttraining's rmse: 0.673046\tvalid_1's rmse: 1.07914\n",
      "[675]\ttraining's rmse: 0.666354\tvalid_1's rmse: 1.07652\n",
      "[700]\ttraining's rmse: 0.661433\tvalid_1's rmse: 1.07455\n",
      "[725]\ttraining's rmse: 0.65599\tvalid_1's rmse: 1.07277\n",
      "[750]\ttraining's rmse: 0.650115\tvalid_1's rmse: 1.07043\n",
      "[775]\ttraining's rmse: 0.64486\tvalid_1's rmse: 1.06823\n",
      "[800]\ttraining's rmse: 0.641006\tvalid_1's rmse: 1.06701\n",
      "[825]\ttraining's rmse: 0.636906\tvalid_1's rmse: 1.0658\n",
      "[850]\ttraining's rmse: 0.633091\tvalid_1's rmse: 1.06492\n",
      "[875]\ttraining's rmse: 0.629706\tvalid_1's rmse: 1.06437\n",
      "[900]\ttraining's rmse: 0.626937\tvalid_1's rmse: 1.06389\n",
      "[925]\ttraining's rmse: 0.623338\tvalid_1's rmse: 1.0636\n",
      "[950]\ttraining's rmse: 0.6207\tvalid_1's rmse: 1.06318\n",
      "[975]\ttraining's rmse: 0.618016\tvalid_1's rmse: 1.06251\n",
      "[1000]\ttraining's rmse: 0.615567\tvalid_1's rmse: 1.06218\n",
      "[1025]\ttraining's rmse: 0.612597\tvalid_1's rmse: 1.06204\n",
      "[1050]\ttraining's rmse: 0.609181\tvalid_1's rmse: 1.06104\n",
      "[1075]\ttraining's rmse: 0.606393\tvalid_1's rmse: 1.06035\n",
      "[1100]\ttraining's rmse: 0.603766\tvalid_1's rmse: 1.06038\n",
      "[1125]\ttraining's rmse: 0.601518\tvalid_1's rmse: 1.06004\n",
      "[1150]\ttraining's rmse: 0.599431\tvalid_1's rmse: 1.05956\n",
      "[1175]\ttraining's rmse: 0.596417\tvalid_1's rmse: 1.05868\n",
      "[1200]\ttraining's rmse: 0.594446\tvalid_1's rmse: 1.05859\n",
      "[1225]\ttraining's rmse: 0.592564\tvalid_1's rmse: 1.05825\n",
      "[1250]\ttraining's rmse: 0.590613\tvalid_1's rmse: 1.0578\n",
      "[1275]\ttraining's rmse: 0.589653\tvalid_1's rmse: 1.05789\n",
      "[1300]\ttraining's rmse: 0.58786\tvalid_1's rmse: 1.05755\n",
      "[1325]\ttraining's rmse: 0.586156\tvalid_1's rmse: 1.05715\n",
      "[1350]\ttraining's rmse: 0.584093\tvalid_1's rmse: 1.05695\n",
      "[1375]\ttraining's rmse: 0.582902\tvalid_1's rmse: 1.05663\n",
      "[1400]\ttraining's rmse: 0.581571\tvalid_1's rmse: 1.05662\n",
      "[1425]\ttraining's rmse: 0.580336\tvalid_1's rmse: 1.05645\n",
      "[1450]\ttraining's rmse: 0.578564\tvalid_1's rmse: 1.05608\n",
      "[1475]\ttraining's rmse: 0.576267\tvalid_1's rmse: 1.05534\n",
      "[1500]\ttraining's rmse: 0.574458\tvalid_1's rmse: 1.05493\n",
      "[1525]\ttraining's rmse: 0.572697\tvalid_1's rmse: 1.05438\n",
      "[1550]\ttraining's rmse: 0.571437\tvalid_1's rmse: 1.05418\n",
      "[1575]\ttraining's rmse: 0.569952\tvalid_1's rmse: 1.05386\n",
      "[1600]\ttraining's rmse: 0.567275\tvalid_1's rmse: 1.05287\n",
      "[1625]\ttraining's rmse: 0.565972\tvalid_1's rmse: 1.05259\n",
      "[1650]\ttraining's rmse: 0.563505\tvalid_1's rmse: 1.05164\n",
      "[1675]\ttraining's rmse: 0.562241\tvalid_1's rmse: 1.05139\n",
      "[1700]\ttraining's rmse: 0.560744\tvalid_1's rmse: 1.05104\n",
      "[1725]\ttraining's rmse: 0.558696\tvalid_1's rmse: 1.0501\n",
      "[1750]\ttraining's rmse: 0.557214\tvalid_1's rmse: 1.04982\n",
      "[1775]\ttraining's rmse: 0.555873\tvalid_1's rmse: 1.04938\n",
      "[1800]\ttraining's rmse: 0.552715\tvalid_1's rmse: 1.0474\n",
      "[1825]\ttraining's rmse: 0.550387\tvalid_1's rmse: 1.04676\n",
      "[1850]\ttraining's rmse: 0.548884\tvalid_1's rmse: 1.04593\n",
      "[1875]\ttraining's rmse: 0.547703\tvalid_1's rmse: 1.045\n",
      "[1900]\ttraining's rmse: 0.546203\tvalid_1's rmse: 1.04396\n",
      "[1925]\ttraining's rmse: 0.54365\tvalid_1's rmse: 1.04308\n",
      "[1950]\ttraining's rmse: 0.541352\tvalid_1's rmse: 1.04234\n",
      "[1975]\ttraining's rmse: 0.539109\tvalid_1's rmse: 1.04162\n",
      "[2000]\ttraining's rmse: 0.537295\tvalid_1's rmse: 1.03986\n",
      "Did not meet early stopping. Best iteration is:\n",
      "[2000]\ttraining's rmse: 0.537295\tvalid_1's rmse: 1.03986\n"
     ]
    }
   ],
   "source": [
    "#reference - analyticsvidhya.com/blog/2018/05/improve-model-performance-cross-validation-in-python-r/\n",
    "\n",
    "features = x_train\n",
    "target = y_train\n",
    "\n",
    "kf = KFold(n_splits=3)\n",
    "models = []\n",
    "for xtr_index,xte_index in kf.split(features):\n",
    "    xtr_features = features.loc[xtr_index]\n",
    "    xtr_target = target.loc[xtr_index]\n",
    "    \n",
    "    xte_features = features.loc[xte_index]\n",
    "    xte_target = target.loc[xte_index]\n",
    "    \n",
    "    d_training = lgbm.Dataset(xtr_features, label=xtr_target,categorical_feature=categorical_feature, free_raw_data=False)\n",
    "    d_test = lgbm.Dataset(xte_features, label=xte_target,categorical_feature=categorical_feature, free_raw_data=False)\n",
    "    \n",
    "    model = lgbm.train(params, train_set=d_training, num_boost_round=2000, valid_sets=[d_training,d_test], verbose_eval=25, early_stopping_rounds=50)\n",
    "    models.append(model)\n",
    "    del xtr_features, xtr_target, xte_features, xte_target, d_training, d_test\n",
    "    gc.collect()"
   ]
  },
  {
   "cell_type": "code",
   "execution_count": 81,
   "metadata": {},
   "outputs": [
    {
     "name": "stdout",
     "output_type": "stream",
     "text": [
      "Train RMSLE =  0.7446448798294047\n"
     ]
    }
   ],
   "source": [
    "print('Train RMSLE = ',rmsle_score(np.expm1(y_train) , np.expm1(model.predict(x_train))))"
   ]
  },
  {
   "cell_type": "code",
   "execution_count": 82,
   "metadata": {},
   "outputs": [
    {
     "name": "stdout",
     "output_type": "stream",
     "text": [
      "Test RMSLE =  0.911259437223761\n"
     ]
    }
   ],
   "source": [
    "print('Test RMSLE = ',rmsle_score(np.expm1(y_test) , np.expm1(model.predict(x_test))))"
   ]
  },
  {
   "cell_type": "markdown",
   "metadata": {},
   "source": [
    "#### The Train & Test RMSLE values have improved significantly compared to other models when we used LBGM. The Train RMSLE is 0.74 & the Test RMSLE is 0.90 respectively."
   ]
  },
  {
   "cell_type": "markdown",
   "metadata": {},
   "source": [
    "### Hyperparameter Tuned LGBM Model "
   ]
  },
  {
   "cell_type": "code",
   "execution_count": 83,
   "metadata": {},
   "outputs": [],
   "source": [
    "params = {\n",
    "    \"objective\": \"regression\",\n",
    "    \"boosting\": \"gbdt\",\n",
    "    \"num_leaves\": 800,\n",
    "    \"learning_rate\": 0.03,\n",
    "    \"feature_fraction\": 0.8,\n",
    "    \"reg_lambda\": 5, \n",
    "    \"metric\": \"rmse\",\n",
    "}"
   ]
  },
  {
   "cell_type": "code",
   "execution_count": 85,
   "metadata": {},
   "outputs": [
    {
     "name": "stdout",
     "output_type": "stream",
     "text": [
      "Training until validation scores don't improve for 50 rounds\n",
      "[25]\ttraining's rmse: 1.18443\tvalid_1's rmse: 1.28831\n",
      "[50]\ttraining's rmse: 0.736975\tvalid_1's rmse: 0.98651\n",
      "[75]\ttraining's rmse: 0.55401\tvalid_1's rmse: 0.90935\n",
      "[100]\ttraining's rmse: 0.453086\tvalid_1's rmse: 0.87539\n",
      "[125]\ttraining's rmse: 0.399283\tvalid_1's rmse: 0.862314\n",
      "[150]\ttraining's rmse: 0.367293\tvalid_1's rmse: 0.856833\n",
      "[175]\ttraining's rmse: 0.344331\tvalid_1's rmse: 0.853434\n",
      "[200]\ttraining's rmse: 0.326033\tvalid_1's rmse: 0.85219\n",
      "[225]\ttraining's rmse: 0.312266\tvalid_1's rmse: 0.85174\n",
      "[250]\ttraining's rmse: 0.300695\tvalid_1's rmse: 0.851923\n",
      "Early stopping, best iteration is:\n",
      "[217]\ttraining's rmse: 0.317134\tvalid_1's rmse: 0.851483\n",
      "Training until validation scores don't improve for 50 rounds\n",
      "[25]\ttraining's rmse: 1.19023\tvalid_1's rmse: 1.20226\n",
      "[50]\ttraining's rmse: 0.744625\tvalid_1's rmse: 0.821328\n",
      "[75]\ttraining's rmse: 0.562769\tvalid_1's rmse: 0.691272\n",
      "[100]\ttraining's rmse: 0.461624\tvalid_1's rmse: 0.632719\n",
      "[125]\ttraining's rmse: 0.408223\tvalid_1's rmse: 0.609573\n",
      "[150]\ttraining's rmse: 0.37509\tvalid_1's rmse: 0.598656\n",
      "[175]\ttraining's rmse: 0.352144\tvalid_1's rmse: 0.593026\n",
      "[200]\ttraining's rmse: 0.333999\tvalid_1's rmse: 0.589766\n",
      "[225]\ttraining's rmse: 0.319704\tvalid_1's rmse: 0.587533\n",
      "[250]\ttraining's rmse: 0.30798\tvalid_1's rmse: 0.585805\n",
      "[275]\ttraining's rmse: 0.299073\tvalid_1's rmse: 0.585151\n",
      "[300]\ttraining's rmse: 0.291954\tvalid_1's rmse: 0.584435\n",
      "[325]\ttraining's rmse: 0.286148\tvalid_1's rmse: 0.583934\n",
      "[350]\ttraining's rmse: 0.280713\tvalid_1's rmse: 0.583246\n",
      "[375]\ttraining's rmse: 0.275823\tvalid_1's rmse: 0.582729\n",
      "[400]\ttraining's rmse: 0.271767\tvalid_1's rmse: 0.582344\n",
      "[425]\ttraining's rmse: 0.26746\tvalid_1's rmse: 0.582001\n",
      "[450]\ttraining's rmse: 0.263837\tvalid_1's rmse: 0.581815\n",
      "[475]\ttraining's rmse: 0.260495\tvalid_1's rmse: 0.581539\n",
      "[500]\ttraining's rmse: 0.257414\tvalid_1's rmse: 0.581311\n",
      "[525]\ttraining's rmse: 0.254278\tvalid_1's rmse: 0.58117\n",
      "[550]\ttraining's rmse: 0.251498\tvalid_1's rmse: 0.581022\n",
      "[575]\ttraining's rmse: 0.248645\tvalid_1's rmse: 0.580907\n",
      "[600]\ttraining's rmse: 0.246023\tvalid_1's rmse: 0.580714\n",
      "[625]\ttraining's rmse: 0.243648\tvalid_1's rmse: 0.580632\n",
      "[650]\ttraining's rmse: 0.241223\tvalid_1's rmse: 0.58054\n",
      "[675]\ttraining's rmse: 0.238944\tvalid_1's rmse: 0.580396\n",
      "[700]\ttraining's rmse: 0.236967\tvalid_1's rmse: 0.580326\n",
      "[725]\ttraining's rmse: 0.235007\tvalid_1's rmse: 0.580271\n",
      "[750]\ttraining's rmse: 0.232935\tvalid_1's rmse: 0.580173\n",
      "[775]\ttraining's rmse: 0.231206\tvalid_1's rmse: 0.580035\n",
      "[800]\ttraining's rmse: 0.229313\tvalid_1's rmse: 0.580014\n",
      "[825]\ttraining's rmse: 0.226635\tvalid_1's rmse: 0.579981\n",
      "[850]\ttraining's rmse: 0.224821\tvalid_1's rmse: 0.58002\n",
      "[875]\ttraining's rmse: 0.223407\tvalid_1's rmse: 0.579974\n",
      "[900]\ttraining's rmse: 0.222093\tvalid_1's rmse: 0.579919\n",
      "[925]\ttraining's rmse: 0.220843\tvalid_1's rmse: 0.579838\n",
      "[950]\ttraining's rmse: 0.219327\tvalid_1's rmse: 0.57977\n",
      "[975]\ttraining's rmse: 0.217734\tvalid_1's rmse: 0.579785\n",
      "[1000]\ttraining's rmse: 0.216325\tvalid_1's rmse: 0.579741\n",
      "[1025]\ttraining's rmse: 0.214955\tvalid_1's rmse: 0.579746\n",
      "[1050]\ttraining's rmse: 0.213561\tvalid_1's rmse: 0.579745\n",
      "Early stopping, best iteration is:\n",
      "[1006]\ttraining's rmse: 0.21598\tvalid_1's rmse: 0.579727\n",
      "Training until validation scores don't improve for 50 rounds\n",
      "[25]\ttraining's rmse: 1.14067\tvalid_1's rmse: 1.4045\n",
      "[50]\ttraining's rmse: 0.698354\tvalid_1's rmse: 1.11791\n",
      "[75]\ttraining's rmse: 0.522214\tvalid_1's rmse: 1.04331\n",
      "[100]\ttraining's rmse: 0.426713\tvalid_1's rmse: 1.0158\n",
      "[125]\ttraining's rmse: 0.377753\tvalid_1's rmse: 1.00812\n",
      "[150]\ttraining's rmse: 0.349005\tvalid_1's rmse: 1.00453\n",
      "[175]\ttraining's rmse: 0.329203\tvalid_1's rmse: 1.00231\n",
      "[200]\ttraining's rmse: 0.313542\tvalid_1's rmse: 1.00073\n",
      "[225]\ttraining's rmse: 0.301837\tvalid_1's rmse: 0.999717\n",
      "[250]\ttraining's rmse: 0.291467\tvalid_1's rmse: 0.999044\n",
      "[275]\ttraining's rmse: 0.283532\tvalid_1's rmse: 0.998257\n",
      "[300]\ttraining's rmse: 0.277158\tvalid_1's rmse: 0.997905\n",
      "[325]\ttraining's rmse: 0.271905\tvalid_1's rmse: 0.997749\n",
      "[350]\ttraining's rmse: 0.267319\tvalid_1's rmse: 0.997372\n",
      "[375]\ttraining's rmse: 0.263163\tvalid_1's rmse: 0.997168\n",
      "[400]\ttraining's rmse: 0.258827\tvalid_1's rmse: 0.996957\n",
      "[425]\ttraining's rmse: 0.254843\tvalid_1's rmse: 0.996857\n",
      "[450]\ttraining's rmse: 0.251003\tvalid_1's rmse: 0.996668\n",
      "[475]\ttraining's rmse: 0.247527\tvalid_1's rmse: 0.996551\n",
      "[500]\ttraining's rmse: 0.244893\tvalid_1's rmse: 0.996534\n",
      "[525]\ttraining's rmse: 0.242552\tvalid_1's rmse: 0.996501\n",
      "[550]\ttraining's rmse: 0.240047\tvalid_1's rmse: 0.996436\n",
      "[575]\ttraining's rmse: 0.237438\tvalid_1's rmse: 0.996446\n",
      "[600]\ttraining's rmse: 0.235137\tvalid_1's rmse: 0.996444\n",
      "Early stopping, best iteration is:\n",
      "[550]\ttraining's rmse: 0.240047\tvalid_1's rmse: 0.996436\n"
     ]
    }
   ],
   "source": [
    "#reference - analyticsvidhya.com/blog/2018/05/improve-model-performance-cross-validation-in-python-r/\n",
    "\n",
    "features = x_train\n",
    "target = y_train\n",
    "\n",
    "kf = KFold(n_splits=3)\n",
    "models = []\n",
    "for xtr_index,xte_index in kf.split(features):\n",
    "    xtr_features = features.loc[xtr_index]\n",
    "    xtr_target = target.loc[xtr_index]\n",
    "    \n",
    "    xte_features = features.loc[xte_index]\n",
    "    xte_target = target.loc[xte_index]\n",
    "    \n",
    "    d_training = lgbm.Dataset(xtr_features, label=xtr_target,categorical_feature=categorical_feature, free_raw_data=False)\n",
    "    d_test = lgbm.Dataset(xte_features, label=xte_target,categorical_feature=categorical_feature, free_raw_data=False)\n",
    "    \n",
    "    model = lgbm.train(params, train_set=d_training, num_boost_round=2000, valid_sets=[d_training,d_test], verbose_eval=25, early_stopping_rounds=50)\n",
    "    models.append(model)\n",
    "    del xtr_features, xtr_target, xte_features, xte_target, d_training, d_test\n",
    "    gc.collect()"
   ]
  },
  {
   "cell_type": "code",
   "execution_count": 86,
   "metadata": {},
   "outputs": [
    {
     "name": "stdout",
     "output_type": "stream",
     "text": [
      "Train RMSLE =  0.6110801658001193\n"
     ]
    }
   ],
   "source": [
    "print('Train RMSLE = ',rmsle_score(np.expm1(y_train) , np.expm1(model.predict(x_train))))"
   ]
  },
  {
   "cell_type": "code",
   "execution_count": 87,
   "metadata": {},
   "outputs": [
    {
     "name": "stdout",
     "output_type": "stream",
     "text": [
      "Test RMSLE =  0.8442427909513902\n"
     ]
    }
   ],
   "source": [
    "print('Test RMSLE = ',rmsle_score(np.expm1(y_test) , np.expm1(model.predict(x_test))))"
   ]
  },
  {
   "cell_type": "markdown",
   "metadata": {},
   "source": [
    "#### The Train & Test RMSLE for HyperParameter Tuned LBGM Model have improved further from what we obtained for baseline model. Now the Train RMSLE is 0.60 & the Test RMSLE is 0.84."
   ]
  },
  {
   "cell_type": "code",
   "execution_count": 88,
   "metadata": {},
   "outputs": [
    {
     "data": {
      "image/png": "[encoded data removed]",
      "text/plain": [
       "<Figure size 1296x1080 with 1 Axes>"
      ]
     },
     "metadata": {
      "needs_background": "light"
     },
     "output_type": "display_data"
    }
   ],
   "source": [
    "plt.rcParams['figure.figsize'] = (18,15)\n",
    "lgbm.plot_importance(models[0], importance_type='gain')\n",
    "plt.show()"
   ]
  },
  {
   "cell_type": "markdown",
   "metadata": {},
   "source": [
    "By using feature importance attribute of the LBGM Model we get which feature contributed the most for the output.\n",
    "\n",
    "The top 10 features that contributed the most for predictions are as follows - \n",
    "\n",
    "i) Building ID \n",
    "\n",
    "ii) Meter type \n",
    "\n",
    "iii) Area \n",
    "\n",
    "iv) Log of Area\n",
    "\n",
    "v) Site ID\n",
    "\n",
    "vi) Air Temperature \n",
    "\n",
    "vii) Day\n",
    "\n",
    "Viii) Primary use\n",
    "\n",
    "ix) sea level pressure mean lag 72\n",
    "\n",
    "x) air temperature mean lag 72"
   ]
  }
 ],
 "metadata": {
  "kernelspec": {
   "display_name": "Python 3",
   "language": "python",
   "name": "python3"
  },
  "language_info": {
   "codemirror_mode": {
    "name": "ipython",
    "version": 3
   },
   "file_extension": ".py",
   "mimetype": "text/x-python",
   "name": "python",
   "nbconvert_exporter": "python",
   "pygments_lexer": "ipython3",
   "version": "3.6.5"
  }
 },
 "nbformat": 4,
 "nbformat_minor": 2
}
