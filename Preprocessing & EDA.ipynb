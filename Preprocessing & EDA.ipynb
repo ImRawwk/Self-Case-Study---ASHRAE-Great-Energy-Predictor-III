{
 "cells": [
  {
   "cell_type": "markdown",
   "metadata": {},
   "source": [
    "# ASHRAE - Great Energy Predictor III Challenge "
   ]
  },
  {
   "cell_type": "markdown",
   "metadata": {},
   "source": [
    "![](ashrae.png)"
   ]
  },
  {
   "cell_type": "markdown",
   "metadata": {},
   "source": [
    "### Importing Libraries "
   ]
  },
  {
   "cell_type": "code",
   "execution_count": 1,
   "metadata": {},
   "outputs": [
    {
     "data": {
      "text/html": [
       "        <script type=\"text/javascript\">\n",
       "        window.PlotlyConfig = {MathJaxConfig: 'local'};\n",
       "        if (window.MathJax) {MathJax.Hub.Config({SVG: {font: \"STIX-Web\"}});}\n",
       "        if (typeof require !== 'undefined') {\n",
       "        require.undef(\"plotly\");\n",
       "        requirejs.config({\n",
       "            paths: {\n",
       "                'plotly': ['https://cdn.plot.ly/plotly-latest.min']\n",
       "            }\n",
       "        });\n",
       "        require(['plotly'], function(Plotly) {\n",
       "            window._Plotly = Plotly;\n",
       "        });\n",
       "        }\n",
       "        </script>\n",
       "        "
      ]
     },
     "metadata": {},
     "output_type": "display_data"
    }
   ],
   "source": [
    "import os \n",
    "import random\n",
    "import math \n",
    "import pickle\n",
    "\n",
    "import gc\n",
    "import pandas as pd\n",
    "import numpy as np\n",
    "\n",
    "import matplotlib.pyplot as plt\n",
    "%matplotlib inline\n",
    "import seaborn as sns\n",
    "\n",
    "from plotly import tools, subplots\n",
    "import plotly.offline as py\n",
    "py.init_notebook_mode(connected=True)\n",
    "import plotly.graph_objs as go\n",
    "import plotly.express as px\n",
    "import datetime\n",
    "\n",
    "from sklearn.linear_model import Ridge\n",
    "from sklearn.metrics import mean_squared_error\n",
    "import lightgbm as lgbm"
   ]
  },
  {
   "cell_type": "code",
   "execution_count": 2,
   "metadata": {},
   "outputs": [],
   "source": [
    "# Suppress warnings \n",
    "import warnings\n",
    "warnings.filterwarnings(\"ignore\", category=DeprecationWarning)\n",
    "warnings.filterwarnings(\"ignore\", category=UserWarning)\n",
    "warnings.filterwarnings(\"ignore\", category=FutureWarning)"
   ]
  },
  {
   "cell_type": "markdown",
   "metadata": {},
   "source": [
    "### Loading Data "
   ]
  },
  {
   "cell_type": "code",
   "execution_count": 3,
   "metadata": {},
   "outputs": [],
   "source": [
    "build_meta = pd.read_csv('building_metadata.csv')\n",
    "weather_tr = pd.read_csv('weather_train.csv')\n",
    "#weather_te = pd.read_csv('weather_test.csv')\n",
    "train_data = pd.read_csv('train.csv')\n",
    "#test_data = pd.read_csv('test.csv')"
   ]
  },
  {
   "cell_type": "code",
   "execution_count": 4,
   "metadata": {},
   "outputs": [
    {
     "name": "stdout",
     "output_type": "stream",
     "text": [
      "Number of data points in build_meta (1449, 6)\n",
      "Number of data points in weather_tr (139773, 9)\n",
      "Number of data points in train_data (20216100, 4)\n"
     ]
    }
   ],
   "source": [
    "print(\"Number of data points in build_meta\", build_meta.shape) \n",
    "print(\"Number of data points in weather_tr\", weather_tr.shape)\n",
    "#print(\"Number of data points in weather_te\", weather_te.shape)\n",
    "print(\"Number of data points in train_data\", train_data.shape)\n",
    "#print(\"Number of data points in test_data\", test_data.shape)"
   ]
  },
  {
   "cell_type": "code",
   "execution_count": 5,
   "metadata": {},
   "outputs": [
    {
     "name": "stdout",
     "output_type": "stream",
     "text": [
      "The attributes of building meta data : ['site_id' 'building_id' 'primary_use' 'square_feet' 'year_built'\n",
      " 'floor_count']\n"
     ]
    }
   ],
   "source": [
    "print(\"The attributes of building meta data :\", build_meta.columns.values)"
   ]
  },
  {
   "cell_type": "code",
   "execution_count": 6,
   "metadata": {},
   "outputs": [
    {
     "name": "stdout",
     "output_type": "stream",
     "text": [
      "The attributes of weather data : ['site_id' 'timestamp' 'air_temperature' 'cloud_coverage'\n",
      " 'dew_temperature' 'precip_depth_1_hr' 'sea_level_pressure'\n",
      " 'wind_direction' 'wind_speed']\n"
     ]
    }
   ],
   "source": [
    "print(\"The attributes of weather data :\", weather_tr.columns.values)"
   ]
  },
  {
   "cell_type": "code",
   "execution_count": 7,
   "metadata": {},
   "outputs": [
    {
     "name": "stdout",
     "output_type": "stream",
     "text": [
      "The attributes of train data : ['building_id' 'meter' 'timestamp' 'meter_reading']\n"
     ]
    }
   ],
   "source": [
    "print(\"The attributes of train data :\", train_data.columns.values)"
   ]
  },
  {
   "cell_type": "markdown",
   "metadata": {},
   "source": [
    "#  <a id = 'section2'> 2. Data Cleaning & Preprocessing </font> </a>"
   ]
  },
  {
   "cell_type": "markdown",
   "metadata": {},
   "source": [
    "#### To fit the data in our RAM  We are considering a fraction of 2000000 data points from the total training set."
   ]
  },
  {
   "cell_type": "code",
   "execution_count": 8,
   "metadata": {},
   "outputs": [],
   "source": [
    "train_data = train_data[0:2000000]"
   ]
  },
  {
   "cell_type": "markdown",
   "metadata": {},
   "source": [
    "### 2.1 Removing Null values from Weather DataFrame "
   ]
  },
  {
   "cell_type": "markdown",
   "metadata": {},
   "source": [
    "For cleaning weather DataFrame we are following this notebook https://www.kaggle.com/aitude/ashrae-missing-weather-data-handling"
   ]
  },
  {
   "cell_type": "code",
   "execution_count": 9,
   "metadata": {},
   "outputs": [],
   "source": [
    "weather_tr[\"cloud_coverage\"] = (weather_tr[\"cloud_coverage\"]).astype(np.float32)"
   ]
  },
  {
   "cell_type": "code",
   "execution_count": 10,
   "metadata": {},
   "outputs": [],
   "source": [
    "weather_tr[\"sea_level_pressure\"] = (weather_tr[\"sea_level_pressure\"]).astype(np.float32)"
   ]
  },
  {
   "cell_type": "code",
   "execution_count": 11,
   "metadata": {},
   "outputs": [],
   "source": [
    "weather_tr[\"precip_depth_1_hr\"] = (weather_tr[\"precip_depth_1_hr\"]).astype(np.float32)"
   ]
  },
  {
   "cell_type": "code",
   "execution_count": 12,
   "metadata": {},
   "outputs": [
    {
     "data": {
      "text/plain": [
       "site_id                 int64\n",
       "timestamp              object\n",
       "air_temperature       float64\n",
       "cloud_coverage        float32\n",
       "dew_temperature       float64\n",
       "precip_depth_1_hr     float32\n",
       "sea_level_pressure    float32\n",
       "wind_direction        float64\n",
       "wind_speed            float64\n",
       "dtype: object"
      ]
     },
     "execution_count": 12,
     "metadata": {},
     "output_type": "execute_result"
    }
   ],
   "source": [
    "weather_tr.dtypes"
   ]
  },
  {
   "cell_type": "code",
   "execution_count": 13,
   "metadata": {},
   "outputs": [],
   "source": [
    "# Full cedits to - https://www.kaggle.com/aitude/ashrae-missing-weather-data-handling\n",
    "\n",
    "'''This function removes null values present in the weather dataframe'''\n",
    "\n",
    "def fill_weather_dataset(weather_df):\n",
    "    \n",
    "    # Find Missing Dates\n",
    "    time_format = \"%Y-%m-%d %H:%M:%S\"\n",
    "    start_date = datetime.datetime.strptime(weather_df['timestamp'].min(),time_format)\n",
    "    end_date = datetime.datetime.strptime(weather_df['timestamp'].max(),time_format)\n",
    "    total_hours = int(((end_date - start_date).total_seconds() + 3600) / 3600)\n",
    "    hours_list = [(end_date - datetime.timedelta(hours=x)).strftime(time_format) for x in range(total_hours)]\n",
    "\n",
    "    missing_hours = []\n",
    "    for site_id in range(16):\n",
    "        site_hours = np.array(weather_df[weather_df['site_id'] == site_id]['timestamp'])\n",
    "        new_rows = pd.DataFrame(np.setdiff1d(hours_list,site_hours),columns=['timestamp'])\n",
    "        new_rows['site_id'] = site_id\n",
    "        weather_df = pd.concat([weather_df,new_rows])\n",
    "\n",
    "        weather_df = weather_df.reset_index(drop=True)           \n",
    "\n",
    "    # Add new Features\n",
    "    weather_df[\"datetime\"] = pd.to_datetime(weather_df[\"timestamp\"])\n",
    "    weather_df[\"day\"] = weather_df[\"datetime\"].dt.day\n",
    "    weather_df[\"week\"] = weather_df[\"datetime\"].dt.week\n",
    "    weather_df[\"month\"] = weather_df[\"datetime\"].dt.month\n",
    "    \n",
    "    # Reset Index for Fast Update\n",
    "    weather_df = weather_df.set_index(['site_id','day','month'])\n",
    "\n",
    "    air_temperature_filler = pd.DataFrame(weather_df.groupby(['site_id','day','month'])['air_temperature'].mean(),columns=[\"air_temperature\"])\n",
    "    weather_df.update(air_temperature_filler,overwrite=False)\n",
    "\n",
    "    # Step 1\n",
    "    cloud_coverage_filler = weather_df.groupby(['site_id','day','month'])['cloud_coverage'].mean()\n",
    "    # Step 2\n",
    "    cloud_coverage_filler = pd.DataFrame(cloud_coverage_filler.fillna(method='ffill'),columns=[\"cloud_coverage\"])\n",
    "\n",
    "    weather_df.update(cloud_coverage_filler,overwrite=False)\n",
    "\n",
    "    due_temperature_filler = pd.DataFrame(weather_df.groupby(['site_id','day','month'])['dew_temperature'].mean(),columns=[\"dew_temperature\"])\n",
    "    weather_df.update(due_temperature_filler,overwrite=False)\n",
    "\n",
    "    # Step 1\n",
    "    sea_level_filler = weather_df.groupby(['site_id','day','month'])['sea_level_pressure'].mean()\n",
    "    # Step 2\n",
    "    sea_level_filler = pd.DataFrame(sea_level_filler.fillna(method='ffill'),columns=['sea_level_pressure'])\n",
    "\n",
    "    weather_df.update(sea_level_filler,overwrite=False)\n",
    "\n",
    "    wind_direction_filler =  pd.DataFrame(weather_df.groupby(['site_id','day','month'])['wind_direction'].mean(),columns=['wind_direction'])\n",
    "    weather_df.update(wind_direction_filler,overwrite=False)\n",
    "\n",
    "    wind_speed_filler =  pd.DataFrame(weather_df.groupby(['site_id','day','month'])['wind_speed'].mean(),columns=['wind_speed'])\n",
    "    weather_df.update(wind_speed_filler,overwrite=False)\n",
    "\n",
    "    # Step 1\n",
    "    precip_depth_filler = weather_df.groupby(['site_id','day','month'])['precip_depth_1_hr'].mean()\n",
    "    # Step 2\n",
    "    precip_depth_filler = pd.DataFrame(precip_depth_filler.fillna(method='ffill'),columns=['precip_depth_1_hr'])\n",
    "\n",
    "    weather_df.update(precip_depth_filler,overwrite=False)\n",
    "\n",
    "    weather_df = weather_df.reset_index()\n",
    "    weather_df = weather_df.drop(['datetime','day','week','month'],axis=1)\n",
    "        \n",
    "    return weather_df"
   ]
  },
  {
   "cell_type": "code",
   "execution_count": 14,
   "metadata": {},
   "outputs": [],
   "source": [
    "weather_train_df = fill_weather_dataset(weather_tr)"
   ]
  },
  {
   "cell_type": "code",
   "execution_count": 15,
   "metadata": {},
   "outputs": [
    {
     "data": {
      "text/plain": [
       "site_id               0\n",
       "timestamp             0\n",
       "air_temperature       0\n",
       "cloud_coverage        0\n",
       "dew_temperature       0\n",
       "precip_depth_1_hr     0\n",
       "sea_level_pressure    0\n",
       "wind_direction        0\n",
       "wind_speed            0\n",
       "dtype: int64"
      ]
     },
     "execution_count": 15,
     "metadata": {},
     "output_type": "execute_result"
    }
   ],
   "source": [
    "weather_train_df.isnull().sum()"
   ]
  },
  {
   "cell_type": "markdown",
   "metadata": {},
   "source": [
    "### 2.2  Checking training dataframe for zero values "
   ]
  },
  {
   "cell_type": "code",
   "execution_count": 16,
   "metadata": {},
   "outputs": [
    {
     "data": {
      "text/plain": [
       "building_id      0\n",
       "meter            0\n",
       "timestamp        0\n",
       "meter_reading    0\n",
       "dtype: int64"
      ]
     },
     "execution_count": 16,
     "metadata": {},
     "output_type": "execute_result"
    }
   ],
   "source": [
    "train_data.isnull().sum()"
   ]
  },
  {
   "cell_type": "markdown",
   "metadata": {},
   "source": [
    "### 2.3 Checking building dataframe for zero values "
   ]
  },
  {
   "cell_type": "code",
   "execution_count": 17,
   "metadata": {},
   "outputs": [
    {
     "data": {
      "text/plain": [
       "site_id           0\n",
       "building_id       0\n",
       "primary_use       0\n",
       "square_feet       0\n",
       "year_built      774\n",
       "floor_count    1094\n",
       "dtype: int64"
      ]
     },
     "execution_count": 17,
     "metadata": {},
     "output_type": "execute_result"
    }
   ],
   "source": [
    "build_meta.isnull().sum()"
   ]
  },
  {
   "cell_type": "markdown",
   "metadata": {},
   "source": [
    "#### Number of zero values by percentage"
   ]
  },
  {
   "cell_type": "code",
   "execution_count": 18,
   "metadata": {},
   "outputs": [
    {
     "name": "stdout",
     "output_type": "stream",
     "text": [
      "site_id         0.000000\n",
      "building_id     0.000000\n",
      "primary_use     0.000000\n",
      "square_feet     0.000000\n",
      "year_built     53.416149\n",
      "floor_count    75.500345\n",
      "dtype: float64\n"
     ]
    }
   ],
   "source": [
    "percent_missing = build_meta.isnull().sum() * 100 / len(build_meta)\n",
    "print(percent_missing)"
   ]
  },
  {
   "cell_type": "markdown",
   "metadata": {},
   "source": [
    "Built year & Floor count Feature have more than 50% of missing values so we won't be using them in our modelling."
   ]
  },
  {
   "cell_type": "code",
   "execution_count": 19,
   "metadata": {},
   "outputs": [],
   "source": [
    "# Credits to - https://www.kaggle.com/corochann/ashrae-training-lgbm-by-meter-type\n",
    "\n",
    "'''This function adds lags feature in the weather dataframe for given window '''\n",
    "\n",
    "def add_lag_feature(weather_df, window=3):\n",
    "    group_df = weather_df.groupby('site_id')\n",
    "    cols = ['air_temperature', 'cloud_coverage', 'dew_temperature', 'precip_depth_1_hr', 'sea_level_pressure', 'wind_direction', 'wind_speed']\n",
    "    rolled = group_df[cols].rolling(window=window, min_periods=0)\n",
    "    lag_mean = rolled.mean().reset_index().astype(np.float16)\n",
    "    lag_max = rolled.max().reset_index().astype(np.float16)\n",
    "    lag_min = rolled.min().reset_index().astype(np.float16)\n",
    "    lag_std = rolled.std().reset_index().astype(np.float16)\n",
    "    for col in cols:\n",
    "        weather_df[f'{col}_mean_lag{window}'] = lag_mean[col]\n",
    "        weather_df[f'{col}_max_lag{window}'] = lag_max[col]\n",
    "        weather_df[f'{col}_min_lag{window}'] = lag_min[col]\n",
    "        weather_df[f'{col}_std_lag{window}'] = lag_std[col]"
   ]
  },
  {
   "cell_type": "code",
   "execution_count": 20,
   "metadata": {},
   "outputs": [],
   "source": [
    "add_lag_feature(weather_train_df, window=3)\n",
    "add_lag_feature(weather_train_df, window=72)"
   ]
  },
  {
   "cell_type": "code",
   "execution_count": 21,
   "metadata": {},
   "outputs": [
    {
     "data": {
      "text/html": [
       "<div>\n",
       "<style scoped>\n",
       "    .dataframe tbody tr th:only-of-type {\n",
       "        vertical-align: middle;\n",
       "    }\n",
       "\n",
       "    .dataframe tbody tr th {\n",
       "        vertical-align: top;\n",
       "    }\n",
       "\n",
       "    .dataframe thead th {\n",
       "        text-align: right;\n",
       "    }\n",
       "</style>\n",
       "<table border=\"1\" class=\"dataframe\">\n",
       "  <thead>\n",
       "    <tr style=\"text-align: right;\">\n",
       "      <th></th>\n",
       "      <th>site_id</th>\n",
       "      <th>timestamp</th>\n",
       "      <th>air_temperature</th>\n",
       "      <th>cloud_coverage</th>\n",
       "      <th>dew_temperature</th>\n",
       "      <th>precip_depth_1_hr</th>\n",
       "      <th>sea_level_pressure</th>\n",
       "      <th>wind_direction</th>\n",
       "      <th>wind_speed</th>\n",
       "      <th>air_temperature_mean_lag3</th>\n",
       "      <th>...</th>\n",
       "      <th>sea_level_pressure_min_lag72</th>\n",
       "      <th>sea_level_pressure_std_lag72</th>\n",
       "      <th>wind_direction_mean_lag72</th>\n",
       "      <th>wind_direction_max_lag72</th>\n",
       "      <th>wind_direction_min_lag72</th>\n",
       "      <th>wind_direction_std_lag72</th>\n",
       "      <th>wind_speed_mean_lag72</th>\n",
       "      <th>wind_speed_max_lag72</th>\n",
       "      <th>wind_speed_min_lag72</th>\n",
       "      <th>wind_speed_std_lag72</th>\n",
       "    </tr>\n",
       "  </thead>\n",
       "  <tbody>\n",
       "    <tr>\n",
       "      <th>0</th>\n",
       "      <td>0</td>\n",
       "      <td>2016-01-01 00:00:00</td>\n",
       "      <td>25.0</td>\n",
       "      <td>6.000000</td>\n",
       "      <td>20.0</td>\n",
       "      <td>-0.173913</td>\n",
       "      <td>1019.700012</td>\n",
       "      <td>0.0</td>\n",
       "      <td>0.0</td>\n",
       "      <td>25.000000</td>\n",
       "      <td>...</td>\n",
       "      <td>1019.5</td>\n",
       "      <td>NaN</td>\n",
       "      <td>0.000000</td>\n",
       "      <td>0.0</td>\n",
       "      <td>0.0</td>\n",
       "      <td>NaN</td>\n",
       "      <td>0.000000</td>\n",
       "      <td>0.000000</td>\n",
       "      <td>0.0</td>\n",
       "      <td>NaN</td>\n",
       "    </tr>\n",
       "    <tr>\n",
       "      <th>1</th>\n",
       "      <td>0</td>\n",
       "      <td>2016-01-01 01:00:00</td>\n",
       "      <td>24.4</td>\n",
       "      <td>4.285714</td>\n",
       "      <td>21.1</td>\n",
       "      <td>-1.000000</td>\n",
       "      <td>1020.200012</td>\n",
       "      <td>70.0</td>\n",
       "      <td>1.5</td>\n",
       "      <td>24.703125</td>\n",
       "      <td>...</td>\n",
       "      <td>1019.5</td>\n",
       "      <td>0.353516</td>\n",
       "      <td>35.000000</td>\n",
       "      <td>70.0</td>\n",
       "      <td>0.0</td>\n",
       "      <td>49.50000</td>\n",
       "      <td>0.750000</td>\n",
       "      <td>1.500000</td>\n",
       "      <td>0.0</td>\n",
       "      <td>1.060547</td>\n",
       "    </tr>\n",
       "    <tr>\n",
       "      <th>2</th>\n",
       "      <td>0</td>\n",
       "      <td>2016-01-01 02:00:00</td>\n",
       "      <td>22.8</td>\n",
       "      <td>2.000000</td>\n",
       "      <td>21.1</td>\n",
       "      <td>0.000000</td>\n",
       "      <td>1020.200012</td>\n",
       "      <td>0.0</td>\n",
       "      <td>0.0</td>\n",
       "      <td>24.062500</td>\n",
       "      <td>...</td>\n",
       "      <td>1019.5</td>\n",
       "      <td>0.288574</td>\n",
       "      <td>23.328125</td>\n",
       "      <td>70.0</td>\n",
       "      <td>0.0</td>\n",
       "      <td>40.40625</td>\n",
       "      <td>0.500000</td>\n",
       "      <td>1.500000</td>\n",
       "      <td>0.0</td>\n",
       "      <td>0.866211</td>\n",
       "    </tr>\n",
       "    <tr>\n",
       "      <th>3</th>\n",
       "      <td>0</td>\n",
       "      <td>2016-01-01 03:00:00</td>\n",
       "      <td>21.1</td>\n",
       "      <td>2.000000</td>\n",
       "      <td>20.6</td>\n",
       "      <td>0.000000</td>\n",
       "      <td>1020.099976</td>\n",
       "      <td>0.0</td>\n",
       "      <td>0.0</td>\n",
       "      <td>22.765625</td>\n",
       "      <td>...</td>\n",
       "      <td>1019.5</td>\n",
       "      <td>0.238037</td>\n",
       "      <td>17.500000</td>\n",
       "      <td>70.0</td>\n",
       "      <td>0.0</td>\n",
       "      <td>35.00000</td>\n",
       "      <td>0.375000</td>\n",
       "      <td>1.500000</td>\n",
       "      <td>0.0</td>\n",
       "      <td>0.750000</td>\n",
       "    </tr>\n",
       "    <tr>\n",
       "      <th>4</th>\n",
       "      <td>0</td>\n",
       "      <td>2016-01-01 04:00:00</td>\n",
       "      <td>20.0</td>\n",
       "      <td>2.000000</td>\n",
       "      <td>20.0</td>\n",
       "      <td>-1.000000</td>\n",
       "      <td>1020.000000</td>\n",
       "      <td>250.0</td>\n",
       "      <td>2.6</td>\n",
       "      <td>21.296875</td>\n",
       "      <td>...</td>\n",
       "      <td>1019.5</td>\n",
       "      <td>0.207397</td>\n",
       "      <td>64.000000</td>\n",
       "      <td>250.0</td>\n",
       "      <td>0.0</td>\n",
       "      <td>108.31250</td>\n",
       "      <td>0.819824</td>\n",
       "      <td>2.599609</td>\n",
       "      <td>0.0</td>\n",
       "      <td>1.188477</td>\n",
       "    </tr>\n",
       "  </tbody>\n",
       "</table>\n",
       "<p>5 rows × 65 columns</p>\n",
       "</div>"
      ],
      "text/plain": [
       "   site_id            timestamp  air_temperature  cloud_coverage  \\\n",
       "0        0  2016-01-01 00:00:00             25.0        6.000000   \n",
       "1        0  2016-01-01 01:00:00             24.4        4.285714   \n",
       "2        0  2016-01-01 02:00:00             22.8        2.000000   \n",
       "3        0  2016-01-01 03:00:00             21.1        2.000000   \n",
       "4        0  2016-01-01 04:00:00             20.0        2.000000   \n",
       "\n",
       "   dew_temperature  precip_depth_1_hr  sea_level_pressure  wind_direction  \\\n",
       "0             20.0          -0.173913         1019.700012             0.0   \n",
       "1             21.1          -1.000000         1020.200012            70.0   \n",
       "2             21.1           0.000000         1020.200012             0.0   \n",
       "3             20.6           0.000000         1020.099976             0.0   \n",
       "4             20.0          -1.000000         1020.000000           250.0   \n",
       "\n",
       "   wind_speed  air_temperature_mean_lag3  ...  sea_level_pressure_min_lag72  \\\n",
       "0         0.0                  25.000000  ...                        1019.5   \n",
       "1         1.5                  24.703125  ...                        1019.5   \n",
       "2         0.0                  24.062500  ...                        1019.5   \n",
       "3         0.0                  22.765625  ...                        1019.5   \n",
       "4         2.6                  21.296875  ...                        1019.5   \n",
       "\n",
       "   sea_level_pressure_std_lag72  wind_direction_mean_lag72  \\\n",
       "0                           NaN                   0.000000   \n",
       "1                      0.353516                  35.000000   \n",
       "2                      0.288574                  23.328125   \n",
       "3                      0.238037                  17.500000   \n",
       "4                      0.207397                  64.000000   \n",
       "\n",
       "   wind_direction_max_lag72  wind_direction_min_lag72  \\\n",
       "0                       0.0                       0.0   \n",
       "1                      70.0                       0.0   \n",
       "2                      70.0                       0.0   \n",
       "3                      70.0                       0.0   \n",
       "4                     250.0                       0.0   \n",
       "\n",
       "   wind_direction_std_lag72  wind_speed_mean_lag72  wind_speed_max_lag72  \\\n",
       "0                       NaN               0.000000              0.000000   \n",
       "1                  49.50000               0.750000              1.500000   \n",
       "2                  40.40625               0.500000              1.500000   \n",
       "3                  35.00000               0.375000              1.500000   \n",
       "4                 108.31250               0.819824              2.599609   \n",
       "\n",
       "   wind_speed_min_lag72  wind_speed_std_lag72  \n",
       "0                   0.0                   NaN  \n",
       "1                   0.0              1.060547  \n",
       "2                   0.0              0.866211  \n",
       "3                   0.0              0.750000  \n",
       "4                   0.0              1.188477  \n",
       "\n",
       "[5 rows x 65 columns]"
      ]
     },
     "execution_count": 21,
     "metadata": {},
     "output_type": "execute_result"
    }
   ],
   "source": [
    "weather_train_df.head()"
   ]
  },
  {
   "cell_type": "code",
   "execution_count": 22,
   "metadata": {},
   "outputs": [
    {
     "data": {
      "text/plain": [
       "Index(['site_id', 'timestamp', 'air_temperature', 'cloud_coverage',\n",
       "       'dew_temperature', 'precip_depth_1_hr', 'sea_level_pressure',\n",
       "       'wind_direction', 'wind_speed', 'air_temperature_mean_lag3',\n",
       "       'air_temperature_max_lag3', 'air_temperature_min_lag3',\n",
       "       'air_temperature_std_lag3', 'cloud_coverage_mean_lag3',\n",
       "       'cloud_coverage_max_lag3', 'cloud_coverage_min_lag3',\n",
       "       'cloud_coverage_std_lag3', 'dew_temperature_mean_lag3',\n",
       "       'dew_temperature_max_lag3', 'dew_temperature_min_lag3',\n",
       "       'dew_temperature_std_lag3', 'precip_depth_1_hr_mean_lag3',\n",
       "       'precip_depth_1_hr_max_lag3', 'precip_depth_1_hr_min_lag3',\n",
       "       'precip_depth_1_hr_std_lag3', 'sea_level_pressure_mean_lag3',\n",
       "       'sea_level_pressure_max_lag3', 'sea_level_pressure_min_lag3',\n",
       "       'sea_level_pressure_std_lag3', 'wind_direction_mean_lag3',\n",
       "       'wind_direction_max_lag3', 'wind_direction_min_lag3',\n",
       "       'wind_direction_std_lag3', 'wind_speed_mean_lag3',\n",
       "       'wind_speed_max_lag3', 'wind_speed_min_lag3', 'wind_speed_std_lag3',\n",
       "       'air_temperature_mean_lag72', 'air_temperature_max_lag72',\n",
       "       'air_temperature_min_lag72', 'air_temperature_std_lag72',\n",
       "       'cloud_coverage_mean_lag72', 'cloud_coverage_max_lag72',\n",
       "       'cloud_coverage_min_lag72', 'cloud_coverage_std_lag72',\n",
       "       'dew_temperature_mean_lag72', 'dew_temperature_max_lag72',\n",
       "       'dew_temperature_min_lag72', 'dew_temperature_std_lag72',\n",
       "       'precip_depth_1_hr_mean_lag72', 'precip_depth_1_hr_max_lag72',\n",
       "       'precip_depth_1_hr_min_lag72', 'precip_depth_1_hr_std_lag72',\n",
       "       'sea_level_pressure_mean_lag72', 'sea_level_pressure_max_lag72',\n",
       "       'sea_level_pressure_min_lag72', 'sea_level_pressure_std_lag72',\n",
       "       'wind_direction_mean_lag72', 'wind_direction_max_lag72',\n",
       "       'wind_direction_min_lag72', 'wind_direction_std_lag72',\n",
       "       'wind_speed_mean_lag72', 'wind_speed_max_lag72', 'wind_speed_min_lag72',\n",
       "       'wind_speed_std_lag72'],\n",
       "      dtype='object')"
      ]
     },
     "execution_count": 22,
     "metadata": {},
     "output_type": "execute_result"
    }
   ],
   "source": [
    "weather_train_df.columns"
   ]
  },
  {
   "cell_type": "code",
   "execution_count": 23,
   "metadata": {},
   "outputs": [
    {
     "data": {
      "text/plain": [
       "(140544, 65)"
      ]
     },
     "execution_count": 23,
     "metadata": {},
     "output_type": "execute_result"
    }
   ],
   "source": [
    "weather_train_df.shape"
   ]
  },
  {
   "cell_type": "code",
   "execution_count": 24,
   "metadata": {},
   "outputs": [
    {
     "data": {
      "text/plain": [
       "site_id                      0\n",
       "timestamp                    0\n",
       "air_temperature              0\n",
       "cloud_coverage               0\n",
       "dew_temperature              0\n",
       "                            ..\n",
       "wind_direction_std_lag72    16\n",
       "wind_speed_mean_lag72        0\n",
       "wind_speed_max_lag72         0\n",
       "wind_speed_min_lag72         0\n",
       "wind_speed_std_lag72        16\n",
       "Length: 65, dtype: int64"
      ]
     },
     "execution_count": 24,
     "metadata": {},
     "output_type": "execute_result"
    }
   ],
   "source": [
    "weather_train_df.isnull().sum()"
   ]
  },
  {
   "cell_type": "markdown",
   "metadata": {},
   "source": [
    "### 2.4 Merging the DataFrames"
   ]
  },
  {
   "cell_type": "code",
   "execution_count": 25,
   "metadata": {},
   "outputs": [],
   "source": [
    "# merge all the cleaned dataframes into one single dataframe\n",
    "train_one = train_data.merge(right = build_meta, on = 'building_id', how = 'left')\n",
    "xtr = train_one.merge(right = weather_train_df, on = ['site_id','timestamp'], how = 'left')"
   ]
  },
  {
   "cell_type": "code",
   "execution_count": 26,
   "metadata": {},
   "outputs": [
    {
     "name": "stdout",
     "output_type": "stream",
     "text": [
      "Number of data points in merged training set (2000000, 72)\n"
     ]
    }
   ],
   "source": [
    "print(\"Number of data points in merged training set\", xtr.shape)"
   ]
  },
  {
   "cell_type": "code",
   "execution_count": 27,
   "metadata": {},
   "outputs": [
    {
     "data": {
      "text/plain": [
       "Index(['building_id', 'meter', 'timestamp', 'meter_reading', 'site_id',\n",
       "       'primary_use', 'square_feet', 'year_built', 'floor_count',\n",
       "       'air_temperature', 'cloud_coverage', 'dew_temperature',\n",
       "       'precip_depth_1_hr', 'sea_level_pressure', 'wind_direction',\n",
       "       'wind_speed', 'air_temperature_mean_lag3', 'air_temperature_max_lag3',\n",
       "       'air_temperature_min_lag3', 'air_temperature_std_lag3',\n",
       "       'cloud_coverage_mean_lag3', 'cloud_coverage_max_lag3',\n",
       "       'cloud_coverage_min_lag3', 'cloud_coverage_std_lag3',\n",
       "       'dew_temperature_mean_lag3', 'dew_temperature_max_lag3',\n",
       "       'dew_temperature_min_lag3', 'dew_temperature_std_lag3',\n",
       "       'precip_depth_1_hr_mean_lag3', 'precip_depth_1_hr_max_lag3',\n",
       "       'precip_depth_1_hr_min_lag3', 'precip_depth_1_hr_std_lag3',\n",
       "       'sea_level_pressure_mean_lag3', 'sea_level_pressure_max_lag3',\n",
       "       'sea_level_pressure_min_lag3', 'sea_level_pressure_std_lag3',\n",
       "       'wind_direction_mean_lag3', 'wind_direction_max_lag3',\n",
       "       'wind_direction_min_lag3', 'wind_direction_std_lag3',\n",
       "       'wind_speed_mean_lag3', 'wind_speed_max_lag3', 'wind_speed_min_lag3',\n",
       "       'wind_speed_std_lag3', 'air_temperature_mean_lag72',\n",
       "       'air_temperature_max_lag72', 'air_temperature_min_lag72',\n",
       "       'air_temperature_std_lag72', 'cloud_coverage_mean_lag72',\n",
       "       'cloud_coverage_max_lag72', 'cloud_coverage_min_lag72',\n",
       "       'cloud_coverage_std_lag72', 'dew_temperature_mean_lag72',\n",
       "       'dew_temperature_max_lag72', 'dew_temperature_min_lag72',\n",
       "       'dew_temperature_std_lag72', 'precip_depth_1_hr_mean_lag72',\n",
       "       'precip_depth_1_hr_max_lag72', 'precip_depth_1_hr_min_lag72',\n",
       "       'precip_depth_1_hr_std_lag72', 'sea_level_pressure_mean_lag72',\n",
       "       'sea_level_pressure_max_lag72', 'sea_level_pressure_min_lag72',\n",
       "       'sea_level_pressure_std_lag72', 'wind_direction_mean_lag72',\n",
       "       'wind_direction_max_lag72', 'wind_direction_min_lag72',\n",
       "       'wind_direction_std_lag72', 'wind_speed_mean_lag72',\n",
       "       'wind_speed_max_lag72', 'wind_speed_min_lag72', 'wind_speed_std_lag72'],\n",
       "      dtype='object')"
      ]
     },
     "execution_count": 27,
     "metadata": {},
     "output_type": "execute_result"
    }
   ],
   "source": [
    "xtr.columns"
   ]
  },
  {
   "cell_type": "markdown",
   "metadata": {},
   "source": [
    "###  2.5 Function to reduce Memory usage by the dataframes"
   ]
  },
  {
   "cell_type": "code",
   "execution_count": 28,
   "metadata": {},
   "outputs": [],
   "source": [
    "#Full credits to -\n",
    "#https://www.kaggle.com/arjanso/reducing-dataframe-memory-size-by-65\n",
    "\n",
    "'''This Function reduces the size of the dataset columns by selecting samller datatypes '''\n",
    "\n",
    "def reduce_mem_usg(df, verbose=True):\n",
    "    numerics = ['int16', 'int32', 'int64', 'float16', 'float32', 'float64']\n",
    "    start_mem = df.memory_usage().sum() / 1024**2    \n",
    "    for col in df.columns:\n",
    "        col_type = df[col].dtypes\n",
    "        if col_type in numerics:\n",
    "            c_min = df[col].min()\n",
    "            c_max = df[col].max()\n",
    "            if str(col_type)[:3] == 'int':\n",
    "                if c_min > np.iinfo(np.int8).min and c_max < np.iinfo(np.int8).max:\n",
    "                    df[col] = df[col].astype(np.int8)\n",
    "                elif c_min > np.iinfo(np.int16).min and c_max < np.iinfo(np.int16).max:\n",
    "                    df[col] = df[col].astype(np.int16)\n",
    "                elif c_min > np.iinfo(np.int32).min and c_max < np.iinfo(np.int32).max:\n",
    "                    df[col] = df[col].astype(np.int32)\n",
    "                elif c_min > np.iinfo(np.int64).min and c_max < np.iinfo(np.int64).max:\n",
    "                    df[col] = df[col].astype(np.int64)  \n",
    "            else:\n",
    "                if c_min > np.finfo(np.float16).min and c_max < np.finfo(np.float16).max:\n",
    "                    df[col] = df[col].astype(np.float16)\n",
    "                elif c_min > np.finfo(np.float32).min and c_max < np.finfo(np.float32).max:\n",
    "                    df[col] = df[col].astype(np.float32)\n",
    "                else:\n",
    "                    df[col] = df[col].astype(np.float64)    \n",
    "    end_mem = df.memory_usage().sum() / 1024**2\n",
    "    if verbose: print('Mem. usage decreased to {:5.2f} Mb ({:.1f}% reduction)'.format(end_mem, 100 * (start_mem - end_mem) / start_mem))\n",
    "    return df"
   ]
  },
  {
   "cell_type": "code",
   "execution_count": 29,
   "metadata": {},
   "outputs": [
    {
     "name": "stdout",
     "output_type": "stream",
     "text": [
      "Mem. usage decreased to 316.62 Mb (33.1% reduction)\n"
     ]
    }
   ],
   "source": [
    "final_xtr = reduce_mem_usg(xtr)"
   ]
  },
  {
   "cell_type": "markdown",
   "metadata": {},
   "source": [
    "#### Removing long streaks of zero values from site_id 0"
   ]
  },
  {
   "cell_type": "code",
   "execution_count": 29,
   "metadata": {},
   "outputs": [],
   "source": [
    "final_xtr['timestamp']=pd.to_datetime(final_xtr[\"timestamp\"],format='%Y-%m-%d %H')"
   ]
  },
  {
   "cell_type": "code",
   "execution_count": 30,
   "metadata": {},
   "outputs": [],
   "source": [
    "final_xtr['date'] = final_xtr['timestamp'].dt.date"
   ]
  },
  {
   "cell_type": "code",
   "execution_count": 31,
   "metadata": {},
   "outputs": [],
   "source": [
    "final_xtr['meter_reading_log1p'] = np.log1p(final_xtr['meter_reading'])"
   ]
  },
  {
   "cell_type": "code",
   "execution_count": 32,
   "metadata": {},
   "outputs": [
    {
     "data": {
      "application/vnd.plotly.v1+json": {
       "config": {
        "plotlyServerURL": "https://plot.ly"
       },
       "data": [
        {
         "hoverlabel": {
          "namelength": 0
         },
         "hovertemplate": "date=%{x}<br>meter_reading_log1p=%{y}",
         "legendgroup": "",
         "line": {
          "color": "#636efa",
          "dash": "solid"
         },
         "mode": "lines",
         "name": "",
         "showlegend": false,
         "type": "scatter",
         "x": [
          "2016-01-01",
          "2016-01-02",
          "2016-01-03",
          "2016-01-04",
          "2016-01-05",
          "2016-01-06",
          "2016-01-07",
          "2016-01-08",
          "2016-01-09",
          "2016-01-10",
          "2016-01-11",
          "2016-01-12",
          "2016-01-13",
          "2016-01-14",
          "2016-01-15",
          "2016-01-16",
          "2016-01-17",
          "2016-01-18",
          "2016-01-19",
          "2016-01-20",
          "2016-01-21",
          "2016-01-22",
          "2016-01-23",
          "2016-01-24",
          "2016-01-25",
          "2016-01-26",
          "2016-01-27",
          "2016-01-28",
          "2016-01-29",
          "2016-01-30",
          "2016-01-31",
          "2016-02-01",
          "2016-02-02",
          "2016-02-03",
          "2016-02-04",
          "2016-02-05",
          "2016-02-06",
          "2016-02-07",
          "2016-02-08",
          "2016-02-09",
          "2016-02-10",
          "2016-02-11",
          "2016-02-12",
          "2016-02-13",
          "2016-02-14",
          "2016-02-15",
          "2016-02-16",
          "2016-02-17",
          "2016-02-18",
          "2016-02-19",
          "2016-02-20",
          "2016-02-21",
          "2016-02-22",
          "2016-02-23",
          "2016-02-24",
          "2016-02-25",
          "2016-02-26",
          "2016-02-27",
          "2016-02-28",
          "2016-02-29",
          "2016-03-01",
          "2016-03-02",
          "2016-03-03",
          "2016-03-04",
          "2016-03-05",
          "2016-03-06",
          "2016-03-07",
          "2016-03-08",
          "2016-03-09",
          "2016-03-10",
          "2016-03-11",
          "2016-03-12",
          "2016-03-13",
          "2016-03-14",
          "2016-03-15",
          "2016-03-16",
          "2016-03-17",
          "2016-03-18",
          "2016-03-19",
          "2016-03-20",
          "2016-03-21",
          "2016-03-22",
          "2016-03-23",
          "2016-03-24",
          "2016-03-25",
          "2016-03-26",
          "2016-03-27",
          "2016-03-28",
          "2016-03-29",
          "2016-03-30",
          "2016-03-31",
          "2016-04-01",
          "2016-04-02",
          "2016-04-03",
          "2016-04-04",
          "2016-04-05",
          "2016-04-06",
          "2016-04-07",
          "2016-04-08",
          "2016-04-09",
          "2016-04-10",
          "2016-04-11",
          "2016-04-12",
          "2016-04-13",
          "2016-04-14",
          "2016-04-15",
          "2016-04-16",
          "2016-04-17",
          "2016-04-18",
          "2016-04-19",
          "2016-04-20",
          "2016-04-21",
          "2016-04-22",
          "2016-04-23",
          "2016-04-24",
          "2016-04-25",
          "2016-04-26",
          "2016-04-27",
          "2016-04-28",
          "2016-04-29",
          "2016-04-30",
          "2016-05-01",
          "2016-05-02",
          "2016-05-03",
          "2016-05-04",
          "2016-05-05",
          "2016-05-06",
          "2016-05-07",
          "2016-05-08",
          "2016-05-09",
          "2016-05-10",
          "2016-05-11",
          "2016-05-12",
          "2016-05-13",
          "2016-05-14",
          "2016-05-15",
          "2016-05-16",
          "2016-05-17",
          "2016-05-18",
          "2016-05-19",
          "2016-05-20",
          "2016-05-21",
          "2016-05-22",
          "2016-05-23",
          "2016-05-24",
          "2016-05-25",
          "2016-05-26",
          "2016-05-27",
          "2016-05-28",
          "2016-05-29",
          "2016-05-30",
          "2016-05-31",
          "2016-06-01",
          "2016-06-02",
          "2016-06-03",
          "2016-06-04",
          "2016-06-05",
          "2016-06-06",
          "2016-06-07",
          "2016-06-08",
          "2016-06-09",
          "2016-06-10",
          "2016-06-11",
          "2016-06-12",
          "2016-06-13",
          "2016-06-14",
          "2016-06-15",
          "2016-06-16",
          "2016-06-17",
          "2016-06-18",
          "2016-06-19",
          "2016-06-20",
          "2016-06-21",
          "2016-06-22",
          "2016-06-23",
          "2016-06-24",
          "2016-06-25",
          "2016-06-26",
          "2016-06-27",
          "2016-06-28",
          "2016-06-29",
          "2016-06-30",
          "2016-07-01",
          "2016-07-02",
          "2016-07-03",
          "2016-07-04",
          "2016-07-05",
          "2016-07-06",
          "2016-07-07",
          "2016-07-08",
          "2016-07-09",
          "2016-07-10",
          "2016-07-11",
          "2016-07-12",
          "2016-07-13",
          "2016-07-14",
          "2016-07-15",
          "2016-07-16",
          "2016-07-17",
          "2016-07-18",
          "2016-07-19",
          "2016-07-20",
          "2016-07-21",
          "2016-07-22",
          "2016-07-23",
          "2016-07-24",
          "2016-07-25",
          "2016-07-26",
          "2016-07-27",
          "2016-07-28",
          "2016-07-29",
          "2016-07-30",
          "2016-07-31",
          "2016-08-01",
          "2016-08-02",
          "2016-08-03",
          "2016-08-04",
          "2016-08-05",
          "2016-08-06",
          "2016-08-07",
          "2016-08-08",
          "2016-08-09",
          "2016-08-10",
          "2016-08-11",
          "2016-08-12",
          "2016-08-13",
          "2016-08-14",
          "2016-08-15",
          "2016-08-16",
          "2016-08-17",
          "2016-08-18",
          "2016-08-19",
          "2016-08-20",
          "2016-08-21",
          "2016-08-22",
          "2016-08-23",
          "2016-08-24",
          "2016-08-25",
          "2016-08-26",
          "2016-08-27",
          "2016-08-28",
          "2016-08-29",
          "2016-08-30",
          "2016-08-31",
          "2016-09-01",
          "2016-09-02",
          "2016-09-03",
          "2016-09-04",
          "2016-09-05",
          "2016-09-06",
          "2016-09-07",
          "2016-09-08",
          "2016-09-09",
          "2016-09-10",
          "2016-09-11",
          "2016-09-12",
          "2016-09-13",
          "2016-09-14",
          "2016-09-15",
          "2016-09-16",
          "2016-09-17",
          "2016-09-18",
          "2016-09-19",
          "2016-09-20",
          "2016-09-21",
          "2016-09-22",
          "2016-09-23",
          "2016-09-24",
          "2016-09-25",
          "2016-09-26",
          "2016-09-27",
          "2016-09-28",
          "2016-09-29",
          "2016-09-30",
          "2016-10-01",
          "2016-10-02",
          "2016-10-03",
          "2016-10-04",
          "2016-10-05",
          "2016-10-06",
          "2016-10-07",
          "2016-10-08",
          "2016-10-09",
          "2016-10-10",
          "2016-10-11",
          "2016-10-12",
          "2016-10-13",
          "2016-10-14",
          "2016-10-15",
          "2016-10-16",
          "2016-10-17",
          "2016-10-18",
          "2016-10-19",
          "2016-10-20",
          "2016-10-21",
          "2016-10-22",
          "2016-10-23",
          "2016-10-24",
          "2016-10-25",
          "2016-10-26",
          "2016-10-27",
          "2016-10-28",
          "2016-10-29",
          "2016-10-30",
          "2016-10-31",
          "2016-11-01",
          "2016-11-02",
          "2016-11-03",
          "2016-11-04",
          "2016-11-05",
          "2016-11-06",
          "2016-11-07",
          "2016-11-08",
          "2016-11-09",
          "2016-11-10",
          "2016-11-11",
          "2016-11-12",
          "2016-11-13",
          "2016-11-14",
          "2016-11-15",
          "2016-11-16",
          "2016-11-17",
          "2016-11-18",
          "2016-11-19",
          "2016-11-20",
          "2016-11-21",
          "2016-11-22",
          "2016-11-23",
          "2016-11-24",
          "2016-11-25",
          "2016-11-26",
          "2016-11-27",
          "2016-11-28",
          "2016-11-29",
          "2016-11-30",
          "2016-12-01",
          "2016-12-02",
          "2016-12-03",
          "2016-12-04",
          "2016-12-05",
          "2016-12-06",
          "2016-12-07",
          "2016-12-08",
          "2016-12-09",
          "2016-12-10",
          "2016-12-11",
          "2016-12-12",
          "2016-12-13",
          "2016-12-14",
          "2016-12-15",
          "2016-12-16",
          "2016-12-17",
          "2016-12-18",
          "2016-12-19",
          "2016-12-20",
          "2016-12-21",
          "2016-12-22",
          "2016-12-23",
          "2016-12-24",
          "2016-12-25",
          "2016-12-26",
          "2016-12-27",
          "2016-12-28",
          "2016-12-29",
          "2016-12-30",
          "2016-12-31"
         ],
         "xaxis": "x",
         "y": [
          0,
          0,
          0,
          0,
          0,
          0,
          0,
          0,
          0,
          0,
          0,
          0,
          0,
          0,
          0,
          0,
          0,
          0,
          0,
          0,
          0,
          0,
          0,
          0,
          0,
          0,
          0,
          0,
          0,
          3.7996132373809814,
          7.632465839385986,
          0,
          0,
          0,
          0,
          0,
          0,
          0,
          0,
          0,
          0,
          0,
          0,
          0,
          0,
          0,
          0,
          0,
          0,
          0,
          0,
          0,
          0,
          0,
          0,
          0,
          0,
          0,
          0,
          0,
          0,
          0,
          0,
          0,
          0,
          0,
          0,
          0,
          0,
          0,
          0,
          0,
          0,
          0,
          0,
          0,
          0,
          0,
          0,
          0,
          0,
          0,
          0,
          0,
          0,
          0,
          0,
          0,
          0,
          0,
          0,
          0,
          0,
          0,
          0,
          0,
          0,
          0,
          4.10070276260376,
          0,
          0,
          0,
          0,
          0,
          0,
          0,
          0,
          0,
          0,
          0,
          0,
          0,
          0,
          0,
          0,
          0,
          0,
          0,
          0,
          0,
          0,
          6.107022762298584,
          0,
          0,
          0,
          0,
          0,
          0,
          0,
          0,
          0,
          0,
          0,
          0,
          0,
          0,
          0,
          0,
          0,
          0,
          33.057987213134766,
          134.71018981933594,
          134.1073455810547,
          130.9675750732422,
          132.0335693359375,
          130.99998474121094,
          125.26758575439453,
          124.95530700683594,
          124.9484634399414,
          124.34684753417969,
          124.22061157226562,
          124.57176208496094,
          126.91262817382812,
          130.5518341064453,
          132.33460998535156,
          129.13172912597656,
          132.08384704589844,
          132.24072265625,
          132.22874450683594,
          132.36578369140625,
          132.73318481445312,
          132.8050537109375,
          132.52761840820312,
          132.4447021484375,
          131.94146728515625,
          133.4530029296875,
          136.91053771972656,
          136.4991912841797,
          135.88296508789062,
          135.48135375976562,
          134.12484741210938,
          131.74655151367188,
          131.50082397460938,
          133.01205444335938,
          135.25784301757812,
          135.35499572753906,
          131.96347045898438,
          131.62985229492188,
          132.12083435058594,
          131.80201721191406,
          132.0540313720703,
          132.02716064453125,
          132.06845092773438,
          131.96412658691406,
          132.01214599609375,
          129.505126953125,
          126.66239166259766,
          131.32264709472656,
          131.20779418945312,
          133.80166625976562,
          136.83651733398438,
          136.4031982421875,
          137.16705322265625,
          137.29054260253906,
          136.90631103515625,
          135.03091430664062,
          136.99635314941406,
          135.466064453125,
          136.84765625,
          137.35194396972656,
          136.4055633544922,
          136.5723419189453,
          137.36561584472656,
          136.89527893066406,
          134.81468200683594,
          135.3423614501953,
          135.65109252929688,
          137.03982543945312,
          137.523193359375,
          137.3031768798828,
          136.9947967529297,
          135.35110473632812,
          135.4712677001953,
          135.3988037109375,
          136.44728088378906,
          136.80410766601562,
          137.49473571777344,
          136.6499786376953,
          136.44284057617188,
          136.84588623046875,
          136.23667907714844,
          135.691162109375,
          136.23825073242188,
          136.73316955566406,
          136.5297088623047,
          135.17727661132812,
          137.63894653320312,
          137.7595977783203,
          138.04824829101562,
          137.79248046875,
          137.78770446777344,
          136.9610595703125,
          137.65736389160156,
          137.54783630371094,
          137.9827423095703,
          135.64791870117188,
          131.47024536132812,
          132.088134765625,
          131.94338989257812,
          131.51905822753906,
          131.30931091308594,
          131.723876953125,
          131.93809509277344,
          131.9034881591797,
          132.53497314453125,
          131.8201904296875,
          131.68763732910156,
          131.74945068359375,
          132.20257568359375,
          132.5576171875,
          132.4263458251953,
          132.7139129638672,
          132.1024932861328,
          131.6021728515625,
          131.5250701904297,
          131.60595703125,
          131.58590698242188,
          131.85028076171875,
          131.49937438964844,
          131.83680725097656,
          131.6388397216797,
          131.81448364257812,
          132.05445861816406,
          131.70254516601562,
          132.00225830078125,
          132.17730712890625,
          131.99893188476562,
          131.42086791992188,
          131.5450439453125,
          131.9328155517578,
          132.61276245117188,
          132.4155731201172,
          132.25367736816406,
          132.14697265625,
          131.96202087402344,
          131.92758178710938,
          132.43043518066406,
          132.26702880859375,
          131.9862823486328,
          131.7167205810547,
          132.4303741455078,
          132.3080291748047,
          132.60885620117188,
          131.57249450683594,
          132.8376922607422,
          133.3428955078125,
          133.49002075195312,
          133.0937042236328,
          132.89773559570312,
          132.88966369628906,
          133.19883728027344,
          134.33839416503906,
          133.0824737548828,
          133.23175048828125,
          133.6276092529297,
          128.9917449951172,
          128.0859832763672,
          129.79217529296875,
          124.66342163085938,
          126.8377685546875,
          126.43231964111328,
          126.61927795410156,
          125.82713317871094,
          126.65996551513672,
          126.16893768310547,
          127.12374114990234,
          126.74170684814453,
          126.7533950805664,
          126.82157897949219,
          126.42809295654297,
          126.25882720947266,
          126.70542907714844,
          127.32318115234375,
          127.6822280883789,
          127.66221618652344,
          124.6925277709961,
          124.01881408691406,
          125.89675903320312,
          127.97262573242188,
          128.40625,
          125.4758529663086,
          126.31859588623047,
          125.64822387695312,
          125.09354400634766,
          126.62516021728516,
          128.41659545898438,
          127.8663101196289,
          126.41450500488281,
          127.14070129394531,
          128.25985717773438,
          128.69590759277344,
          126.01018524169922,
          126.03695678710938,
          127.28697967529297,
          126.7769775390625,
          126.74989318847656,
          126.54124450683594,
          125.68497467041016,
          125.19774627685547,
          127.1847152709961,
          129.90171813964844,
          131.84588623046875,
          103.84867858886719,
          108.07442474365234,
          106.8003158569336,
          104.56847381591797,
          103.05452728271484,
          114.74431610107422,
          127.64204406738281,
          126.86119079589844,
          127.02235412597656,
          126.14326477050781,
          126.16004943847656,
          125.740234375,
          129.23806762695312,
          128.46644592285156,
          125.822265625,
          125.77572631835938,
          128.1398162841797,
          128.10287475585938,
          127.95777130126953,
          128.039306640625,
          128.4950408935547,
          127.54216003417969,
          126.68147277832031,
          128.910888671875
         ],
         "yaxis": "y"
        }
       ],
       "layout": {
        "legend": {
         "tracegroupgap": 0
        },
        "margin": {
         "t": 60
        },
        "template": {
         "data": {
          "bar": [
           {
            "error_x": {
             "color": "#2a3f5f"
            },
            "error_y": {
             "color": "#2a3f5f"
            },
            "marker": {
             "line": {
              "color": "#E5ECF6",
              "width": 0.5
             }
            },
            "type": "bar"
           }
          ],
          "barpolar": [
           {
            "marker": {
             "line": {
              "color": "#E5ECF6",
              "width": 0.5
             }
            },
            "type": "barpolar"
           }
          ],
          "carpet": [
           {
            "aaxis": {
             "endlinecolor": "#2a3f5f",
             "gridcolor": "white",
             "linecolor": "white",
             "minorgridcolor": "white",
             "startlinecolor": "#2a3f5f"
            },
            "baxis": {
             "endlinecolor": "#2a3f5f",
             "gridcolor": "white",
             "linecolor": "white",
             "minorgridcolor": "white",
             "startlinecolor": "#2a3f5f"
            },
            "type": "carpet"
           }
          ],
          "choropleth": [
           {
            "colorbar": {
             "outlinewidth": 0,
             "ticks": ""
            },
            "type": "choropleth"
           }
          ],
          "contour": [
           {
            "colorbar": {
             "outlinewidth": 0,
             "ticks": ""
            },
            "colorscale": [
             [
              0,
              "#0d0887"
             ],
             [
              0.1111111111111111,
              "#46039f"
             ],
             [
              0.2222222222222222,
              "#7201a8"
             ],
             [
              0.3333333333333333,
              "#9c179e"
             ],
             [
              0.4444444444444444,
              "#bd3786"
             ],
             [
              0.5555555555555556,
              "#d8576b"
             ],
             [
              0.6666666666666666,
              "#ed7953"
             ],
             [
              0.7777777777777778,
              "#fb9f3a"
             ],
             [
              0.8888888888888888,
              "#fdca26"
             ],
             [
              1,
              "#f0f921"
             ]
            ],
            "type": "contour"
           }
          ],
          "contourcarpet": [
           {
            "colorbar": {
             "outlinewidth": 0,
             "ticks": ""
            },
            "type": "contourcarpet"
           }
          ],
          "heatmap": [
           {
            "colorbar": {
             "outlinewidth": 0,
             "ticks": ""
            },
            "colorscale": [
             [
              0,
              "#0d0887"
             ],
             [
              0.1111111111111111,
              "#46039f"
             ],
             [
              0.2222222222222222,
              "#7201a8"
             ],
             [
              0.3333333333333333,
              "#9c179e"
             ],
             [
              0.4444444444444444,
              "#bd3786"
             ],
             [
              0.5555555555555556,
              "#d8576b"
             ],
             [
              0.6666666666666666,
              "#ed7953"
             ],
             [
              0.7777777777777778,
              "#fb9f3a"
             ],
             [
              0.8888888888888888,
              "#fdca26"
             ],
             [
              1,
              "#f0f921"
             ]
            ],
            "type": "heatmap"
           }
          ],
          "heatmapgl": [
           {
            "colorbar": {
             "outlinewidth": 0,
             "ticks": ""
            },
            "colorscale": [
             [
              0,
              "#0d0887"
             ],
             [
              0.1111111111111111,
              "#46039f"
             ],
             [
              0.2222222222222222,
              "#7201a8"
             ],
             [
              0.3333333333333333,
              "#9c179e"
             ],
             [
              0.4444444444444444,
              "#bd3786"
             ],
             [
              0.5555555555555556,
              "#d8576b"
             ],
             [
              0.6666666666666666,
              "#ed7953"
             ],
             [
              0.7777777777777778,
              "#fb9f3a"
             ],
             [
              0.8888888888888888,
              "#fdca26"
             ],
             [
              1,
              "#f0f921"
             ]
            ],
            "type": "heatmapgl"
           }
          ],
          "histogram": [
           {
            "marker": {
             "colorbar": {
              "outlinewidth": 0,
              "ticks": ""
             }
            },
            "type": "histogram"
           }
          ],
          "histogram2d": [
           {
            "colorbar": {
             "outlinewidth": 0,
             "ticks": ""
            },
            "colorscale": [
             [
              0,
              "#0d0887"
             ],
             [
              0.1111111111111111,
              "#46039f"
             ],
             [
              0.2222222222222222,
              "#7201a8"
             ],
             [
              0.3333333333333333,
              "#9c179e"
             ],
             [
              0.4444444444444444,
              "#bd3786"
             ],
             [
              0.5555555555555556,
              "#d8576b"
             ],
             [
              0.6666666666666666,
              "#ed7953"
             ],
             [
              0.7777777777777778,
              "#fb9f3a"
             ],
             [
              0.8888888888888888,
              "#fdca26"
             ],
             [
              1,
              "#f0f921"
             ]
            ],
            "type": "histogram2d"
           }
          ],
          "histogram2dcontour": [
           {
            "colorbar": {
             "outlinewidth": 0,
             "ticks": ""
            },
            "colorscale": [
             [
              0,
              "#0d0887"
             ],
             [
              0.1111111111111111,
              "#46039f"
             ],
             [
              0.2222222222222222,
              "#7201a8"
             ],
             [
              0.3333333333333333,
              "#9c179e"
             ],
             [
              0.4444444444444444,
              "#bd3786"
             ],
             [
              0.5555555555555556,
              "#d8576b"
             ],
             [
              0.6666666666666666,
              "#ed7953"
             ],
             [
              0.7777777777777778,
              "#fb9f3a"
             ],
             [
              0.8888888888888888,
              "#fdca26"
             ],
             [
              1,
              "#f0f921"
             ]
            ],
            "type": "histogram2dcontour"
           }
          ],
          "mesh3d": [
           {
            "colorbar": {
             "outlinewidth": 0,
             "ticks": ""
            },
            "type": "mesh3d"
           }
          ],
          "parcoords": [
           {
            "line": {
             "colorbar": {
              "outlinewidth": 0,
              "ticks": ""
             }
            },
            "type": "parcoords"
           }
          ],
          "pie": [
           {
            "automargin": true,
            "type": "pie"
           }
          ],
          "scatter": [
           {
            "marker": {
             "colorbar": {
              "outlinewidth": 0,
              "ticks": ""
             }
            },
            "type": "scatter"
           }
          ],
          "scatter3d": [
           {
            "line": {
             "colorbar": {
              "outlinewidth": 0,
              "ticks": ""
             }
            },
            "marker": {
             "colorbar": {
              "outlinewidth": 0,
              "ticks": ""
             }
            },
            "type": "scatter3d"
           }
          ],
          "scattercarpet": [
           {
            "marker": {
             "colorbar": {
              "outlinewidth": 0,
              "ticks": ""
             }
            },
            "type": "scattercarpet"
           }
          ],
          "scattergeo": [
           {
            "marker": {
             "colorbar": {
              "outlinewidth": 0,
              "ticks": ""
             }
            },
            "type": "scattergeo"
           }
          ],
          "scattergl": [
           {
            "marker": {
             "colorbar": {
              "outlinewidth": 0,
              "ticks": ""
             }
            },
            "type": "scattergl"
           }
          ],
          "scattermapbox": [
           {
            "marker": {
             "colorbar": {
              "outlinewidth": 0,
              "ticks": ""
             }
            },
            "type": "scattermapbox"
           }
          ],
          "scatterpolar": [
           {
            "marker": {
             "colorbar": {
              "outlinewidth": 0,
              "ticks": ""
             }
            },
            "type": "scatterpolar"
           }
          ],
          "scatterpolargl": [
           {
            "marker": {
             "colorbar": {
              "outlinewidth": 0,
              "ticks": ""
             }
            },
            "type": "scatterpolargl"
           }
          ],
          "scatterternary": [
           {
            "marker": {
             "colorbar": {
              "outlinewidth": 0,
              "ticks": ""
             }
            },
            "type": "scatterternary"
           }
          ],
          "surface": [
           {
            "colorbar": {
             "outlinewidth": 0,
             "ticks": ""
            },
            "colorscale": [
             [
              0,
              "#0d0887"
             ],
             [
              0.1111111111111111,
              "#46039f"
             ],
             [
              0.2222222222222222,
              "#7201a8"
             ],
             [
              0.3333333333333333,
              "#9c179e"
             ],
             [
              0.4444444444444444,
              "#bd3786"
             ],
             [
              0.5555555555555556,
              "#d8576b"
             ],
             [
              0.6666666666666666,
              "#ed7953"
             ],
             [
              0.7777777777777778,
              "#fb9f3a"
             ],
             [
              0.8888888888888888,
              "#fdca26"
             ],
             [
              1,
              "#f0f921"
             ]
            ],
            "type": "surface"
           }
          ],
          "table": [
           {
            "cells": {
             "fill": {
              "color": "#EBF0F8"
             },
             "line": {
              "color": "white"
             }
            },
            "header": {
             "fill": {
              "color": "#C8D4E3"
             },
             "line": {
              "color": "white"
             }
            },
            "type": "table"
           }
          ]
         },
         "layout": {
          "annotationdefaults": {
           "arrowcolor": "#2a3f5f",
           "arrowhead": 0,
           "arrowwidth": 1
          },
          "coloraxis": {
           "colorbar": {
            "outlinewidth": 0,
            "ticks": ""
           }
          },
          "colorscale": {
           "diverging": [
            [
             0,
             "#8e0152"
            ],
            [
             0.1,
             "#c51b7d"
            ],
            [
             0.2,
             "#de77ae"
            ],
            [
             0.3,
             "#f1b6da"
            ],
            [
             0.4,
             "#fde0ef"
            ],
            [
             0.5,
             "#f7f7f7"
            ],
            [
             0.6,
             "#e6f5d0"
            ],
            [
             0.7,
             "#b8e186"
            ],
            [
             0.8,
             "#7fbc41"
            ],
            [
             0.9,
             "#4d9221"
            ],
            [
             1,
             "#276419"
            ]
           ],
           "sequential": [
            [
             0,
             "#0d0887"
            ],
            [
             0.1111111111111111,
             "#46039f"
            ],
            [
             0.2222222222222222,
             "#7201a8"
            ],
            [
             0.3333333333333333,
             "#9c179e"
            ],
            [
             0.4444444444444444,
             "#bd3786"
            ],
            [
             0.5555555555555556,
             "#d8576b"
            ],
            [
             0.6666666666666666,
             "#ed7953"
            ],
            [
             0.7777777777777778,
             "#fb9f3a"
            ],
            [
             0.8888888888888888,
             "#fdca26"
            ],
            [
             1,
             "#f0f921"
            ]
           ],
           "sequentialminus": [
            [
             0,
             "#0d0887"
            ],
            [
             0.1111111111111111,
             "#46039f"
            ],
            [
             0.2222222222222222,
             "#7201a8"
            ],
            [
             0.3333333333333333,
             "#9c179e"
            ],
            [
             0.4444444444444444,
             "#bd3786"
            ],
            [
             0.5555555555555556,
             "#d8576b"
            ],
            [
             0.6666666666666666,
             "#ed7953"
            ],
            [
             0.7777777777777778,
             "#fb9f3a"
            ],
            [
             0.8888888888888888,
             "#fdca26"
            ],
            [
             1,
             "#f0f921"
            ]
           ]
          },
          "colorway": [
           "#636efa",
           "#EF553B",
           "#00cc96",
           "#ab63fa",
           "#FFA15A",
           "#19d3f3",
           "#FF6692",
           "#B6E880",
           "#FF97FF",
           "#FECB52"
          ],
          "font": {
           "color": "#2a3f5f"
          },
          "geo": {
           "bgcolor": "white",
           "lakecolor": "white",
           "landcolor": "#E5ECF6",
           "showlakes": true,
           "showland": true,
           "subunitcolor": "white"
          },
          "hoverlabel": {
           "align": "left"
          },
          "hovermode": "closest",
          "mapbox": {
           "style": "light"
          },
          "paper_bgcolor": "white",
          "plot_bgcolor": "#E5ECF6",
          "polar": {
           "angularaxis": {
            "gridcolor": "white",
            "linecolor": "white",
            "ticks": ""
           },
           "bgcolor": "#E5ECF6",
           "radialaxis": {
            "gridcolor": "white",
            "linecolor": "white",
            "ticks": ""
           }
          },
          "scene": {
           "xaxis": {
            "backgroundcolor": "#E5ECF6",
            "gridcolor": "white",
            "gridwidth": 2,
            "linecolor": "white",
            "showbackground": true,
            "ticks": "",
            "zerolinecolor": "white"
           },
           "yaxis": {
            "backgroundcolor": "#E5ECF6",
            "gridcolor": "white",
            "gridwidth": 2,
            "linecolor": "white",
            "showbackground": true,
            "ticks": "",
            "zerolinecolor": "white"
           },
           "zaxis": {
            "backgroundcolor": "#E5ECF6",
            "gridcolor": "white",
            "gridwidth": 2,
            "linecolor": "white",
            "showbackground": true,
            "ticks": "",
            "zerolinecolor": "white"
           }
          },
          "shapedefaults": {
           "line": {
            "color": "#2a3f5f"
           }
          },
          "ternary": {
           "aaxis": {
            "gridcolor": "white",
            "linecolor": "white",
            "ticks": ""
           },
           "baxis": {
            "gridcolor": "white",
            "linecolor": "white",
            "ticks": ""
           },
           "bgcolor": "#E5ECF6",
           "caxis": {
            "gridcolor": "white",
            "linecolor": "white",
            "ticks": ""
           }
          },
          "title": {
           "x": 0.05
          },
          "xaxis": {
           "automargin": true,
           "gridcolor": "white",
           "linecolor": "white",
           "ticks": "",
           "title": {
            "standoff": 15
           },
           "zerolinecolor": "white",
           "zerolinewidth": 2
          },
          "yaxis": {
           "automargin": true,
           "gridcolor": "white",
           "linecolor": "white",
           "ticks": "",
           "title": {
            "standoff": 15
           },
           "zerolinecolor": "white",
           "zerolinewidth": 2
          }
         }
        },
        "xaxis": {
         "anchor": "y",
         "domain": [
          0,
          1
         ],
         "title": {
          "text": "date"
         }
        },
        "yaxis": {
         "anchor": "x",
         "domain": [
          0,
          1
         ],
         "title": {
          "text": "meter_reading_log1p"
         }
        }
       }
      },
      "text/html": [
       "<div>\n",
       "        \n",
       "        \n",
       "            <div id=\"eb777c8f-7097-4194-95d2-102a9b449939\" class=\"plotly-graph-div\" style=\"height:525px; width:100%;\"></div>\n",
       "            <script type=\"text/javascript\">\n",
       "                require([\"plotly\"], function(Plotly) {\n",
       "                    window.PLOTLYENV=window.PLOTLYENV || {};\n",
       "                    \n",
       "                if (document.getElementById(\"eb777c8f-7097-4194-95d2-102a9b449939\")) {\n",
       "                    Plotly.newPlot(\n",
       "                        'eb777c8f-7097-4194-95d2-102a9b449939',\n",
       "                        [{\"hoverlabel\": {\"namelength\": 0}, \"hovertemplate\": \"date=%{x}<br>meter_reading_log1p=%{y}\", \"legendgroup\": \"\", \"line\": {\"color\": \"#636efa\", \"dash\": \"solid\"}, \"mode\": \"lines\", \"name\": \"\", \"showlegend\": false, \"type\": \"scatter\", \"x\": [\"2016-01-01\", \"2016-01-02\", \"2016-01-03\", \"2016-01-04\", \"2016-01-05\", \"2016-01-06\", \"2016-01-07\", \"2016-01-08\", \"2016-01-09\", \"2016-01-10\", \"2016-01-11\", \"2016-01-12\", \"2016-01-13\", \"2016-01-14\", \"2016-01-15\", \"2016-01-16\", \"2016-01-17\", \"2016-01-18\", \"2016-01-19\", \"2016-01-20\", \"2016-01-21\", \"2016-01-22\", \"2016-01-23\", \"2016-01-24\", \"2016-01-25\", \"2016-01-26\", \"2016-01-27\", \"2016-01-28\", \"2016-01-29\", \"2016-01-30\", \"2016-01-31\", \"2016-02-01\", \"2016-02-02\", \"2016-02-03\", \"2016-02-04\", \"2016-02-05\", \"2016-02-06\", \"2016-02-07\", \"2016-02-08\", \"2016-02-09\", \"2016-02-10\", \"2016-02-11\", \"2016-02-12\", \"2016-02-13\", \"2016-02-14\", \"2016-02-15\", \"2016-02-16\", \"2016-02-17\", \"2016-02-18\", \"2016-02-19\", \"2016-02-20\", \"2016-02-21\", \"2016-02-22\", \"2016-02-23\", \"2016-02-24\", \"2016-02-25\", \"2016-02-26\", \"2016-02-27\", \"2016-02-28\", \"2016-02-29\", \"2016-03-01\", \"2016-03-02\", \"2016-03-03\", \"2016-03-04\", \"2016-03-05\", \"2016-03-06\", \"2016-03-07\", \"2016-03-08\", \"2016-03-09\", \"2016-03-10\", \"2016-03-11\", \"2016-03-12\", \"2016-03-13\", \"2016-03-14\", \"2016-03-15\", \"2016-03-16\", \"2016-03-17\", \"2016-03-18\", \"2016-03-19\", \"2016-03-20\", \"2016-03-21\", \"2016-03-22\", \"2016-03-23\", \"2016-03-24\", \"2016-03-25\", \"2016-03-26\", \"2016-03-27\", \"2016-03-28\", \"2016-03-29\", \"2016-03-30\", \"2016-03-31\", \"2016-04-01\", \"2016-04-02\", \"2016-04-03\", \"2016-04-04\", \"2016-04-05\", \"2016-04-06\", \"2016-04-07\", \"2016-04-08\", \"2016-04-09\", \"2016-04-10\", \"2016-04-11\", \"2016-04-12\", \"2016-04-13\", \"2016-04-14\", \"2016-04-15\", \"2016-04-16\", \"2016-04-17\", \"2016-04-18\", \"2016-04-19\", \"2016-04-20\", \"2016-04-21\", \"2016-04-22\", \"2016-04-23\", \"2016-04-24\", \"2016-04-25\", \"2016-04-26\", \"2016-04-27\", \"2016-04-28\", \"2016-04-29\", \"2016-04-30\", \"2016-05-01\", \"2016-05-02\", \"2016-05-03\", \"2016-05-04\", \"2016-05-05\", \"2016-05-06\", \"2016-05-07\", \"2016-05-08\", \"2016-05-09\", \"2016-05-10\", \"2016-05-11\", \"2016-05-12\", \"2016-05-13\", \"2016-05-14\", \"2016-05-15\", \"2016-05-16\", \"2016-05-17\", \"2016-05-18\", \"2016-05-19\", \"2016-05-20\", \"2016-05-21\", \"2016-05-22\", \"2016-05-23\", \"2016-05-24\", \"2016-05-25\", \"2016-05-26\", \"2016-05-27\", \"2016-05-28\", \"2016-05-29\", \"2016-05-30\", \"2016-05-31\", \"2016-06-01\", \"2016-06-02\", \"2016-06-03\", \"2016-06-04\", \"2016-06-05\", \"2016-06-06\", \"2016-06-07\", \"2016-06-08\", \"2016-06-09\", \"2016-06-10\", \"2016-06-11\", \"2016-06-12\", \"2016-06-13\", \"2016-06-14\", \"2016-06-15\", \"2016-06-16\", \"2016-06-17\", \"2016-06-18\", \"2016-06-19\", \"2016-06-20\", \"2016-06-21\", \"2016-06-22\", \"2016-06-23\", \"2016-06-24\", \"2016-06-25\", \"2016-06-26\", \"2016-06-27\", \"2016-06-28\", \"2016-06-29\", \"2016-06-30\", \"2016-07-01\", \"2016-07-02\", \"2016-07-03\", \"2016-07-04\", \"2016-07-05\", \"2016-07-06\", \"2016-07-07\", \"2016-07-08\", \"2016-07-09\", \"2016-07-10\", \"2016-07-11\", \"2016-07-12\", \"2016-07-13\", \"2016-07-14\", \"2016-07-15\", \"2016-07-16\", \"2016-07-17\", \"2016-07-18\", \"2016-07-19\", \"2016-07-20\", \"2016-07-21\", \"2016-07-22\", \"2016-07-23\", \"2016-07-24\", \"2016-07-25\", \"2016-07-26\", \"2016-07-27\", \"2016-07-28\", \"2016-07-29\", \"2016-07-30\", \"2016-07-31\", \"2016-08-01\", \"2016-08-02\", \"2016-08-03\", \"2016-08-04\", \"2016-08-05\", \"2016-08-06\", \"2016-08-07\", \"2016-08-08\", \"2016-08-09\", \"2016-08-10\", \"2016-08-11\", \"2016-08-12\", \"2016-08-13\", \"2016-08-14\", \"2016-08-15\", \"2016-08-16\", \"2016-08-17\", \"2016-08-18\", \"2016-08-19\", \"2016-08-20\", \"2016-08-21\", \"2016-08-22\", \"2016-08-23\", \"2016-08-24\", \"2016-08-25\", \"2016-08-26\", \"2016-08-27\", \"2016-08-28\", \"2016-08-29\", \"2016-08-30\", \"2016-08-31\", \"2016-09-01\", \"2016-09-02\", \"2016-09-03\", \"2016-09-04\", \"2016-09-05\", \"2016-09-06\", \"2016-09-07\", \"2016-09-08\", \"2016-09-09\", \"2016-09-10\", \"2016-09-11\", \"2016-09-12\", \"2016-09-13\", \"2016-09-14\", \"2016-09-15\", \"2016-09-16\", \"2016-09-17\", \"2016-09-18\", \"2016-09-19\", \"2016-09-20\", \"2016-09-21\", \"2016-09-22\", \"2016-09-23\", \"2016-09-24\", \"2016-09-25\", \"2016-09-26\", \"2016-09-27\", \"2016-09-28\", \"2016-09-29\", \"2016-09-30\", \"2016-10-01\", \"2016-10-02\", \"2016-10-03\", \"2016-10-04\", \"2016-10-05\", \"2016-10-06\", \"2016-10-07\", \"2016-10-08\", \"2016-10-09\", \"2016-10-10\", \"2016-10-11\", \"2016-10-12\", \"2016-10-13\", \"2016-10-14\", \"2016-10-15\", \"2016-10-16\", \"2016-10-17\", \"2016-10-18\", \"2016-10-19\", \"2016-10-20\", \"2016-10-21\", \"2016-10-22\", \"2016-10-23\", \"2016-10-24\", \"2016-10-25\", \"2016-10-26\", \"2016-10-27\", \"2016-10-28\", \"2016-10-29\", \"2016-10-30\", \"2016-10-31\", \"2016-11-01\", \"2016-11-02\", \"2016-11-03\", \"2016-11-04\", \"2016-11-05\", \"2016-11-06\", \"2016-11-07\", \"2016-11-08\", \"2016-11-09\", \"2016-11-10\", \"2016-11-11\", \"2016-11-12\", \"2016-11-13\", \"2016-11-14\", \"2016-11-15\", \"2016-11-16\", \"2016-11-17\", \"2016-11-18\", \"2016-11-19\", \"2016-11-20\", \"2016-11-21\", \"2016-11-22\", \"2016-11-23\", \"2016-11-24\", \"2016-11-25\", \"2016-11-26\", \"2016-11-27\", \"2016-11-28\", \"2016-11-29\", \"2016-11-30\", \"2016-12-01\", \"2016-12-02\", \"2016-12-03\", \"2016-12-04\", \"2016-12-05\", \"2016-12-06\", \"2016-12-07\", \"2016-12-08\", \"2016-12-09\", \"2016-12-10\", \"2016-12-11\", \"2016-12-12\", \"2016-12-13\", \"2016-12-14\", \"2016-12-15\", \"2016-12-16\", \"2016-12-17\", \"2016-12-18\", \"2016-12-19\", \"2016-12-20\", \"2016-12-21\", \"2016-12-22\", \"2016-12-23\", \"2016-12-24\", \"2016-12-25\", \"2016-12-26\", \"2016-12-27\", \"2016-12-28\", \"2016-12-29\", \"2016-12-30\", \"2016-12-31\"], \"xaxis\": \"x\", \"y\": [0.0, 0.0, 0.0, 0.0, 0.0, 0.0, 0.0, 0.0, 0.0, 0.0, 0.0, 0.0, 0.0, 0.0, 0.0, 0.0, 0.0, 0.0, 0.0, 0.0, 0.0, 0.0, 0.0, 0.0, 0.0, 0.0, 0.0, 0.0, 0.0, 3.7996132373809814, 7.632465839385986, 0.0, 0.0, 0.0, 0.0, 0.0, 0.0, 0.0, 0.0, 0.0, 0.0, 0.0, 0.0, 0.0, 0.0, 0.0, 0.0, 0.0, 0.0, 0.0, 0.0, 0.0, 0.0, 0.0, 0.0, 0.0, 0.0, 0.0, 0.0, 0.0, 0.0, 0.0, 0.0, 0.0, 0.0, 0.0, 0.0, 0.0, 0.0, 0.0, 0.0, 0.0, 0.0, 0.0, 0.0, 0.0, 0.0, 0.0, 0.0, 0.0, 0.0, 0.0, 0.0, 0.0, 0.0, 0.0, 0.0, 0.0, 0.0, 0.0, 0.0, 0.0, 0.0, 0.0, 0.0, 0.0, 0.0, 0.0, 4.10070276260376, 0.0, 0.0, 0.0, 0.0, 0.0, 0.0, 0.0, 0.0, 0.0, 0.0, 0.0, 0.0, 0.0, 0.0, 0.0, 0.0, 0.0, 0.0, 0.0, 0.0, 0.0, 0.0, 6.107022762298584, 0.0, 0.0, 0.0, 0.0, 0.0, 0.0, 0.0, 0.0, 0.0, 0.0, 0.0, 0.0, 0.0, 0.0, 0.0, 0.0, 0.0, 0.0, 33.057987213134766, 134.71018981933594, 134.1073455810547, 130.9675750732422, 132.0335693359375, 130.99998474121094, 125.26758575439453, 124.95530700683594, 124.9484634399414, 124.34684753417969, 124.22061157226562, 124.57176208496094, 126.91262817382812, 130.5518341064453, 132.33460998535156, 129.13172912597656, 132.08384704589844, 132.24072265625, 132.22874450683594, 132.36578369140625, 132.73318481445312, 132.8050537109375, 132.52761840820312, 132.4447021484375, 131.94146728515625, 133.4530029296875, 136.91053771972656, 136.4991912841797, 135.88296508789062, 135.48135375976562, 134.12484741210938, 131.74655151367188, 131.50082397460938, 133.01205444335938, 135.25784301757812, 135.35499572753906, 131.96347045898438, 131.62985229492188, 132.12083435058594, 131.80201721191406, 132.0540313720703, 132.02716064453125, 132.06845092773438, 131.96412658691406, 132.01214599609375, 129.505126953125, 126.66239166259766, 131.32264709472656, 131.20779418945312, 133.80166625976562, 136.83651733398438, 136.4031982421875, 137.16705322265625, 137.29054260253906, 136.90631103515625, 135.03091430664062, 136.99635314941406, 135.466064453125, 136.84765625, 137.35194396972656, 136.4055633544922, 136.5723419189453, 137.36561584472656, 136.89527893066406, 134.81468200683594, 135.3423614501953, 135.65109252929688, 137.03982543945312, 137.523193359375, 137.3031768798828, 136.9947967529297, 135.35110473632812, 135.4712677001953, 135.3988037109375, 136.44728088378906, 136.80410766601562, 137.49473571777344, 136.6499786376953, 136.44284057617188, 136.84588623046875, 136.23667907714844, 135.691162109375, 136.23825073242188, 136.73316955566406, 136.5297088623047, 135.17727661132812, 137.63894653320312, 137.7595977783203, 138.04824829101562, 137.79248046875, 137.78770446777344, 136.9610595703125, 137.65736389160156, 137.54783630371094, 137.9827423095703, 135.64791870117188, 131.47024536132812, 132.088134765625, 131.94338989257812, 131.51905822753906, 131.30931091308594, 131.723876953125, 131.93809509277344, 131.9034881591797, 132.53497314453125, 131.8201904296875, 131.68763732910156, 131.74945068359375, 132.20257568359375, 132.5576171875, 132.4263458251953, 132.7139129638672, 132.1024932861328, 131.6021728515625, 131.5250701904297, 131.60595703125, 131.58590698242188, 131.85028076171875, 131.49937438964844, 131.83680725097656, 131.6388397216797, 131.81448364257812, 132.05445861816406, 131.70254516601562, 132.00225830078125, 132.17730712890625, 131.99893188476562, 131.42086791992188, 131.5450439453125, 131.9328155517578, 132.61276245117188, 132.4155731201172, 132.25367736816406, 132.14697265625, 131.96202087402344, 131.92758178710938, 132.43043518066406, 132.26702880859375, 131.9862823486328, 131.7167205810547, 132.4303741455078, 132.3080291748047, 132.60885620117188, 131.57249450683594, 132.8376922607422, 133.3428955078125, 133.49002075195312, 133.0937042236328, 132.89773559570312, 132.88966369628906, 133.19883728027344, 134.33839416503906, 133.0824737548828, 133.23175048828125, 133.6276092529297, 128.9917449951172, 128.0859832763672, 129.79217529296875, 124.66342163085938, 126.8377685546875, 126.43231964111328, 126.61927795410156, 125.82713317871094, 126.65996551513672, 126.16893768310547, 127.12374114990234, 126.74170684814453, 126.7533950805664, 126.82157897949219, 126.42809295654297, 126.25882720947266, 126.70542907714844, 127.32318115234375, 127.6822280883789, 127.66221618652344, 124.6925277709961, 124.01881408691406, 125.89675903320312, 127.97262573242188, 128.40625, 125.4758529663086, 126.31859588623047, 125.64822387695312, 125.09354400634766, 126.62516021728516, 128.41659545898438, 127.8663101196289, 126.41450500488281, 127.14070129394531, 128.25985717773438, 128.69590759277344, 126.01018524169922, 126.03695678710938, 127.28697967529297, 126.7769775390625, 126.74989318847656, 126.54124450683594, 125.68497467041016, 125.19774627685547, 127.1847152709961, 129.90171813964844, 131.84588623046875, 103.84867858886719, 108.07442474365234, 106.8003158569336, 104.56847381591797, 103.05452728271484, 114.74431610107422, 127.64204406738281, 126.86119079589844, 127.02235412597656, 126.14326477050781, 126.16004943847656, 125.740234375, 129.23806762695312, 128.46644592285156, 125.822265625, 125.77572631835938, 128.1398162841797, 128.10287475585938, 127.95777130126953, 128.039306640625, 128.4950408935547, 127.54216003417969, 126.68147277832031, 128.910888671875], \"yaxis\": \"y\"}],\n",
       "                        {\"legend\": {\"tracegroupgap\": 0}, \"margin\": {\"t\": 60}, \"template\": {\"data\": {\"bar\": [{\"error_x\": {\"color\": \"#2a3f5f\"}, \"error_y\": {\"color\": \"#2a3f5f\"}, \"marker\": {\"line\": {\"color\": \"#E5ECF6\", \"width\": 0.5}}, \"type\": \"bar\"}], \"barpolar\": [{\"marker\": {\"line\": {\"color\": \"#E5ECF6\", \"width\": 0.5}}, \"type\": \"barpolar\"}], \"carpet\": [{\"aaxis\": {\"endlinecolor\": \"#2a3f5f\", \"gridcolor\": \"white\", \"linecolor\": \"white\", \"minorgridcolor\": \"white\", \"startlinecolor\": \"#2a3f5f\"}, \"baxis\": {\"endlinecolor\": \"#2a3f5f\", \"gridcolor\": \"white\", \"linecolor\": \"white\", \"minorgridcolor\": \"white\", \"startlinecolor\": \"#2a3f5f\"}, \"type\": \"carpet\"}], \"choropleth\": [{\"colorbar\": {\"outlinewidth\": 0, \"ticks\": \"\"}, \"type\": \"choropleth\"}], \"contour\": [{\"colorbar\": {\"outlinewidth\": 0, \"ticks\": \"\"}, \"colorscale\": [[0.0, \"#0d0887\"], [0.1111111111111111, \"#46039f\"], [0.2222222222222222, \"#7201a8\"], [0.3333333333333333, \"#9c179e\"], [0.4444444444444444, \"#bd3786\"], [0.5555555555555556, \"#d8576b\"], [0.6666666666666666, \"#ed7953\"], [0.7777777777777778, \"#fb9f3a\"], [0.8888888888888888, \"#fdca26\"], [1.0, \"#f0f921\"]], \"type\": \"contour\"}], \"contourcarpet\": [{\"colorbar\": {\"outlinewidth\": 0, \"ticks\": \"\"}, \"type\": \"contourcarpet\"}], \"heatmap\": [{\"colorbar\": {\"outlinewidth\": 0, \"ticks\": \"\"}, \"colorscale\": [[0.0, \"#0d0887\"], [0.1111111111111111, \"#46039f\"], [0.2222222222222222, \"#7201a8\"], [0.3333333333333333, \"#9c179e\"], [0.4444444444444444, \"#bd3786\"], [0.5555555555555556, \"#d8576b\"], [0.6666666666666666, \"#ed7953\"], [0.7777777777777778, \"#fb9f3a\"], [0.8888888888888888, \"#fdca26\"], [1.0, \"#f0f921\"]], \"type\": \"heatmap\"}], \"heatmapgl\": [{\"colorbar\": {\"outlinewidth\": 0, \"ticks\": \"\"}, \"colorscale\": [[0.0, \"#0d0887\"], [0.1111111111111111, \"#46039f\"], [0.2222222222222222, \"#7201a8\"], [0.3333333333333333, \"#9c179e\"], [0.4444444444444444, \"#bd3786\"], [0.5555555555555556, \"#d8576b\"], [0.6666666666666666, \"#ed7953\"], [0.7777777777777778, \"#fb9f3a\"], [0.8888888888888888, \"#fdca26\"], [1.0, \"#f0f921\"]], \"type\": \"heatmapgl\"}], \"histogram\": [{\"marker\": {\"colorbar\": {\"outlinewidth\": 0, \"ticks\": \"\"}}, \"type\": \"histogram\"}], \"histogram2d\": [{\"colorbar\": {\"outlinewidth\": 0, \"ticks\": \"\"}, \"colorscale\": [[0.0, \"#0d0887\"], [0.1111111111111111, \"#46039f\"], [0.2222222222222222, \"#7201a8\"], [0.3333333333333333, \"#9c179e\"], [0.4444444444444444, \"#bd3786\"], [0.5555555555555556, \"#d8576b\"], [0.6666666666666666, \"#ed7953\"], [0.7777777777777778, \"#fb9f3a\"], [0.8888888888888888, \"#fdca26\"], [1.0, \"#f0f921\"]], \"type\": \"histogram2d\"}], \"histogram2dcontour\": [{\"colorbar\": {\"outlinewidth\": 0, \"ticks\": \"\"}, \"colorscale\": [[0.0, \"#0d0887\"], [0.1111111111111111, \"#46039f\"], [0.2222222222222222, \"#7201a8\"], [0.3333333333333333, \"#9c179e\"], [0.4444444444444444, \"#bd3786\"], [0.5555555555555556, \"#d8576b\"], [0.6666666666666666, \"#ed7953\"], [0.7777777777777778, \"#fb9f3a\"], [0.8888888888888888, \"#fdca26\"], [1.0, \"#f0f921\"]], \"type\": \"histogram2dcontour\"}], \"mesh3d\": [{\"colorbar\": {\"outlinewidth\": 0, \"ticks\": \"\"}, \"type\": \"mesh3d\"}], \"parcoords\": [{\"line\": {\"colorbar\": {\"outlinewidth\": 0, \"ticks\": \"\"}}, \"type\": \"parcoords\"}], \"pie\": [{\"automargin\": true, \"type\": \"pie\"}], \"scatter\": [{\"marker\": {\"colorbar\": {\"outlinewidth\": 0, \"ticks\": \"\"}}, \"type\": \"scatter\"}], \"scatter3d\": [{\"line\": {\"colorbar\": {\"outlinewidth\": 0, \"ticks\": \"\"}}, \"marker\": {\"colorbar\": {\"outlinewidth\": 0, \"ticks\": \"\"}}, \"type\": \"scatter3d\"}], \"scattercarpet\": [{\"marker\": {\"colorbar\": {\"outlinewidth\": 0, \"ticks\": \"\"}}, \"type\": \"scattercarpet\"}], \"scattergeo\": [{\"marker\": {\"colorbar\": {\"outlinewidth\": 0, \"ticks\": \"\"}}, \"type\": \"scattergeo\"}], \"scattergl\": [{\"marker\": {\"colorbar\": {\"outlinewidth\": 0, \"ticks\": \"\"}}, \"type\": \"scattergl\"}], \"scattermapbox\": [{\"marker\": {\"colorbar\": {\"outlinewidth\": 0, \"ticks\": \"\"}}, \"type\": \"scattermapbox\"}], \"scatterpolar\": [{\"marker\": {\"colorbar\": {\"outlinewidth\": 0, \"ticks\": \"\"}}, \"type\": \"scatterpolar\"}], \"scatterpolargl\": [{\"marker\": {\"colorbar\": {\"outlinewidth\": 0, \"ticks\": \"\"}}, \"type\": \"scatterpolargl\"}], \"scatterternary\": [{\"marker\": {\"colorbar\": {\"outlinewidth\": 0, \"ticks\": \"\"}}, \"type\": \"scatterternary\"}], \"surface\": [{\"colorbar\": {\"outlinewidth\": 0, \"ticks\": \"\"}, \"colorscale\": [[0.0, \"#0d0887\"], [0.1111111111111111, \"#46039f\"], [0.2222222222222222, \"#7201a8\"], [0.3333333333333333, \"#9c179e\"], [0.4444444444444444, \"#bd3786\"], [0.5555555555555556, \"#d8576b\"], [0.6666666666666666, \"#ed7953\"], [0.7777777777777778, \"#fb9f3a\"], [0.8888888888888888, \"#fdca26\"], [1.0, \"#f0f921\"]], \"type\": \"surface\"}], \"table\": [{\"cells\": {\"fill\": {\"color\": \"#EBF0F8\"}, \"line\": {\"color\": \"white\"}}, \"header\": {\"fill\": {\"color\": \"#C8D4E3\"}, \"line\": {\"color\": \"white\"}}, \"type\": \"table\"}]}, \"layout\": {\"annotationdefaults\": {\"arrowcolor\": \"#2a3f5f\", \"arrowhead\": 0, \"arrowwidth\": 1}, \"coloraxis\": {\"colorbar\": {\"outlinewidth\": 0, \"ticks\": \"\"}}, \"colorscale\": {\"diverging\": [[0, \"#8e0152\"], [0.1, \"#c51b7d\"], [0.2, \"#de77ae\"], [0.3, \"#f1b6da\"], [0.4, \"#fde0ef\"], [0.5, \"#f7f7f7\"], [0.6, \"#e6f5d0\"], [0.7, \"#b8e186\"], [0.8, \"#7fbc41\"], [0.9, \"#4d9221\"], [1, \"#276419\"]], \"sequential\": [[0.0, \"#0d0887\"], [0.1111111111111111, \"#46039f\"], [0.2222222222222222, \"#7201a8\"], [0.3333333333333333, \"#9c179e\"], [0.4444444444444444, \"#bd3786\"], [0.5555555555555556, \"#d8576b\"], [0.6666666666666666, \"#ed7953\"], [0.7777777777777778, \"#fb9f3a\"], [0.8888888888888888, \"#fdca26\"], [1.0, \"#f0f921\"]], \"sequentialminus\": [[0.0, \"#0d0887\"], [0.1111111111111111, \"#46039f\"], [0.2222222222222222, \"#7201a8\"], [0.3333333333333333, \"#9c179e\"], [0.4444444444444444, \"#bd3786\"], [0.5555555555555556, \"#d8576b\"], [0.6666666666666666, \"#ed7953\"], [0.7777777777777778, \"#fb9f3a\"], [0.8888888888888888, \"#fdca26\"], [1.0, \"#f0f921\"]]}, \"colorway\": [\"#636efa\", \"#EF553B\", \"#00cc96\", \"#ab63fa\", \"#FFA15A\", \"#19d3f3\", \"#FF6692\", \"#B6E880\", \"#FF97FF\", \"#FECB52\"], \"font\": {\"color\": \"#2a3f5f\"}, \"geo\": {\"bgcolor\": \"white\", \"lakecolor\": \"white\", \"landcolor\": \"#E5ECF6\", \"showlakes\": true, \"showland\": true, \"subunitcolor\": \"white\"}, \"hoverlabel\": {\"align\": \"left\"}, \"hovermode\": \"closest\", \"mapbox\": {\"style\": \"light\"}, \"paper_bgcolor\": \"white\", \"plot_bgcolor\": \"#E5ECF6\", \"polar\": {\"angularaxis\": {\"gridcolor\": \"white\", \"linecolor\": \"white\", \"ticks\": \"\"}, \"bgcolor\": \"#E5ECF6\", \"radialaxis\": {\"gridcolor\": \"white\", \"linecolor\": \"white\", \"ticks\": \"\"}}, \"scene\": {\"xaxis\": {\"backgroundcolor\": \"#E5ECF6\", \"gridcolor\": \"white\", \"gridwidth\": 2, \"linecolor\": \"white\", \"showbackground\": true, \"ticks\": \"\", \"zerolinecolor\": \"white\"}, \"yaxis\": {\"backgroundcolor\": \"#E5ECF6\", \"gridcolor\": \"white\", \"gridwidth\": 2, \"linecolor\": \"white\", \"showbackground\": true, \"ticks\": \"\", \"zerolinecolor\": \"white\"}, \"zaxis\": {\"backgroundcolor\": \"#E5ECF6\", \"gridcolor\": \"white\", \"gridwidth\": 2, \"linecolor\": \"white\", \"showbackground\": true, \"ticks\": \"\", \"zerolinecolor\": \"white\"}}, \"shapedefaults\": {\"line\": {\"color\": \"#2a3f5f\"}}, \"ternary\": {\"aaxis\": {\"gridcolor\": \"white\", \"linecolor\": \"white\", \"ticks\": \"\"}, \"baxis\": {\"gridcolor\": \"white\", \"linecolor\": \"white\", \"ticks\": \"\"}, \"bgcolor\": \"#E5ECF6\", \"caxis\": {\"gridcolor\": \"white\", \"linecolor\": \"white\", \"ticks\": \"\"}}, \"title\": {\"x\": 0.05}, \"xaxis\": {\"automargin\": true, \"gridcolor\": \"white\", \"linecolor\": \"white\", \"ticks\": \"\", \"title\": {\"standoff\": 15}, \"zerolinecolor\": \"white\", \"zerolinewidth\": 2}, \"yaxis\": {\"automargin\": true, \"gridcolor\": \"white\", \"linecolor\": \"white\", \"ticks\": \"\", \"title\": {\"standoff\": 15}, \"zerolinecolor\": \"white\", \"zerolinewidth\": 2}}}, \"xaxis\": {\"anchor\": \"y\", \"domain\": [0.0, 1.0], \"title\": {\"text\": \"date\"}}, \"yaxis\": {\"anchor\": \"x\", \"domain\": [0.0, 1.0], \"title\": {\"text\": \"meter_reading_log1p\"}}},\n",
       "                        {\"responsive\": true}\n",
       "                    ).then(function(){\n",
       "                            \n",
       "var gd = document.getElementById('eb777c8f-7097-4194-95d2-102a9b449939');\n",
       "var x = new MutationObserver(function (mutations, observer) {{\n",
       "        var display = window.getComputedStyle(gd).display;\n",
       "        if (!display || display === 'none') {{\n",
       "            console.log([gd, 'removed!']);\n",
       "            Plotly.purge(gd);\n",
       "            observer.disconnect();\n",
       "        }}\n",
       "}});\n",
       "\n",
       "// Listen for the removal of the full notebook cells\n",
       "var notebookContainer = gd.closest('#notebook-container');\n",
       "if (notebookContainer) {{\n",
       "    x.observe(notebookContainer, {childList: true});\n",
       "}}\n",
       "\n",
       "// Listen for the clearing of the current output cell\n",
       "var outputEl = gd.closest('.output');\n",
       "if (outputEl) {{\n",
       "    x.observe(outputEl, {childList: true});\n",
       "}}\n",
       "\n",
       "                        })\n",
       "                };\n",
       "                });\n",
       "            </script>\n",
       "        </div>"
      ]
     },
     "metadata": {},
     "output_type": "display_data"
    }
   ],
   "source": [
    "#full credits to - https://www.kaggle.com/corochann/ashrae-training-lgbm-by-meter-type\n",
    "\n",
    "'''This function plots the meter readings of building 0 across various months of the year'''\n",
    "\n",
    "def plot_date_usage(train_df, meter=0, building_id=0):\n",
    "    train_temp_df = train_df[train_df['meter'] == meter]\n",
    "    train_temp_df = train_temp_df[train_temp_df['building_id'] == building_id]    \n",
    "    train_temp_df_meter = train_temp_df.groupby('date')['meter_reading_log1p'].sum()\n",
    "    train_temp_df_meter = train_temp_df_meter.to_frame().reset_index()\n",
    "    fig = px.line(train_temp_df_meter, x='date', y='meter_reading_log1p')\n",
    "    fig.show()\n",
    "\n",
    "plot_date_usage(final_xtr, meter=0, building_id=0)"
   ]
  },
  {
   "cell_type": "markdown",
   "metadata": {},
   "source": [
    "\n",
    "Plot Summary  -  \n",
    "\n",
    "1. From the above plot of meter reading across the year 2016 we observe a continous streak of zeros values.\n",
    "\n",
    "\n",
    "2. There are continous zero values in the meter readings till May from January.\n",
    "\n",
    "\n",
    "3. There are some non-zero values in the plot till May.\n",
    "\n",
    "\n",
    "4. But these values too are very minute. From somewhere around mid May month we see a big jump in the meter reading. \n",
    "   Suddenly the zeros values jumps close to 130 kWh. \n",
    "   \n",
    "                 \n",
    "5. After this we observe a much stable meter reading compared to the previous months of January to May. \n",
    "\n",
    "\n",
    "6. From Mid-month of May till December the reading lies in the range of the 120kWh - 140kWh. \n",
    "\n",
    "\n",
    "7. Somewhere in December we see a sudden drop in the readings. The readings falls close to 100kWh for a short period of time        then it comes back in the range of 120 - 140kWh."
   ]
  },
  {
   "cell_type": "code",
   "execution_count": 33,
   "metadata": {},
   "outputs": [],
   "source": [
    "final_xtr = final_xtr.query('not (building_id <= 104 & meter == 0 & timestamp <= \"2016-05-20\")')"
   ]
  },
  {
   "cell_type": "code",
   "execution_count": 34,
   "metadata": {},
   "outputs": [
    {
     "name": "stdout",
     "output_type": "stream",
     "text": [
      "Number of data points in train set after data cleaning (1910532, 74)\n"
     ]
    }
   ],
   "source": [
    "print(\"Number of data points in train set after data cleaning\", final_xtr.shape)"
   ]
  },
  {
   "cell_type": "code",
   "execution_count": 35,
   "metadata": {},
   "outputs": [
    {
     "data": {
      "text/plain": [
       "(3629, 74)"
      ]
     },
     "execution_count": 35,
     "metadata": {},
     "output_type": "execute_result"
    }
   ],
   "source": [
    "final_xtr[final_xtr['meter_reading'] > 40000].shape"
   ]
  },
  {
   "cell_type": "code",
   "execution_count": 36,
   "metadata": {},
   "outputs": [],
   "source": [
    "final_xtr = final_xtr[final_xtr['meter_reading'] < 40000]"
   ]
  },
  {
   "cell_type": "code",
   "execution_count": 37,
   "metadata": {},
   "outputs": [
    {
     "data": {
      "text/plain": [
       "(1906903, 74)"
      ]
     },
     "execution_count": 37,
     "metadata": {},
     "output_type": "execute_result"
    }
   ],
   "source": [
    "final_xtr.shape"
   ]
  },
  {
   "cell_type": "markdown",
   "metadata": {},
   "source": [
    "# <a id = 'section3'>  3. EDA </font> </a>"
   ]
  },
  {
   "cell_type": "code",
   "execution_count": 40,
   "metadata": {},
   "outputs": [
    {
     "data": {
      "text/plain": [
       "count    1.906903e+06\n",
       "mean     4.309541e+02\n",
       "std      1.560995e+03\n",
       "min      0.000000e+00\n",
       "25%      1.722000e+01\n",
       "50%      7.326780e+01\n",
       "75%      2.460000e+02\n",
       "max      3.993750e+04\n",
       "Name: meter_reading, dtype: float64"
      ]
     },
     "execution_count": 40,
     "metadata": {},
     "output_type": "execute_result"
    }
   ],
   "source": [
    "#finding the raw values of the target variable \n",
    "final_xtr.meter_reading.describe()"
   ]
  },
  {
   "cell_type": "markdown",
   "metadata": {},
   "source": [
    "### 3.1 Distribution of various meter types"
   ]
  },
  {
   "cell_type": "code",
   "execution_count": 38,
   "metadata": {},
   "outputs": [
    {
     "data": {
      "text/plain": [
       "([<matplotlib.axis.XTick at 0x21974af14e0>,\n",
       "  <matplotlib.axis.XTick at 0x21975b2bd30>,\n",
       "  <matplotlib.axis.XTick at 0x21974ab0358>,\n",
       "  <matplotlib.axis.XTick at 0x219745aa6a0>],\n",
       " <a list of 4 Text xticklabel objects>)"
      ]
     },
     "execution_count": 38,
     "metadata": {},
     "output_type": "execute_result"
    },
    {
     "data": {
      "image/png": "[encoded data removed]",
      "text/plain": [
       "<Figure size 720x576 with 1 Axes>"
      ]
     },
     "metadata": {},
     "output_type": "display_data"
    }
   ],
   "source": [
    "import matplotlib.pyplot as plt\n",
    "sns.set(style=\"darkgrid\")\n",
    "fig, ax = plt.subplots(figsize=(10, 8))\n",
    "ax = train_data.groupby('meter')['building_id'].nunique().plot(kind = 'bar')\n",
    "ax.set_title('Distribution of Meter types', fontsize = 15)\n",
    "plt.xlabel('Meter Category', fontsize = 15)\n",
    "plt.ylabel('Number of Buildings', fontsize = 15)\n",
    "plt.xticks(range(4), [\"electricity\", \"coldwater\", \"steam\", \"hotwater\"], rotation=0, fontsize=13) "
   ]
  },
  {
   "cell_type": "markdown",
   "metadata": {},
   "source": [
    "Plot Summary - \n",
    "\n",
    "1. The above plot shows number of meters from each category present in the number of buildings.\n",
    "\n",
    "\n",
    "2. We observe that the electricity meter type is the most common meter type & is found in more than 1400 buildings.\n",
    "\n",
    "\n",
    "3. Cold-water meter is found in lose to 500 buildings.\n",
    "\n",
    "\n",
    "4. Steam meter type is being used in approximately 300 buildings.\n",
    "\n",
    "\n",
    "5. Hot-water is the least used meter type which is found in less than 200 buildings."
   ]
  },
  {
   "cell_type": "markdown",
   "metadata": {},
   "source": [
    "### 3.2 Meter counts across various Building types"
   ]
  },
  {
   "cell_type": "code",
   "execution_count": 39,
   "metadata": {},
   "outputs": [
    {
     "data": {
      "text/plain": [
       "(array([ 0,  1,  2,  3,  4,  5,  6,  7,  8,  9, 10, 11, 12, 13, 14, 15]),\n",
       " <a list of 16 Text yticklabel objects>)"
      ]
     },
     "execution_count": 39,
     "metadata": {},
     "output_type": "execute_result"
    },
    {
     "data": {
      "image/png": "[encoded data removed]",
      "text/plain": [
       "<Figure size 864x720 with 1 Axes>"
      ]
     },
     "metadata": {},
     "output_type": "display_data"
    }
   ],
   "source": [
    "sns.set(style=\"darkgrid\")\n",
    "fig, ax = plt.subplots(figsize=(12, 10))\n",
    "ax = (build_meta['primary_use'].value_counts(normalize='True').sort_values(ascending=True))\n",
    "ax.plot(kind = 'barh')\n",
    "plt.title('Buldings in Different Categories', fontsize = 15)\n",
    "plt.xlabel('Normalized count', fontsize = 15)\n",
    "plt.xticks(fontsize=15)\n",
    "plt.yticks(fontsize=15)"
   ]
  },
  {
   "cell_type": "markdown",
   "metadata": {},
   "source": [
    "Plot Summary - The plot above shows the normalized count of the buldings from each category \n",
    "\n",
    "\n",
    "1. More than 35% of the buildings are under educational categories.\n",
    "\n",
    "\n",
    "2. Educational category is followed by Office category being close to 20% of the total buildings.\n",
    "\n",
    "\n",
    "3. Entertainment spots & public assembly places contribute 12% - 13% of the total number of the buildings.\n",
    "\n",
    "\n",
    "4. Public services building account slightly more than 10% of all buildings.\n",
    "\n",
    "\n",
    "5. Lodging / Residential building type covers 10% of building totality.\n",
    "\n",
    "\n",
    "6. All other building categories have a much lower contribution comprising around 1 to 2 percent.\n",
    "\n",
    "\n",
    "7. Least number of buildings are found under the religious worship category."
   ]
  },
  {
   "cell_type": "markdown",
   "metadata": {},
   "source": [
    "### 3.3 Meter types found in various building categories"
   ]
  },
  {
   "cell_type": "code",
   "execution_count": 40,
   "metadata": {},
   "outputs": [
    {
     "data": {
      "text/plain": [
       "Text(0,0.5,'Energy Usage')"
      ]
     },
     "execution_count": 40,
     "metadata": {},
     "output_type": "execute_result"
    },
    {
     "data": {
      "image/png": "[encoded data removed]",
      "text/plain": [
       "<Figure size 1296x576 with 1 Axes>"
      ]
     },
     "metadata": {},
     "output_type": "display_data"
    }
   ],
   "source": [
    "# reference - https://matplotlib.org/api/pyplot_api.html\n",
    "ax=xtr.groupby(['primary_use', 'meter'])['meter_reading'].median().unstack().plot(stacked = True, kind = 'bar', figsize=(18,8))\n",
    "ax.set_title('Median of Energy consumption in each building category', fontsize = 20)\n",
    "plt.legend(labels = ['Electricity', 'chilledwater', 'steam', 'hotwater'])\n",
    "plt.xticks(fontsize=15)\n",
    "plt.yticks(fontsize=15)\n",
    "plt.xlabel('Building Category', fontsize = 18)\n",
    "plt.ylabel('Energy Usage', fontsize = 15)"
   ]
  },
  {
   "cell_type": "markdown",
   "metadata": {},
   "source": [
    "Plot Summary -  The above plot shows energy usage by different meter types in each building category \n",
    "\n",
    "\n",
    "1. From the above plot we can deduce that the electricity meter type is common in all the building categories.\n",
    "\n",
    "\n",
    "2. Obviously all the building categories need electricity to run any type of device.\n",
    "\n",
    "\n",
    "3. The second most common meter type is the chilled water meter type.\n",
    "\n",
    "\n",
    "4. After chilled water meter type the most common meter type is the steam meter.\n",
    "\n",
    "\n",
    "5. Hot water is the least found meter types.\n",
    "\n",
    "\n",
    "6. Also from the plot we observe that the steam meter consumes most electricity & hence we could say its least efficient.\n",
    "\n",
    "\n",
    "7. Whereas the electricity meter consumes the least energy amongst all the meter types.\n",
    "\n",
    "\n",
    "8. Amongst all the building categories religious places building shows least usage whereas the utilities building have the highest usage. \n",
    "\n",
    "\n",
    "9. But chilled water meter type consumes a lot of energy in the utilities buildings."
   ]
  },
  {
   "cell_type": "markdown",
   "metadata": {},
   "source": [
    "### 3.3 Median areas of  building categories"
   ]
  },
  {
   "cell_type": "code",
   "execution_count": 41,
   "metadata": {},
   "outputs": [
    {
     "data": {
      "text/plain": [
       "(array([ 0,  1,  2,  3,  4,  5,  6,  7,  8,  9, 10, 11, 12, 13, 14, 15]),\n",
       " <a list of 16 Text yticklabel objects>)"
      ]
     },
     "execution_count": 41,
     "metadata": {},
     "output_type": "execute_result"
    },
    {
     "data": {
      "image/png": "[encoded data removed]",
      "text/plain": [
       "<Figure size 720x576 with 1 Axes>"
      ]
     },
     "metadata": {},
     "output_type": "display_data"
    }
   ],
   "source": [
    "plt.figure(figsize=(10,8))\n",
    "final_xtr.groupby('primary_use')['square_feet'].median().sort_values().plot(kind = 'barh')\n",
    "plt.title('Median area of buildings in each site', fontsize = 15)\n",
    "plt.xlabel('Area', fontsize = 13)\n",
    "plt.xticks(fontsize=13, rotation=360)\n",
    "plt.yticks(fontsize=13)"
   ]
  },
  {
   "cell_type": "markdown",
   "metadata": {},
   "source": [
    "Plot Summary - The above plot shows median areas of different building categories \n",
    "\n",
    "\n",
    "1. Parking sites have the highest areas amongst all the building types which falls in the range of 250000 to 300000 square feet range.\n",
    "\n",
    "\n",
    "2. This is followed by healthcare which has area slightly more than 100000 square feets.\n",
    "\n",
    "\n",
    "3. Education buildings hava an area slightly less than 100000 square feets.\n",
    "\n",
    "\n",
    "4. Sites of Services, lodging / residential, Office, Technology & Entertainment / Public Assembly have areas in the range of 50000 to 100000 square feets.\n",
    "\n",
    "\n",
    "5. Manufacturing, Public services  & utility sites have area less than 50000 square feets.\n",
    "\n",
    "\n",
    "6. Amongst all the sites religious worship places  have the least area."
   ]
  },
  {
   "cell_type": "markdown",
   "metadata": {},
   "source": [
    "### 3.3 Median Floor count of  building categories"
   ]
  },
  {
   "cell_type": "code",
   "execution_count": 42,
   "metadata": {},
   "outputs": [
    {
     "data": {
      "text/plain": [
       "(array([0., 1., 2., 3., 4., 5., 6., 7., 8.]),\n",
       " <a list of 9 Text yticklabel objects>)"
      ]
     },
     "execution_count": 42,
     "metadata": {},
     "output_type": "execute_result"
    },
    {
     "data": {
      "image/png": "[encoded data removed]",
      "text/plain": [
       "<Figure size 720x576 with 1 Axes>"
      ]
     },
     "metadata": {},
     "output_type": "display_data"
    }
   ],
   "source": [
    "# Residential/Lodging are tallest\n",
    "plt.figure(figsize=(10,8))\n",
    "final_xtr.groupby('primary_use')['floor_count'].median().sort_values(ascending = False).plot(kind = 'bar')\n",
    "plt.title('Median floors for each building type', fontsize = 15)\n",
    "plt.xlabel('Building Category ')\n",
    "plt.ylabel('Floor Count')\n",
    "plt.xticks(fontsize=13)\n",
    "plt.yticks(fontsize=13)"
   ]
  },
  {
   "cell_type": "markdown",
   "metadata": {},
   "source": [
    "Plot Summary -  The above plot shows the median floor count of the buildings \n",
    "\n",
    "\n",
    "1. Residential buildings have the highest floor median count which has 7 floors.\n",
    "\n",
    "\n",
    "2. Technology & science buildings has a median floor count of 6.\n",
    "\n",
    "\n",
    "3. Education buildings category has median count of  4 floors.\n",
    "\n",
    "\n",
    "4. Office buildings have a median floor count of 3.\n",
    "\n",
    "\n",
    "5. Warehouse, Public services, Others,Healthcare, Entertainment / Public Assembly has floor median count of 1.\n",
    "\n",
    "   \n",
    "6. Food sales and services, religious worship & services have only ground floors."
   ]
  },
  {
   "cell_type": "markdown",
   "metadata": {},
   "source": [
    "### 3.4 Impact of Air Temperature on Energy Consumption"
   ]
  },
  {
   "cell_type": "code",
   "execution_count": 43,
   "metadata": {
    "scrolled": true
   },
   "outputs": [
    {
     "data": {
      "image/png": "[encoded data removed]",
      "text/plain": [
       "<Figure size 1008x288 with 1 Axes>"
      ]
     },
     "metadata": {},
     "output_type": "display_data"
    }
   ],
   "source": [
    "fig, ax = plt.subplots(figsize=(14, 4))\n",
    "final_xtr.groupby('air_temperature')['meter_reading'].mean().plot()\n",
    "ax.set_title('Air Temperature vs Power Consumption', fontsize = 12)\n",
    "plt.xlabel('Air Temperature', fontsize = 12)\n",
    "plt.ylabel('Energy Consumption', fontsize = 12)\n",
    "plt.show()"
   ]
  },
  {
   "cell_type": "markdown",
   "metadata": {},
   "source": [
    "Plot Summary - The above plot shows effect of energy consumption from Air temperature \n",
    "\n",
    "\n",
    "1. We observe highest energy consumption in the range of 1250 to 1750 kWh when    the air temperature range is -30 to -20 degree celsius.\n",
    "   \n",
    "\n",
    "2. From -20 to -10 degree celsius the energy consumption starts to decline &      falls in the range of 1250 to 1500 kWh.\n",
    "\n",
    "\n",
    "3. We see further decrease in the energy consumption from -10 to 0 degress & it    falls in the range of 1000 kWh to 1250 kWh. \n",
    "\n",
    "\n",
    "4. The least energy consumption is seen from 10 to 20 degree celsius 0 to 250      kWh. \n",
    "\n",
    "\n",
    "5. From 20 degrees to 30 degrees the energy consumption start to rise again\n",
    "   in the range of 500kWh to 750kWh."
   ]
  },
  {
   "cell_type": "markdown",
   "metadata": {},
   "source": [
    "### 3.5 Impact of Cloud coverage on Energy Consumption"
   ]
  },
  {
   "cell_type": "code",
   "execution_count": 44,
   "metadata": {},
   "outputs": [
    {
     "data": {
      "image/png": "[encoded data removed]",
      "text/plain": [
       "<Figure size 1008x288 with 1 Axes>"
      ]
     },
     "metadata": {},
     "output_type": "display_data"
    }
   ],
   "source": [
    "fig, ax = plt.subplots(figsize=(14, 4))\n",
    "final_xtr.groupby('cloud_coverage')['meter_reading'].mean().plot()\n",
    "ax.set_title('Cloud Coverage vs Power Consumption', fontsize = 12)\n",
    "plt.xlabel('Cloud coverage', fontsize = 12)\n",
    "plt.ylabel('Energy Consumption', fontsize = 12)\n",
    "plt.show()"
   ]
  },
  {
   "cell_type": "markdown",
   "metadata": {},
   "source": [
    " Plot Summary - The above plot shows effect of energy consumption from cloud                   coverage \n",
    " \n",
    " 1. From the above plot we see that energy consumption remains more or less in     the same range. \n",
    " \n",
    " \n",
    " 2. From this we can conclude that the cloud coverage does not has any direct       impact on the energy consumption.\n",
    " \n",
    " \n",
    " 3. We observe some higher values in the plot but it could possibly due to         present of some outlier."
   ]
  },
  {
   "cell_type": "markdown",
   "metadata": {},
   "source": [
    "### 3.5 Impact of Dew Temperature on Energy Consumption"
   ]
  },
  {
   "cell_type": "code",
   "execution_count": 44,
   "metadata": {},
   "outputs": [
    {
     "data": {
      "image/png": "[encoded data removed]",
      "text/plain": [
       "<Figure size 1008x288 with 1 Axes>"
      ]
     },
     "metadata": {},
     "output_type": "display_data"
    }
   ],
   "source": [
    "fig, ax = plt.subplots(figsize=(14, 4))\n",
    "final_xtr.groupby('dew_temperature')['meter_reading'].mean().plot()\n",
    "ax.set_title('Dew Temperature vs Power Consumption', fontsize = 12)\n",
    "plt.xlabel('Dew Temperature', fontsize = 12)\n",
    "plt.ylabel('Energy Consumption', fontsize = 12)\n",
    "plt.show()"
   ]
  },
  {
   "cell_type": "markdown",
   "metadata": {},
   "source": [
    "Plot Summary - The above plot shows effect of energy consumption from Air temperature \n",
    "\n",
    "1. The plot for Dew temperature vs Energy Consumption has the same pattern as the air_temperature.\n",
    "\n",
    "\n",
    "2. So we can conclude that the pattern for dew temperature is same as air_temperature.\n",
    "\n",
    "\n",
    "3. May be both of these features are correlated to each other & hence we are observing similar patterns in them."
   ]
  },
  {
   "cell_type": "markdown",
   "metadata": {},
   "source": [
    "### 3.6 Plotting Distribution of Target Feature"
   ]
  },
  {
   "cell_type": "code",
   "execution_count": 45,
   "metadata": {},
   "outputs": [
    {
     "data": {
      "text/plain": [
       "<matplotlib.axes._subplots.AxesSubplot at 0x21975f5de48>"
      ]
     },
     "execution_count": 45,
     "metadata": {},
     "output_type": "execute_result"
    },
    {
     "data": {
      "image/png": "[encoded data removed]",
      "text/plain": [
       "<Figure size 432x288 with 1 Axes>"
      ]
     },
     "metadata": {},
     "output_type": "display_data"
    }
   ],
   "source": [
    "sns.distplot(final_xtr[\"meter_reading\"],hist=False)"
   ]
  },
  {
   "cell_type": "markdown",
   "metadata": {},
   "source": [
    " Meter reading appears to be heavily skewed with some outliers "
   ]
  },
  {
   "cell_type": "markdown",
   "metadata": {},
   "source": [
    "#### Plotting for log normal distribution "
   ]
  },
  {
   "cell_type": "code",
   "execution_count": 46,
   "metadata": {},
   "outputs": [
    {
     "data": {
      "text/plain": [
       "<matplotlib.axes._subplots.AxesSubplot at 0x21975f835f8>"
      ]
     },
     "execution_count": 46,
     "metadata": {},
     "output_type": "execute_result"
    },
    {
     "data": {
      "image/png": "[encoded data removed]",
      "text/plain": [
       "<Figure size 432x288 with 1 Axes>"
      ]
     },
     "metadata": {},
     "output_type": "display_data"
    }
   ],
   "source": [
    "sns.distplot(final_xtr['meter_reading_log1p'])"
   ]
  },
  {
   "cell_type": "markdown",
   "metadata": {},
   "source": [
    " After converting to log normal distribution this plot seems much more workable now."
   ]
  },
  {
   "cell_type": "code",
   "execution_count": 47,
   "metadata": {},
   "outputs": [
    {
     "name": "stdout",
     "output_type": "stream",
     "text": [
      " The 0 percentile value of meter reading is 0.0\n",
      " The 10 percentile value of meter reading is 1.524999976158142\n",
      " The 20 percentile value of meter reading is 12.970000267028809\n",
      " The 30 percentile value of meter reading is 28.25\n",
      " The 40 percentile value of meter reading is 49.97999954223633\n",
      " The 50 percentile value of meter reading is 81.83329772949219\n",
      " The 60 percentile value of meter reading is 128.9510040283203\n",
      " The 70 percentile value of meter reading is 206.22900390625\n",
      " The 80 percentile value of meter reading is 376.6549987792969\n",
      " The 90 percentile value of meter reading is 809.780029296875\n",
      "The 100 percentile value of meter reading is 39987.5\n"
     ]
    }
   ],
   "source": [
    "for i in range(0,100,10):\n",
    "    var = final_xtr[\"meter_reading\"].values\n",
    "    var = np.sort(var, axis = None)\n",
    "    print(\" The {} percentile value of meter reading is {}\".format(i, var[int(len(var)*(float(i)/100))]))\n",
    "print(\"The 100 percentile value of meter reading is\", var[-1])"
   ]
  },
  {
   "cell_type": "markdown",
   "metadata": {},
   "source": [
    " Looks like we have some few high values near the 100th percentile."
   ]
  },
  {
   "cell_type": "code",
   "execution_count": 48,
   "metadata": {},
   "outputs": [
    {
     "name": "stdout",
     "output_type": "stream",
     "text": [
      " The 90 percentile value of meter reading is 809.780029296875\n",
      " The 91 percentile value of meter reading is 902.2109985351562\n",
      " The 92 percentile value of meter reading is 1007.2999877929688\n",
      " The 93 percentile value of meter reading is 1150.43994140625\n",
      " The 94 percentile value of meter reading is 1337.239990234375\n",
      " The 95 percentile value of meter reading is 1579.969970703125\n",
      " The 96 percentile value of meter reading is 1930.9200439453125\n",
      " The 97 percentile value of meter reading is 2472.199951171875\n",
      " The 98 percentile value of meter reading is 3343.070068359375\n",
      " The 99 percentile value of meter reading is 5207.7001953125\n",
      "The 100 percentile value of meter reading is 39987.5\n"
     ]
    }
   ],
   "source": [
    "for i in range(90,100):\n",
    "    var = final_xtr[\"meter_reading\"].values\n",
    "    var = np.sort(var, axis = None)\n",
    "    print(\" The {} percentile value of meter reading is {}\".format(i, var[int(len(var)*(float(i)/100))]))\n",
    "print(\"The 100 percentile value of meter reading is\", var[-1])"
   ]
  },
  {
   "cell_type": "markdown",
   "metadata": {},
   "source": [
    " Even going from 90th to 100 percentile the values seem reasonable till 99th percentile."
   ]
  },
  {
   "cell_type": "code",
   "execution_count": 49,
   "metadata": {},
   "outputs": [
    {
     "name": "stdout",
     "output_type": "stream",
     "text": [
      " The 99.0 percentile value of meter reading is 5207.7001953125\n",
      " The 99.1 percentile value of meter reading is 5529.56005859375\n",
      " The 99.2 percentile value of meter reading is 5882.81005859375\n",
      " The 99.3 percentile value of meter reading is 6373.759765625\n",
      " The 99.4 percentile value of meter reading is 7091.33984375\n",
      " The 99.5 percentile value of meter reading is 8064.27978515625\n",
      " The 99.6 percentile value of meter reading is 9632.8095703125\n",
      " The 99.7 percentile value of meter reading is 11718.7998046875\n",
      " The 99.8 percentile value of meter reading is 14724.2001953125\n",
      " The 99.9 percentile value of meter reading is 21634.400390625\n",
      "The 100 percentile value of meter reading is 39987.5\n"
     ]
    }
   ],
   "source": [
    "for i in np.arange(0.0, 1.0, 0.1):\n",
    "    var = final_xtr[\"meter_reading\"].values\n",
    "    var = np.sort(var, axis = None)\n",
    "    print(\" The {} percentile value of meter reading is {}\".format(99+i, var[int(len(var)*(float(99+i)/100))]))\n",
    "print(\"The 100 percentile value of meter reading is\", var[-1])"
   ]
  },
  {
   "cell_type": "markdown",
   "metadata": {},
   "source": [
    " The 99.8th percentile value to 100th percentile values seems to large & potentially could be outliers.So we will be removing these extreme values."
   ]
  },
  {
   "cell_type": "code",
   "execution_count": 38,
   "metadata": {},
   "outputs": [
    {
     "data": {
      "text/plain": [
       "(1906903, 74)"
      ]
     },
     "execution_count": 38,
     "metadata": {},
     "output_type": "execute_result"
    }
   ],
   "source": [
    "final_xtr.shape"
   ]
  },
  {
   "cell_type": "code",
   "execution_count": 39,
   "metadata": {},
   "outputs": [],
   "source": [
    "# code source - https://nbviewer.jupyter.org/github/stevensmiley1989/ASHRAE-for-ML/blob/master/Part-2-And.ipynb\n",
    "final_xtr=final_xtr.drop((final_xtr.loc[final_xtr['meter_reading'] > 1.5e+04])['meter_reading'].index)"
   ]
  },
  {
   "cell_type": "code",
   "execution_count": 40,
   "metadata": {},
   "outputs": [
    {
     "data": {
      "text/plain": [
       "(1901988, 74)"
      ]
     },
     "execution_count": 40,
     "metadata": {},
     "output_type": "execute_result"
    }
   ],
   "source": [
    "final_xtr.shape"
   ]
  },
  {
   "cell_type": "markdown",
   "metadata": {},
   "source": [
    "### 3.7 Steps Followed for EDA :-"
   ]
  },
  {
   "cell_type": "markdown",
   "metadata": {},
   "source": [
    "1. We started with finding the range & details about the target variable likecount, mean, min value, max value etc.\n",
    "\n",
    "\n",
    "2. We plotted for the distribution of meter types & found the number of buildings for each meter type.\n",
    "\n",
    "\n",
    "3. Then we found the number of building in different in each catefory like educational buildings,\n",
    "   offices etc.\n",
    "    \n",
    "    \n",
    "4. Then we plotted to find which type of meter consumes what amount of electricity in each building type.\n",
    "\n",
    "\n",
    "5. After this we plotted the areas of the building acccording to their primary use.\n",
    "\n",
    "\n",
    "6. Then we plotted the median areas of the buildings & their floor count.\n",
    "\n",
    "\n",
    "7. Then we plotted the impact of weather related features like air temperature, dew temperature,\n",
    "   cloud coverage etc on the energy consumption.\n",
    "    \n",
    "    \n",
    "8. Then we changed the distribution of target variable to log normal to reduce the skewness of the target variable.\n",
    "\n",
    "\n",
    "9. Then we found the percentile values of the target variables to remove outliers from the target radings."
   ]
  },
  {
   "cell_type": "markdown",
   "metadata": {},
   "source": [
    "### 3.8 Inference from EDA"
   ]
  },
  {
   "cell_type": "markdown",
   "metadata": {},
   "source": [
    "1. The electricity type meter is found in the most of the buildings followed by cold water, steam & hot water.\n",
    "\n",
    "\n",
    "\n",
    "2. The top five buildings types with most number of meters are :- \n",
    "   i. Educational Buildings\n",
    "   \n",
    "   ii. Office Buildings \n",
    "   \n",
    "   iii. Entertainment / Public Assembly \n",
    "   \n",
    "   iv. Public Services\n",
    "   \n",
    "   v. Lodging / Residential \n",
    "\n",
    "\n",
    "\n",
    "3. The steam meter type is the most inefficient meter type as it consumes most energy comapared to other meter types.\n",
    "\n",
    "\n",
    "\n",
    "4. After the steam type meter chilled water meter type is the least efficient meter type. Electricity meter type is the most efficient amongst all.\n",
    "\n",
    "\n",
    "\n",
    "5. Considering all the weather related features the energy consumption is lower when the temperatures are optimal. \n",
    "\n",
    "\n",
    "\n",
    "6. Too low Air temperature causes very higher energy consumption.Cloud coverage does not has much impact on the energy consumption.\n",
    "\n",
    "\n",
    "\n",
    "7. The target variable meter reading is skewed so we convert it to log normal to reduce the skewness of the data.\n",
    "\n",
    "\n",
    "\n",
    "8. By finding the percentile values of the meter readings we further remove some outliers from the data."
   ]
  },
  {
   "cell_type": "markdown",
   "metadata": {},
   "source": [
    "### 3.9 Assumptions regarding the data"
   ]
  },
  {
   "cell_type": "markdown",
   "metadata": {},
   "source": [
    "1. The target variable i.e meter reading is skewed so we took log of meter reading varaible.\n",
    "\n",
    "\n",
    "2. Floor count & built year features have a vey high percentage of missing values so we are not using them for any analysis or modelling.\n",
    "\n",
    "\n",
    "3. Meter readings with value of more than 40000kWh seems exceptionally large so we dropped all the datapoints which had values more than 40000kWh. "
   ]
  }
 ],
 "metadata": {
  "kernelspec": {
   "display_name": "Python 3",
   "language": "python",
   "name": "python3"
  },
  "language_info": {
   "codemirror_mode": {
    "name": "ipython",
    "version": 3
   },
   "file_extension": ".py",
   "mimetype": "text/x-python",
   "name": "python",
   "nbconvert_exporter": "python",
   "pygments_lexer": "ipython3",
   "version": "3.6.5"
  }
 },
 "nbformat": 4,
 "nbformat_minor": 2
}
